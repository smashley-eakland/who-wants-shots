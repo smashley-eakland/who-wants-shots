{
 "cells": [
  {
   "cell_type": "markdown",
   "metadata": {},
   "source": [
    "# Who Wants Shots? Special H1N1 Edition\n",
    "<center> <img src=\"./Images/myriam-zilles-Ep941iDLwhk-unsplash.jpg\" alt=\"Sick Stuffy\" width=\"800\"/> </center>\n",
    "<center> Photo by <a href=\"https://unsplash.com/@myriamzilles?utm_source=unsplash&utm_medium=referral&utm_content=creditCopyText\">Myriam Zilles</a> on <a href=\"https://unsplash.com/collections/IUPhDJeZav4/flu-vaccination-social?utm_source=unsplash&utm_medium=referral&utm_content=creditCopyText\">Unsplash</a> </center>\n",
    "  \n",
    "### Not that kind! \n",
    "\n",
    "\n",
    "Utilizing data courtesy of the United States National Center for Health Statistics, I hope to be able to predict whether or not a given citizen will choose to be vaccinated based on existing patterns from past survey results. \n",
    "\n",
    "Stakeholder: Small research firm on behalf of the Office of Infectious Diseases (subdivision of the US Department of Health and Human Services).\n",
    "\n",
    "Business Problem: Guiding public health efforts with regard to vaccination status based on underlying patterns in the opinions, backgrounds, educations and other factors in the general population. \n",
    "\n",
    "##### Target Variable - H1N1 Flu Vaccine \n",
    "\n",
    "##### Target Metric(s) - Accuracy Percentage, AUC, Precision - Precision is targeted as in this scenario, a False Positive would be worse than a False Negative.\n",
    "    * False Positive -> Precision Score -> Predicts Vaccinated, Citizen was Un-vaccinated. \n",
    "    * False Negative -> Recall Score -> Predicts Un-vaccinated, Citizen was vaccinated. \n",
    "\n",
    "##### Null Hypothesis: Predicting if a citizen will get vaccinated based on behaviors and underlying patterns from survey data will be no more accurate than a 50/50 guess. (H0 accuracy = 50%)\n",
    "\n",
    "##### Alt Hypothesis: Predicting if a citizen will get vaccinated based on behaviors and underlying patterns from survey data will exceed accuracy of random guessing. (HA accuracy > 50%)\n",
    "\n",
    "\n",
    "AUC Score Breakdown:\n",
    "\n",
    "0.5 = No discrimination \n",
    "\n",
    "0.5-0.7 = Poor discrimination\n",
    "\n",
    "0.7-0.8 = Acceptable discrimination\n",
    "\n",
    "0.8-0.9= Excellent discrimination\n",
    "\n",
    "Greater than 0.9 = Outstanding discrimination\n"
   ]
  },
  {
   "cell_type": "markdown",
   "metadata": {},
   "source": [
    "## Data Understanding\n",
    "Here we have a dataset provided by the US National Center for Health Statistics. The merged dataframe consists of 26,707 survey responses to 37 questions. Some questions were not answered by the respondents. \n",
    "\n",
    "Columns represent the questions asked in the survey, while rows represent the survey respondents. \n",
    "\n",
    "Survey questions/column headers are as follows:\n",
    " * respondent_id - Number assigned to survey respondent\n",
    " * h1n1_concern - Level of concern about the H1N1 flu. \n",
    "     * Ranked from 0 (not at all concerned) to 3 (very concerned).\n",
    " * h1n1_knowledge - Level of knowledge about H1N1 flu. \n",
    "     * Ranked from 0 (no knowledge) to 2 (a lot of knowledge).\n",
    " * behavioral_antiviral_meds - Has respondent taken antiviral medication? Yes/No (binary)\n",
    " * behavioral_avoidance - Has respondent avoided close contact with others with flu-like symptoms? Yes/No (binary)\n",
    " * behavioral_face_mask - Has respondent bought a face mask? Yes/No (binary)\n",
    " * behavioral_wash_hands - Has respondent frequently washed hands or used hand sanitizer? Yes/No (binary)\n",
    " * behavioral_large_gatherings - Has respondent reduced time at large gatherings? Yes/No (binary)\n",
    " * behavioral_outside_home - Has respondent reduced contact with people outside of own household? Yes/No (binary)\n",
    " * behavioral_touch_face - Has respondent avoided touching face(including eyes, nose, mouth, etc)? Yes/No (binary)\n",
    " * doctor_recc_h1n1 - Was H1N1 flu vaccine recommended by doctor? Yes/No (binary) \n",
    " * doctor_recc_seasonal - Was Seasonal flu vaccine recommended by doctor? Yes/No (binary) (Omitted from this H1N1 predictive analysis)\n",
    " * chronic_med_condition - Does respondent have chronic medical condition? Yes/No (binary) Conditions include: asthma or other lung condition, diabetes, heart condition, kidney condition, sickle cell anemia or other anemia, a neurological or neuromuscular condition, liver condition, or a weakened immune system caused by a chronic illness or by medicines taken for a chronic illness. \n",
    " * child_under_6_months - Does respondent have regular close contact with a child under the age of six months? Yes/No (binary)\n",
    " * health_worker - Is respondent a healthcare worker? Yes/No (binary)\n",
    " * health_insurance - Does respondent have health insurance? Yes/No (binary)\n",
    " * opinion_h1n1_vacc_effective - Respondent's personal opinion about H1N1 vaccine effectiveness \n",
    "     * Ranked from 1 (not at all effective) to 5 (very effective).\n",
    " * opinion_h1n1_risk - Respondent's personal opinion about risk of getting sick with H1N1 flu without vaccine \n",
    "     * Ranked from 1 (very low) to 5 (very high)\n",
    " * opinion_h1n1_sick_from_vacc - Respondent's worry of getting sick from taking H1N1 vaccine \n",
    "     * Ranked from 1 (not at all worried) to 5 (very worried)\n",
    " * opinion_seas_vacc_effective - Respondent's personal opinion about seasonal flu vaccine effectiveness (Omitted from this H1N1 predictive analysis)\n",
    "     * Ranked from 1 (not at all effective) to 5 (very effective)\n",
    " * opinion_seas_risk - Respondent's personal opinion about risk of getting sick with seasonal flu without vaccine (Omitted from this H1N1 predictive analysis)\n",
    "     * Ranked from 1 (very low) to 5 (very high)\n",
    " * opinion_seas_sick_from_vacc - Respondent's worry of getting sick from taking seasonal flu vaccine (Omitted from this H1N1 predictive analysis)\n",
    "     * Ranked from 1 (not at all worried) to 5 (very worried).\n",
    " * age_group - Age group of respondent - Ranges are 18-34, 35-44, 45-54, 55-64, and 65+ Years.\n",
    " * education - Self-reported education level. Less than 12 years, 12 years, Some College, or College Graduate.\n",
    " * race - Race of respondent. White, Black, Hispanic, and Other/Multiple.\n",
    " * sex - Sex of respondent. Male or Female \n",
    " * income_poverty - Respondent annual household income with respect to 2008 Census poverty thresholds.\n",
    "     * \"Below Poverty\", \"<= \\\\$75,000 Above Poverty\" , or \"> \\\\$75,000\"\n",
    " * marital_status - Marital status of respondent.\n",
    "     * Married or Not Married\n",
    " * rent_or_own - Housing situation of respondent.\n",
    "     * Rent or Own\n",
    " * employment_status - Employment status of respondent.\n",
    "     * Employed, Not in Labor Force, or Unemployed\n",
    " * hhs_geo_region - Respondent's residence using a 10-region geographic classification defined by the U.S. Dept. of Health and Human Services. Values are represented as short random character strings.\n",
    " * census_msa - Respondent's residence within metropolitan statistical areas (MSA) as defined by the U.S. Census.\n",
    " * household_adults - Number of OTHER adults in household, responses range 0 through 3.\n",
    " * household_children - Number of children in household, responses range 0 to 3.\n",
    " * employment_industry - Industry respondent is employed in. Values are represented as random, encoded character strings.\n",
    " * employment_occupation - Occupation of respondent. Values are represented as random, encoded character strings.\n",
    " * h1n1_vaccine - Target Variable for H1N1 predictive analysis \n",
    " * seasonal_vaccine - Target Variable for seasonal flu predictive analysis (Omitted from this H1N1 predictive analysis)"
   ]
  },
  {
   "cell_type": "code",
   "execution_count": 2,
   "metadata": {},
   "outputs": [],
   "source": [
    "import pandas as pd\n",
    "import numpy as np\n",
    "from sklearn.preprocessing import StandardScaler, OneHotEncoder\n",
    "from sklearn.compose import ColumnTransformer\n",
    "from sklearn.neighbors import KNeighborsClassifier\n",
    "from sklearn.model_selection import train_test_split, GridSearchCV\n",
    "from sklearn.ensemble import RandomForestClassifier\n",
    "from sklearn.pipeline import Pipeline, FeatureUnion\n",
    "from sklearn.impute import SimpleImputer\n",
    "import matplotlib.pyplot as plt \n",
    "%matplotlib inline\n",
    "import warnings\n",
    "warnings.filterwarnings('ignore')"
   ]
  },
  {
   "cell_type": "code",
   "execution_count": 3,
   "metadata": {},
   "outputs": [
    {
     "data": {
      "text/html": [
       "<div>\n",
       "<style scoped>\n",
       "    .dataframe tbody tr th:only-of-type {\n",
       "        vertical-align: middle;\n",
       "    }\n",
       "\n",
       "    .dataframe tbody tr th {\n",
       "        vertical-align: top;\n",
       "    }\n",
       "\n",
       "    .dataframe thead th {\n",
       "        text-align: right;\n",
       "    }\n",
       "</style>\n",
       "<table border=\"1\" class=\"dataframe\">\n",
       "  <thead>\n",
       "    <tr style=\"text-align: right;\">\n",
       "      <th></th>\n",
       "      <th>respondent_id</th>\n",
       "      <th>h1n1_vaccine</th>\n",
       "      <th>seasonal_vaccine</th>\n",
       "    </tr>\n",
       "  </thead>\n",
       "  <tbody>\n",
       "    <tr>\n",
       "      <th>0</th>\n",
       "      <td>0</td>\n",
       "      <td>0</td>\n",
       "      <td>0</td>\n",
       "    </tr>\n",
       "    <tr>\n",
       "      <th>1</th>\n",
       "      <td>1</td>\n",
       "      <td>0</td>\n",
       "      <td>1</td>\n",
       "    </tr>\n",
       "    <tr>\n",
       "      <th>2</th>\n",
       "      <td>2</td>\n",
       "      <td>0</td>\n",
       "      <td>0</td>\n",
       "    </tr>\n",
       "    <tr>\n",
       "      <th>3</th>\n",
       "      <td>3</td>\n",
       "      <td>0</td>\n",
       "      <td>1</td>\n",
       "    </tr>\n",
       "    <tr>\n",
       "      <th>4</th>\n",
       "      <td>4</td>\n",
       "      <td>0</td>\n",
       "      <td>0</td>\n",
       "    </tr>\n",
       "    <tr>\n",
       "      <th>...</th>\n",
       "      <td>...</td>\n",
       "      <td>...</td>\n",
       "      <td>...</td>\n",
       "    </tr>\n",
       "    <tr>\n",
       "      <th>26702</th>\n",
       "      <td>26702</td>\n",
       "      <td>0</td>\n",
       "      <td>0</td>\n",
       "    </tr>\n",
       "    <tr>\n",
       "      <th>26703</th>\n",
       "      <td>26703</td>\n",
       "      <td>0</td>\n",
       "      <td>0</td>\n",
       "    </tr>\n",
       "    <tr>\n",
       "      <th>26704</th>\n",
       "      <td>26704</td>\n",
       "      <td>0</td>\n",
       "      <td>1</td>\n",
       "    </tr>\n",
       "    <tr>\n",
       "      <th>26705</th>\n",
       "      <td>26705</td>\n",
       "      <td>0</td>\n",
       "      <td>0</td>\n",
       "    </tr>\n",
       "    <tr>\n",
       "      <th>26706</th>\n",
       "      <td>26706</td>\n",
       "      <td>0</td>\n",
       "      <td>0</td>\n",
       "    </tr>\n",
       "  </tbody>\n",
       "</table>\n",
       "<p>26707 rows × 3 columns</p>\n",
       "</div>"
      ],
      "text/plain": [
       "       respondent_id  h1n1_vaccine  seasonal_vaccine\n",
       "0                  0             0                 0\n",
       "1                  1             0                 1\n",
       "2                  2             0                 0\n",
       "3                  3             0                 1\n",
       "4                  4             0                 0\n",
       "...              ...           ...               ...\n",
       "26702          26702             0                 0\n",
       "26703          26703             0                 0\n",
       "26704          26704             0                 1\n",
       "26705          26705             0                 0\n",
       "26706          26706             0                 0\n",
       "\n",
       "[26707 rows x 3 columns]"
      ]
     },
     "execution_count": 3,
     "metadata": {},
     "output_type": "execute_result"
    }
   ],
   "source": [
    "labels = pd.read_csv('Data/training_set_labels.csv')\n",
    "labels"
   ]
  },
  {
   "cell_type": "code",
   "execution_count": 4,
   "metadata": {},
   "outputs": [
    {
     "data": {
      "text/html": [
       "<div>\n",
       "<style scoped>\n",
       "    .dataframe tbody tr th:only-of-type {\n",
       "        vertical-align: middle;\n",
       "    }\n",
       "\n",
       "    .dataframe tbody tr th {\n",
       "        vertical-align: top;\n",
       "    }\n",
       "\n",
       "    .dataframe thead th {\n",
       "        text-align: right;\n",
       "    }\n",
       "</style>\n",
       "<table border=\"1\" class=\"dataframe\">\n",
       "  <thead>\n",
       "    <tr style=\"text-align: right;\">\n",
       "      <th></th>\n",
       "      <th>respondent_id</th>\n",
       "      <th>h1n1_concern</th>\n",
       "      <th>h1n1_knowledge</th>\n",
       "      <th>behavioral_antiviral_meds</th>\n",
       "      <th>behavioral_avoidance</th>\n",
       "      <th>behavioral_face_mask</th>\n",
       "      <th>behavioral_wash_hands</th>\n",
       "      <th>behavioral_large_gatherings</th>\n",
       "      <th>behavioral_outside_home</th>\n",
       "      <th>behavioral_touch_face</th>\n",
       "      <th>...</th>\n",
       "      <th>income_poverty</th>\n",
       "      <th>marital_status</th>\n",
       "      <th>rent_or_own</th>\n",
       "      <th>employment_status</th>\n",
       "      <th>hhs_geo_region</th>\n",
       "      <th>census_msa</th>\n",
       "      <th>household_adults</th>\n",
       "      <th>household_children</th>\n",
       "      <th>employment_industry</th>\n",
       "      <th>employment_occupation</th>\n",
       "    </tr>\n",
       "  </thead>\n",
       "  <tbody>\n",
       "    <tr>\n",
       "      <th>0</th>\n",
       "      <td>0</td>\n",
       "      <td>1.0</td>\n",
       "      <td>0.0</td>\n",
       "      <td>0.0</td>\n",
       "      <td>0.0</td>\n",
       "      <td>0.0</td>\n",
       "      <td>0.0</td>\n",
       "      <td>0.0</td>\n",
       "      <td>1.0</td>\n",
       "      <td>1.0</td>\n",
       "      <td>...</td>\n",
       "      <td>Below Poverty</td>\n",
       "      <td>Not Married</td>\n",
       "      <td>Own</td>\n",
       "      <td>Not in Labor Force</td>\n",
       "      <td>oxchjgsf</td>\n",
       "      <td>Non-MSA</td>\n",
       "      <td>0.0</td>\n",
       "      <td>0.0</td>\n",
       "      <td>NaN</td>\n",
       "      <td>NaN</td>\n",
       "    </tr>\n",
       "    <tr>\n",
       "      <th>1</th>\n",
       "      <td>1</td>\n",
       "      <td>3.0</td>\n",
       "      <td>2.0</td>\n",
       "      <td>0.0</td>\n",
       "      <td>1.0</td>\n",
       "      <td>0.0</td>\n",
       "      <td>1.0</td>\n",
       "      <td>0.0</td>\n",
       "      <td>1.0</td>\n",
       "      <td>1.0</td>\n",
       "      <td>...</td>\n",
       "      <td>Below Poverty</td>\n",
       "      <td>Not Married</td>\n",
       "      <td>Rent</td>\n",
       "      <td>Employed</td>\n",
       "      <td>bhuqouqj</td>\n",
       "      <td>MSA, Not Principle  City</td>\n",
       "      <td>0.0</td>\n",
       "      <td>0.0</td>\n",
       "      <td>pxcmvdjn</td>\n",
       "      <td>xgwztkwe</td>\n",
       "    </tr>\n",
       "    <tr>\n",
       "      <th>2</th>\n",
       "      <td>2</td>\n",
       "      <td>1.0</td>\n",
       "      <td>1.0</td>\n",
       "      <td>0.0</td>\n",
       "      <td>1.0</td>\n",
       "      <td>0.0</td>\n",
       "      <td>0.0</td>\n",
       "      <td>0.0</td>\n",
       "      <td>0.0</td>\n",
       "      <td>0.0</td>\n",
       "      <td>...</td>\n",
       "      <td>&lt;= $75,000, Above Poverty</td>\n",
       "      <td>Not Married</td>\n",
       "      <td>Own</td>\n",
       "      <td>Employed</td>\n",
       "      <td>qufhixun</td>\n",
       "      <td>MSA, Not Principle  City</td>\n",
       "      <td>2.0</td>\n",
       "      <td>0.0</td>\n",
       "      <td>rucpziij</td>\n",
       "      <td>xtkaffoo</td>\n",
       "    </tr>\n",
       "    <tr>\n",
       "      <th>3</th>\n",
       "      <td>3</td>\n",
       "      <td>1.0</td>\n",
       "      <td>1.0</td>\n",
       "      <td>0.0</td>\n",
       "      <td>1.0</td>\n",
       "      <td>0.0</td>\n",
       "      <td>1.0</td>\n",
       "      <td>1.0</td>\n",
       "      <td>0.0</td>\n",
       "      <td>0.0</td>\n",
       "      <td>...</td>\n",
       "      <td>Below Poverty</td>\n",
       "      <td>Not Married</td>\n",
       "      <td>Rent</td>\n",
       "      <td>Not in Labor Force</td>\n",
       "      <td>lrircsnp</td>\n",
       "      <td>MSA, Principle City</td>\n",
       "      <td>0.0</td>\n",
       "      <td>0.0</td>\n",
       "      <td>NaN</td>\n",
       "      <td>NaN</td>\n",
       "    </tr>\n",
       "    <tr>\n",
       "      <th>4</th>\n",
       "      <td>4</td>\n",
       "      <td>2.0</td>\n",
       "      <td>1.0</td>\n",
       "      <td>0.0</td>\n",
       "      <td>1.0</td>\n",
       "      <td>0.0</td>\n",
       "      <td>1.0</td>\n",
       "      <td>1.0</td>\n",
       "      <td>0.0</td>\n",
       "      <td>1.0</td>\n",
       "      <td>...</td>\n",
       "      <td>&lt;= $75,000, Above Poverty</td>\n",
       "      <td>Married</td>\n",
       "      <td>Own</td>\n",
       "      <td>Employed</td>\n",
       "      <td>qufhixun</td>\n",
       "      <td>MSA, Not Principle  City</td>\n",
       "      <td>1.0</td>\n",
       "      <td>0.0</td>\n",
       "      <td>wxleyezf</td>\n",
       "      <td>emcorrxb</td>\n",
       "    </tr>\n",
       "    <tr>\n",
       "      <th>...</th>\n",
       "      <td>...</td>\n",
       "      <td>...</td>\n",
       "      <td>...</td>\n",
       "      <td>...</td>\n",
       "      <td>...</td>\n",
       "      <td>...</td>\n",
       "      <td>...</td>\n",
       "      <td>...</td>\n",
       "      <td>...</td>\n",
       "      <td>...</td>\n",
       "      <td>...</td>\n",
       "      <td>...</td>\n",
       "      <td>...</td>\n",
       "      <td>...</td>\n",
       "      <td>...</td>\n",
       "      <td>...</td>\n",
       "      <td>...</td>\n",
       "      <td>...</td>\n",
       "      <td>...</td>\n",
       "      <td>...</td>\n",
       "      <td>...</td>\n",
       "    </tr>\n",
       "    <tr>\n",
       "      <th>26702</th>\n",
       "      <td>26702</td>\n",
       "      <td>2.0</td>\n",
       "      <td>0.0</td>\n",
       "      <td>0.0</td>\n",
       "      <td>1.0</td>\n",
       "      <td>0.0</td>\n",
       "      <td>0.0</td>\n",
       "      <td>0.0</td>\n",
       "      <td>1.0</td>\n",
       "      <td>0.0</td>\n",
       "      <td>...</td>\n",
       "      <td>&lt;= $75,000, Above Poverty</td>\n",
       "      <td>Not Married</td>\n",
       "      <td>Own</td>\n",
       "      <td>Not in Labor Force</td>\n",
       "      <td>qufhixun</td>\n",
       "      <td>Non-MSA</td>\n",
       "      <td>0.0</td>\n",
       "      <td>0.0</td>\n",
       "      <td>NaN</td>\n",
       "      <td>NaN</td>\n",
       "    </tr>\n",
       "    <tr>\n",
       "      <th>26703</th>\n",
       "      <td>26703</td>\n",
       "      <td>1.0</td>\n",
       "      <td>2.0</td>\n",
       "      <td>0.0</td>\n",
       "      <td>1.0</td>\n",
       "      <td>0.0</td>\n",
       "      <td>1.0</td>\n",
       "      <td>0.0</td>\n",
       "      <td>0.0</td>\n",
       "      <td>0.0</td>\n",
       "      <td>...</td>\n",
       "      <td>&lt;= $75,000, Above Poverty</td>\n",
       "      <td>Not Married</td>\n",
       "      <td>Rent</td>\n",
       "      <td>Employed</td>\n",
       "      <td>lzgpxyit</td>\n",
       "      <td>MSA, Principle City</td>\n",
       "      <td>1.0</td>\n",
       "      <td>0.0</td>\n",
       "      <td>fcxhlnwr</td>\n",
       "      <td>cmhcxjea</td>\n",
       "    </tr>\n",
       "    <tr>\n",
       "      <th>26704</th>\n",
       "      <td>26704</td>\n",
       "      <td>2.0</td>\n",
       "      <td>2.0</td>\n",
       "      <td>0.0</td>\n",
       "      <td>1.0</td>\n",
       "      <td>1.0</td>\n",
       "      <td>1.0</td>\n",
       "      <td>1.0</td>\n",
       "      <td>0.0</td>\n",
       "      <td>1.0</td>\n",
       "      <td>...</td>\n",
       "      <td>NaN</td>\n",
       "      <td>Not Married</td>\n",
       "      <td>Own</td>\n",
       "      <td>NaN</td>\n",
       "      <td>lzgpxyit</td>\n",
       "      <td>MSA, Not Principle  City</td>\n",
       "      <td>0.0</td>\n",
       "      <td>0.0</td>\n",
       "      <td>NaN</td>\n",
       "      <td>NaN</td>\n",
       "    </tr>\n",
       "    <tr>\n",
       "      <th>26705</th>\n",
       "      <td>26705</td>\n",
       "      <td>1.0</td>\n",
       "      <td>1.0</td>\n",
       "      <td>0.0</td>\n",
       "      <td>0.0</td>\n",
       "      <td>0.0</td>\n",
       "      <td>0.0</td>\n",
       "      <td>0.0</td>\n",
       "      <td>0.0</td>\n",
       "      <td>NaN</td>\n",
       "      <td>...</td>\n",
       "      <td>&lt;= $75,000, Above Poverty</td>\n",
       "      <td>Married</td>\n",
       "      <td>Rent</td>\n",
       "      <td>Employed</td>\n",
       "      <td>lrircsnp</td>\n",
       "      <td>Non-MSA</td>\n",
       "      <td>1.0</td>\n",
       "      <td>0.0</td>\n",
       "      <td>fcxhlnwr</td>\n",
       "      <td>haliazsg</td>\n",
       "    </tr>\n",
       "    <tr>\n",
       "      <th>26706</th>\n",
       "      <td>26706</td>\n",
       "      <td>0.0</td>\n",
       "      <td>0.0</td>\n",
       "      <td>0.0</td>\n",
       "      <td>1.0</td>\n",
       "      <td>0.0</td>\n",
       "      <td>0.0</td>\n",
       "      <td>0.0</td>\n",
       "      <td>0.0</td>\n",
       "      <td>0.0</td>\n",
       "      <td>...</td>\n",
       "      <td>&lt;= $75,000, Above Poverty</td>\n",
       "      <td>Married</td>\n",
       "      <td>Own</td>\n",
       "      <td>Not in Labor Force</td>\n",
       "      <td>mlyzmhmf</td>\n",
       "      <td>MSA, Principle City</td>\n",
       "      <td>1.0</td>\n",
       "      <td>0.0</td>\n",
       "      <td>NaN</td>\n",
       "      <td>NaN</td>\n",
       "    </tr>\n",
       "  </tbody>\n",
       "</table>\n",
       "<p>26707 rows × 36 columns</p>\n",
       "</div>"
      ],
      "text/plain": [
       "       respondent_id  h1n1_concern  h1n1_knowledge  behavioral_antiviral_meds  \\\n",
       "0                  0           1.0             0.0                        0.0   \n",
       "1                  1           3.0             2.0                        0.0   \n",
       "2                  2           1.0             1.0                        0.0   \n",
       "3                  3           1.0             1.0                        0.0   \n",
       "4                  4           2.0             1.0                        0.0   \n",
       "...              ...           ...             ...                        ...   \n",
       "26702          26702           2.0             0.0                        0.0   \n",
       "26703          26703           1.0             2.0                        0.0   \n",
       "26704          26704           2.0             2.0                        0.0   \n",
       "26705          26705           1.0             1.0                        0.0   \n",
       "26706          26706           0.0             0.0                        0.0   \n",
       "\n",
       "       behavioral_avoidance  behavioral_face_mask  behavioral_wash_hands  \\\n",
       "0                       0.0                   0.0                    0.0   \n",
       "1                       1.0                   0.0                    1.0   \n",
       "2                       1.0                   0.0                    0.0   \n",
       "3                       1.0                   0.0                    1.0   \n",
       "4                       1.0                   0.0                    1.0   \n",
       "...                     ...                   ...                    ...   \n",
       "26702                   1.0                   0.0                    0.0   \n",
       "26703                   1.0                   0.0                    1.0   \n",
       "26704                   1.0                   1.0                    1.0   \n",
       "26705                   0.0                   0.0                    0.0   \n",
       "26706                   1.0                   0.0                    0.0   \n",
       "\n",
       "       behavioral_large_gatherings  behavioral_outside_home  \\\n",
       "0                              0.0                      1.0   \n",
       "1                              0.0                      1.0   \n",
       "2                              0.0                      0.0   \n",
       "3                              1.0                      0.0   \n",
       "4                              1.0                      0.0   \n",
       "...                            ...                      ...   \n",
       "26702                          0.0                      1.0   \n",
       "26703                          0.0                      0.0   \n",
       "26704                          1.0                      0.0   \n",
       "26705                          0.0                      0.0   \n",
       "26706                          0.0                      0.0   \n",
       "\n",
       "       behavioral_touch_face  ...             income_poverty  marital_status  \\\n",
       "0                        1.0  ...              Below Poverty     Not Married   \n",
       "1                        1.0  ...              Below Poverty     Not Married   \n",
       "2                        0.0  ...  <= $75,000, Above Poverty     Not Married   \n",
       "3                        0.0  ...              Below Poverty     Not Married   \n",
       "4                        1.0  ...  <= $75,000, Above Poverty         Married   \n",
       "...                      ...  ...                        ...             ...   \n",
       "26702                    0.0  ...  <= $75,000, Above Poverty     Not Married   \n",
       "26703                    0.0  ...  <= $75,000, Above Poverty     Not Married   \n",
       "26704                    1.0  ...                        NaN     Not Married   \n",
       "26705                    NaN  ...  <= $75,000, Above Poverty         Married   \n",
       "26706                    0.0  ...  <= $75,000, Above Poverty         Married   \n",
       "\n",
       "       rent_or_own   employment_status  hhs_geo_region  \\\n",
       "0              Own  Not in Labor Force        oxchjgsf   \n",
       "1             Rent            Employed        bhuqouqj   \n",
       "2              Own            Employed        qufhixun   \n",
       "3             Rent  Not in Labor Force        lrircsnp   \n",
       "4              Own            Employed        qufhixun   \n",
       "...            ...                 ...             ...   \n",
       "26702          Own  Not in Labor Force        qufhixun   \n",
       "26703         Rent            Employed        lzgpxyit   \n",
       "26704          Own                 NaN        lzgpxyit   \n",
       "26705         Rent            Employed        lrircsnp   \n",
       "26706          Own  Not in Labor Force        mlyzmhmf   \n",
       "\n",
       "                     census_msa  household_adults  household_children  \\\n",
       "0                       Non-MSA               0.0                 0.0   \n",
       "1      MSA, Not Principle  City               0.0                 0.0   \n",
       "2      MSA, Not Principle  City               2.0                 0.0   \n",
       "3           MSA, Principle City               0.0                 0.0   \n",
       "4      MSA, Not Principle  City               1.0                 0.0   \n",
       "...                         ...               ...                 ...   \n",
       "26702                   Non-MSA               0.0                 0.0   \n",
       "26703       MSA, Principle City               1.0                 0.0   \n",
       "26704  MSA, Not Principle  City               0.0                 0.0   \n",
       "26705                   Non-MSA               1.0                 0.0   \n",
       "26706       MSA, Principle City               1.0                 0.0   \n",
       "\n",
       "       employment_industry  employment_occupation  \n",
       "0                      NaN                    NaN  \n",
       "1                 pxcmvdjn               xgwztkwe  \n",
       "2                 rucpziij               xtkaffoo  \n",
       "3                      NaN                    NaN  \n",
       "4                 wxleyezf               emcorrxb  \n",
       "...                    ...                    ...  \n",
       "26702                  NaN                    NaN  \n",
       "26703             fcxhlnwr               cmhcxjea  \n",
       "26704                  NaN                    NaN  \n",
       "26705             fcxhlnwr               haliazsg  \n",
       "26706                  NaN                    NaN  \n",
       "\n",
       "[26707 rows x 36 columns]"
      ]
     },
     "execution_count": 4,
     "metadata": {},
     "output_type": "execute_result"
    }
   ],
   "source": [
    "features = pd.read_csv('Data/training_set_features.csv')\n",
    "features"
   ]
  },
  {
   "cell_type": "code",
   "execution_count": 5,
   "metadata": {},
   "outputs": [
    {
     "data": {
      "text/html": [
       "<div>\n",
       "<style scoped>\n",
       "    .dataframe tbody tr th:only-of-type {\n",
       "        vertical-align: middle;\n",
       "    }\n",
       "\n",
       "    .dataframe tbody tr th {\n",
       "        vertical-align: top;\n",
       "    }\n",
       "\n",
       "    .dataframe thead th {\n",
       "        text-align: right;\n",
       "    }\n",
       "</style>\n",
       "<table border=\"1\" class=\"dataframe\">\n",
       "  <thead>\n",
       "    <tr style=\"text-align: right;\">\n",
       "      <th></th>\n",
       "      <th>respondent_id</th>\n",
       "      <th>h1n1_concern</th>\n",
       "      <th>h1n1_knowledge</th>\n",
       "      <th>behavioral_antiviral_meds</th>\n",
       "      <th>behavioral_avoidance</th>\n",
       "      <th>behavioral_face_mask</th>\n",
       "      <th>behavioral_wash_hands</th>\n",
       "      <th>behavioral_large_gatherings</th>\n",
       "      <th>behavioral_outside_home</th>\n",
       "      <th>behavioral_touch_face</th>\n",
       "      <th>...</th>\n",
       "      <th>rent_or_own</th>\n",
       "      <th>employment_status</th>\n",
       "      <th>hhs_geo_region</th>\n",
       "      <th>census_msa</th>\n",
       "      <th>household_adults</th>\n",
       "      <th>household_children</th>\n",
       "      <th>employment_industry</th>\n",
       "      <th>employment_occupation</th>\n",
       "      <th>h1n1_vaccine</th>\n",
       "      <th>seasonal_vaccine</th>\n",
       "    </tr>\n",
       "  </thead>\n",
       "  <tbody>\n",
       "    <tr>\n",
       "      <th>0</th>\n",
       "      <td>0</td>\n",
       "      <td>1.0</td>\n",
       "      <td>0.0</td>\n",
       "      <td>0.0</td>\n",
       "      <td>0.0</td>\n",
       "      <td>0.0</td>\n",
       "      <td>0.0</td>\n",
       "      <td>0.0</td>\n",
       "      <td>1.0</td>\n",
       "      <td>1.0</td>\n",
       "      <td>...</td>\n",
       "      <td>Own</td>\n",
       "      <td>Not in Labor Force</td>\n",
       "      <td>oxchjgsf</td>\n",
       "      <td>Non-MSA</td>\n",
       "      <td>0.0</td>\n",
       "      <td>0.0</td>\n",
       "      <td>NaN</td>\n",
       "      <td>NaN</td>\n",
       "      <td>0</td>\n",
       "      <td>0</td>\n",
       "    </tr>\n",
       "    <tr>\n",
       "      <th>1</th>\n",
       "      <td>1</td>\n",
       "      <td>3.0</td>\n",
       "      <td>2.0</td>\n",
       "      <td>0.0</td>\n",
       "      <td>1.0</td>\n",
       "      <td>0.0</td>\n",
       "      <td>1.0</td>\n",
       "      <td>0.0</td>\n",
       "      <td>1.0</td>\n",
       "      <td>1.0</td>\n",
       "      <td>...</td>\n",
       "      <td>Rent</td>\n",
       "      <td>Employed</td>\n",
       "      <td>bhuqouqj</td>\n",
       "      <td>MSA, Not Principle  City</td>\n",
       "      <td>0.0</td>\n",
       "      <td>0.0</td>\n",
       "      <td>pxcmvdjn</td>\n",
       "      <td>xgwztkwe</td>\n",
       "      <td>0</td>\n",
       "      <td>1</td>\n",
       "    </tr>\n",
       "    <tr>\n",
       "      <th>2</th>\n",
       "      <td>2</td>\n",
       "      <td>1.0</td>\n",
       "      <td>1.0</td>\n",
       "      <td>0.0</td>\n",
       "      <td>1.0</td>\n",
       "      <td>0.0</td>\n",
       "      <td>0.0</td>\n",
       "      <td>0.0</td>\n",
       "      <td>0.0</td>\n",
       "      <td>0.0</td>\n",
       "      <td>...</td>\n",
       "      <td>Own</td>\n",
       "      <td>Employed</td>\n",
       "      <td>qufhixun</td>\n",
       "      <td>MSA, Not Principle  City</td>\n",
       "      <td>2.0</td>\n",
       "      <td>0.0</td>\n",
       "      <td>rucpziij</td>\n",
       "      <td>xtkaffoo</td>\n",
       "      <td>0</td>\n",
       "      <td>0</td>\n",
       "    </tr>\n",
       "    <tr>\n",
       "      <th>3</th>\n",
       "      <td>3</td>\n",
       "      <td>1.0</td>\n",
       "      <td>1.0</td>\n",
       "      <td>0.0</td>\n",
       "      <td>1.0</td>\n",
       "      <td>0.0</td>\n",
       "      <td>1.0</td>\n",
       "      <td>1.0</td>\n",
       "      <td>0.0</td>\n",
       "      <td>0.0</td>\n",
       "      <td>...</td>\n",
       "      <td>Rent</td>\n",
       "      <td>Not in Labor Force</td>\n",
       "      <td>lrircsnp</td>\n",
       "      <td>MSA, Principle City</td>\n",
       "      <td>0.0</td>\n",
       "      <td>0.0</td>\n",
       "      <td>NaN</td>\n",
       "      <td>NaN</td>\n",
       "      <td>0</td>\n",
       "      <td>1</td>\n",
       "    </tr>\n",
       "    <tr>\n",
       "      <th>4</th>\n",
       "      <td>4</td>\n",
       "      <td>2.0</td>\n",
       "      <td>1.0</td>\n",
       "      <td>0.0</td>\n",
       "      <td>1.0</td>\n",
       "      <td>0.0</td>\n",
       "      <td>1.0</td>\n",
       "      <td>1.0</td>\n",
       "      <td>0.0</td>\n",
       "      <td>1.0</td>\n",
       "      <td>...</td>\n",
       "      <td>Own</td>\n",
       "      <td>Employed</td>\n",
       "      <td>qufhixun</td>\n",
       "      <td>MSA, Not Principle  City</td>\n",
       "      <td>1.0</td>\n",
       "      <td>0.0</td>\n",
       "      <td>wxleyezf</td>\n",
       "      <td>emcorrxb</td>\n",
       "      <td>0</td>\n",
       "      <td>0</td>\n",
       "    </tr>\n",
       "  </tbody>\n",
       "</table>\n",
       "<p>5 rows × 38 columns</p>\n",
       "</div>"
      ],
      "text/plain": [
       "   respondent_id  h1n1_concern  h1n1_knowledge  behavioral_antiviral_meds  \\\n",
       "0              0           1.0             0.0                        0.0   \n",
       "1              1           3.0             2.0                        0.0   \n",
       "2              2           1.0             1.0                        0.0   \n",
       "3              3           1.0             1.0                        0.0   \n",
       "4              4           2.0             1.0                        0.0   \n",
       "\n",
       "   behavioral_avoidance  behavioral_face_mask  behavioral_wash_hands  \\\n",
       "0                   0.0                   0.0                    0.0   \n",
       "1                   1.0                   0.0                    1.0   \n",
       "2                   1.0                   0.0                    0.0   \n",
       "3                   1.0                   0.0                    1.0   \n",
       "4                   1.0                   0.0                    1.0   \n",
       "\n",
       "   behavioral_large_gatherings  behavioral_outside_home  \\\n",
       "0                          0.0                      1.0   \n",
       "1                          0.0                      1.0   \n",
       "2                          0.0                      0.0   \n",
       "3                          1.0                      0.0   \n",
       "4                          1.0                      0.0   \n",
       "\n",
       "   behavioral_touch_face  ...  rent_or_own   employment_status  \\\n",
       "0                    1.0  ...          Own  Not in Labor Force   \n",
       "1                    1.0  ...         Rent            Employed   \n",
       "2                    0.0  ...          Own            Employed   \n",
       "3                    0.0  ...         Rent  Not in Labor Force   \n",
       "4                    1.0  ...          Own            Employed   \n",
       "\n",
       "   hhs_geo_region                census_msa  household_adults  \\\n",
       "0        oxchjgsf                   Non-MSA               0.0   \n",
       "1        bhuqouqj  MSA, Not Principle  City               0.0   \n",
       "2        qufhixun  MSA, Not Principle  City               2.0   \n",
       "3        lrircsnp       MSA, Principle City               0.0   \n",
       "4        qufhixun  MSA, Not Principle  City               1.0   \n",
       "\n",
       "   household_children  employment_industry  employment_occupation  \\\n",
       "0                 0.0                  NaN                    NaN   \n",
       "1                 0.0             pxcmvdjn               xgwztkwe   \n",
       "2                 0.0             rucpziij               xtkaffoo   \n",
       "3                 0.0                  NaN                    NaN   \n",
       "4                 0.0             wxleyezf               emcorrxb   \n",
       "\n",
       "   h1n1_vaccine  seasonal_vaccine  \n",
       "0             0                 0  \n",
       "1             0                 1  \n",
       "2             0                 0  \n",
       "3             0                 1  \n",
       "4             0                 0  \n",
       "\n",
       "[5 rows x 38 columns]"
      ]
     },
     "execution_count": 5,
     "metadata": {},
     "output_type": "execute_result"
    }
   ],
   "source": [
    "#merge labels and features together in one DF\n",
    "df = pd.merge(features,labels, on='respondent_id')\n",
    "df.head()"
   ]
  },
  {
   "cell_type": "code",
   "execution_count": 6,
   "metadata": {},
   "outputs": [],
   "source": [
    "df.dropna(subset=['health_insurance'],inplace=True)"
   ]
  },
  {
   "cell_type": "code",
   "execution_count": 7,
   "metadata": {},
   "outputs": [
    {
     "name": "stdout",
     "output_type": "stream",
     "text": [
      "<class 'pandas.core.frame.DataFrame'>\n",
      "Int64Index: 14433 entries, 0 to 26706\n",
      "Data columns (total 38 columns):\n",
      " #   Column                       Non-Null Count  Dtype  \n",
      "---  ------                       --------------  -----  \n",
      " 0   respondent_id                14433 non-null  int64  \n",
      " 1   h1n1_concern                 14383 non-null  float64\n",
      " 2   h1n1_knowledge               14359 non-null  float64\n",
      " 3   behavioral_antiviral_meds    14386 non-null  float64\n",
      " 4   behavioral_avoidance         14329 non-null  float64\n",
      " 5   behavioral_face_mask         14422 non-null  float64\n",
      " 6   behavioral_wash_hands        14415 non-null  float64\n",
      " 7   behavioral_large_gatherings  14380 non-null  float64\n",
      " 8   behavioral_outside_home      14384 non-null  float64\n",
      " 9   behavioral_touch_face        14364 non-null  float64\n",
      " 10  doctor_recc_h1n1             14069 non-null  float64\n",
      " 11  doctor_recc_seasonal         14069 non-null  float64\n",
      " 12  chronic_med_condition        14300 non-null  float64\n",
      " 13  child_under_6_months         14431 non-null  float64\n",
      " 14  health_worker                14423 non-null  float64\n",
      " 15  health_insurance             14433 non-null  float64\n",
      " 16  opinion_h1n1_vacc_effective  14388 non-null  float64\n",
      " 17  opinion_h1n1_risk            14405 non-null  float64\n",
      " 18  opinion_h1n1_sick_from_vacc  14423 non-null  float64\n",
      " 19  opinion_seas_vacc_effective  14403 non-null  float64\n",
      " 20  opinion_seas_risk            14410 non-null  float64\n",
      " 21  opinion_seas_sick_from_vacc  14428 non-null  float64\n",
      " 22  age_group                    14433 non-null  object \n",
      " 23  education                    14337 non-null  object \n",
      " 24  race                         14433 non-null  object \n",
      " 25  sex                          14433 non-null  object \n",
      " 26  income_poverty               12692 non-null  object \n",
      " 27  marital_status               14344 non-null  object \n",
      " 28  rent_or_own                  14018 non-null  object \n",
      " 29  employment_status            14320 non-null  object \n",
      " 30  hhs_geo_region               14433 non-null  object \n",
      " 31  census_msa                   14433 non-null  object \n",
      " 32  household_adults             14429 non-null  float64\n",
      " 33  household_children           14429 non-null  float64\n",
      " 34  employment_industry          7493 non-null   object \n",
      " 35  employment_occupation        7413 non-null   object \n",
      " 36  h1n1_vaccine                 14433 non-null  int64  \n",
      " 37  seasonal_vaccine             14433 non-null  int64  \n",
      "dtypes: float64(23), int64(3), object(12)\n",
      "memory usage: 4.3+ MB\n"
     ]
    }
   ],
   "source": [
    "#figure out what's goin on in here... looks like I've got some objects and nulls to deal with.\n",
    "df.info()"
   ]
  },
  {
   "cell_type": "code",
   "execution_count": 8,
   "metadata": {},
   "outputs": [
    {
     "data": {
      "text/plain": [
       "respondent_id                     0\n",
       "h1n1_concern                     50\n",
       "h1n1_knowledge                   74\n",
       "behavioral_antiviral_meds        47\n",
       "behavioral_avoidance            104\n",
       "behavioral_face_mask             11\n",
       "behavioral_wash_hands            18\n",
       "behavioral_large_gatherings      53\n",
       "behavioral_outside_home          49\n",
       "behavioral_touch_face            69\n",
       "doctor_recc_h1n1                364\n",
       "doctor_recc_seasonal            364\n",
       "chronic_med_condition           133\n",
       "child_under_6_months              2\n",
       "health_worker                    10\n",
       "health_insurance                  0\n",
       "opinion_h1n1_vacc_effective      45\n",
       "opinion_h1n1_risk                28\n",
       "opinion_h1n1_sick_from_vacc      10\n",
       "opinion_seas_vacc_effective      30\n",
       "opinion_seas_risk                23\n",
       "opinion_seas_sick_from_vacc       5\n",
       "age_group                         0\n",
       "education                        96\n",
       "race                              0\n",
       "sex                               0\n",
       "income_poverty                 1741\n",
       "marital_status                   89\n",
       "rent_or_own                     415\n",
       "employment_status               113\n",
       "hhs_geo_region                    0\n",
       "census_msa                        0\n",
       "household_adults                  4\n",
       "household_children                4\n",
       "employment_industry            6940\n",
       "employment_occupation          7020\n",
       "h1n1_vaccine                      0\n",
       "seasonal_vaccine                  0\n",
       "dtype: int64"
      ]
     },
     "execution_count": 8,
     "metadata": {},
     "output_type": "execute_result"
    }
   ],
   "source": [
    "df.isna().sum()"
   ]
  },
  {
   "cell_type": "markdown",
   "metadata": {},
   "source": [
    "## Data Preparation\n",
    "\n",
    "Average (arithmetic mean) opinion of risk - 2.28, which is low end. (Median and mode 2)\n",
    "Average (arithmetic mean) opinion of vaccine effectiveness - 3.91, which is high end. (Median and mode 4)\n",
    "Average (arithmetic mean) H1N1 concern level 1.52 out of 3. (Median and mode 2)\n",
    "\n",
    "Yet, with these numbers, 70% of respondents were not vaccinated against H1N1. \n",
    "##### Why?"
   ]
  },
  {
   "cell_type": "code",
   "execution_count": 9,
   "metadata": {},
   "outputs": [
    {
     "data": {
      "text/html": [
       "<div>\n",
       "<style scoped>\n",
       "    .dataframe tbody tr th:only-of-type {\n",
       "        vertical-align: middle;\n",
       "    }\n",
       "\n",
       "    .dataframe tbody tr th {\n",
       "        vertical-align: top;\n",
       "    }\n",
       "\n",
       "    .dataframe thead th {\n",
       "        text-align: right;\n",
       "    }\n",
       "</style>\n",
       "<table border=\"1\" class=\"dataframe\">\n",
       "  <thead>\n",
       "    <tr style=\"text-align: right;\">\n",
       "      <th></th>\n",
       "      <th>respondent_id</th>\n",
       "      <th>h1n1_concern</th>\n",
       "      <th>h1n1_knowledge</th>\n",
       "      <th>behavioral_antiviral_meds</th>\n",
       "      <th>behavioral_avoidance</th>\n",
       "      <th>behavioral_face_mask</th>\n",
       "      <th>behavioral_wash_hands</th>\n",
       "      <th>behavioral_large_gatherings</th>\n",
       "      <th>behavioral_outside_home</th>\n",
       "      <th>behavioral_touch_face</th>\n",
       "      <th>...</th>\n",
       "      <th>marital_status</th>\n",
       "      <th>rent_or_own</th>\n",
       "      <th>employment_status</th>\n",
       "      <th>hhs_geo_region</th>\n",
       "      <th>census_msa</th>\n",
       "      <th>household_adults</th>\n",
       "      <th>household_children</th>\n",
       "      <th>employment_industry</th>\n",
       "      <th>employment_occupation</th>\n",
       "      <th>h1n1_vaccine</th>\n",
       "    </tr>\n",
       "  </thead>\n",
       "  <tbody>\n",
       "    <tr>\n",
       "      <th>0</th>\n",
       "      <td>0</td>\n",
       "      <td>1.0</td>\n",
       "      <td>0.0</td>\n",
       "      <td>0.0</td>\n",
       "      <td>0.0</td>\n",
       "      <td>0.0</td>\n",
       "      <td>0.0</td>\n",
       "      <td>0.0</td>\n",
       "      <td>1.0</td>\n",
       "      <td>1.0</td>\n",
       "      <td>...</td>\n",
       "      <td>Not Married</td>\n",
       "      <td>Own</td>\n",
       "      <td>Not in Labor Force</td>\n",
       "      <td>oxchjgsf</td>\n",
       "      <td>Non-MSA</td>\n",
       "      <td>0.0</td>\n",
       "      <td>0.0</td>\n",
       "      <td>NaN</td>\n",
       "      <td>NaN</td>\n",
       "      <td>0</td>\n",
       "    </tr>\n",
       "    <tr>\n",
       "      <th>1</th>\n",
       "      <td>1</td>\n",
       "      <td>3.0</td>\n",
       "      <td>2.0</td>\n",
       "      <td>0.0</td>\n",
       "      <td>1.0</td>\n",
       "      <td>0.0</td>\n",
       "      <td>1.0</td>\n",
       "      <td>0.0</td>\n",
       "      <td>1.0</td>\n",
       "      <td>1.0</td>\n",
       "      <td>...</td>\n",
       "      <td>Not Married</td>\n",
       "      <td>Rent</td>\n",
       "      <td>Employed</td>\n",
       "      <td>bhuqouqj</td>\n",
       "      <td>MSA, Not Principle  City</td>\n",
       "      <td>0.0</td>\n",
       "      <td>0.0</td>\n",
       "      <td>pxcmvdjn</td>\n",
       "      <td>xgwztkwe</td>\n",
       "      <td>0</td>\n",
       "    </tr>\n",
       "    <tr>\n",
       "      <th>7</th>\n",
       "      <td>7</td>\n",
       "      <td>1.0</td>\n",
       "      <td>0.0</td>\n",
       "      <td>0.0</td>\n",
       "      <td>1.0</td>\n",
       "      <td>0.0</td>\n",
       "      <td>1.0</td>\n",
       "      <td>0.0</td>\n",
       "      <td>0.0</td>\n",
       "      <td>1.0</td>\n",
       "      <td>...</td>\n",
       "      <td>Married</td>\n",
       "      <td>Own</td>\n",
       "      <td>Employed</td>\n",
       "      <td>bhuqouqj</td>\n",
       "      <td>Non-MSA</td>\n",
       "      <td>2.0</td>\n",
       "      <td>0.0</td>\n",
       "      <td>pxcmvdjn</td>\n",
       "      <td>xqwwgdyp</td>\n",
       "      <td>1</td>\n",
       "    </tr>\n",
       "    <tr>\n",
       "      <th>9</th>\n",
       "      <td>9</td>\n",
       "      <td>2.0</td>\n",
       "      <td>1.0</td>\n",
       "      <td>0.0</td>\n",
       "      <td>1.0</td>\n",
       "      <td>0.0</td>\n",
       "      <td>0.0</td>\n",
       "      <td>1.0</td>\n",
       "      <td>0.0</td>\n",
       "      <td>1.0</td>\n",
       "      <td>...</td>\n",
       "      <td>Not Married</td>\n",
       "      <td>Own</td>\n",
       "      <td>Not in Labor Force</td>\n",
       "      <td>qufhixun</td>\n",
       "      <td>MSA, Not Principle  City</td>\n",
       "      <td>0.0</td>\n",
       "      <td>0.0</td>\n",
       "      <td>NaN</td>\n",
       "      <td>NaN</td>\n",
       "      <td>0</td>\n",
       "    </tr>\n",
       "    <tr>\n",
       "      <th>10</th>\n",
       "      <td>10</td>\n",
       "      <td>2.0</td>\n",
       "      <td>1.0</td>\n",
       "      <td>0.0</td>\n",
       "      <td>1.0</td>\n",
       "      <td>0.0</td>\n",
       "      <td>1.0</td>\n",
       "      <td>1.0</td>\n",
       "      <td>0.0</td>\n",
       "      <td>0.0</td>\n",
       "      <td>...</td>\n",
       "      <td>Married</td>\n",
       "      <td>Rent</td>\n",
       "      <td>Employed</td>\n",
       "      <td>lzgpxyit</td>\n",
       "      <td>MSA, Not Principle  City</td>\n",
       "      <td>2.0</td>\n",
       "      <td>0.0</td>\n",
       "      <td>xicduogh</td>\n",
       "      <td>qxajmpny</td>\n",
       "      <td>1</td>\n",
       "    </tr>\n",
       "  </tbody>\n",
       "</table>\n",
       "<p>5 rows × 33 columns</p>\n",
       "</div>"
      ],
      "text/plain": [
       "    respondent_id  h1n1_concern  h1n1_knowledge  behavioral_antiviral_meds  \\\n",
       "0               0           1.0             0.0                        0.0   \n",
       "1               1           3.0             2.0                        0.0   \n",
       "7               7           1.0             0.0                        0.0   \n",
       "9               9           2.0             1.0                        0.0   \n",
       "10             10           2.0             1.0                        0.0   \n",
       "\n",
       "    behavioral_avoidance  behavioral_face_mask  behavioral_wash_hands  \\\n",
       "0                    0.0                   0.0                    0.0   \n",
       "1                    1.0                   0.0                    1.0   \n",
       "7                    1.0                   0.0                    1.0   \n",
       "9                    1.0                   0.0                    0.0   \n",
       "10                   1.0                   0.0                    1.0   \n",
       "\n",
       "    behavioral_large_gatherings  behavioral_outside_home  \\\n",
       "0                           0.0                      1.0   \n",
       "1                           0.0                      1.0   \n",
       "7                           0.0                      0.0   \n",
       "9                           1.0                      0.0   \n",
       "10                          1.0                      0.0   \n",
       "\n",
       "    behavioral_touch_face  ...  marital_status  rent_or_own  \\\n",
       "0                     1.0  ...     Not Married          Own   \n",
       "1                     1.0  ...     Not Married         Rent   \n",
       "7                     1.0  ...         Married          Own   \n",
       "9                     1.0  ...     Not Married          Own   \n",
       "10                    0.0  ...         Married         Rent   \n",
       "\n",
       "     employment_status  hhs_geo_region                census_msa  \\\n",
       "0   Not in Labor Force        oxchjgsf                   Non-MSA   \n",
       "1             Employed        bhuqouqj  MSA, Not Principle  City   \n",
       "7             Employed        bhuqouqj                   Non-MSA   \n",
       "9   Not in Labor Force        qufhixun  MSA, Not Principle  City   \n",
       "10            Employed        lzgpxyit  MSA, Not Principle  City   \n",
       "\n",
       "    household_adults  household_children  employment_industry  \\\n",
       "0                0.0                 0.0                  NaN   \n",
       "1                0.0                 0.0             pxcmvdjn   \n",
       "7                2.0                 0.0             pxcmvdjn   \n",
       "9                0.0                 0.0                  NaN   \n",
       "10               2.0                 0.0             xicduogh   \n",
       "\n",
       "   employment_occupation h1n1_vaccine  \n",
       "0                    NaN            0  \n",
       "1               xgwztkwe            0  \n",
       "7               xqwwgdyp            1  \n",
       "9                    NaN            0  \n",
       "10              qxajmpny            1  \n",
       "\n",
       "[5 rows x 33 columns]"
      ]
     },
     "execution_count": 9,
     "metadata": {},
     "output_type": "execute_result"
    }
   ],
   "source": [
    "#drop seasonal flu vaccine columns from h1n1 dataframe.\n",
    "h1_df = df.drop(columns=['opinion_seas_vacc_effective', 'opinion_seas_risk', 'opinion_seas_sick_from_vacc',\n",
    "                 'seasonal_vaccine', 'doctor_recc_seasonal'], axis= 1)\n",
    "h1_df.head()"
   ]
  },
  {
   "cell_type": "code",
   "execution_count": 10,
   "metadata": {
    "scrolled": true
   },
   "outputs": [
    {
     "data": {
      "text/plain": [
       "0    0.702764\n",
       "1    0.297236\n",
       "Name: h1n1_vaccine, dtype: float64"
      ]
     },
     "execution_count": 10,
     "metadata": {},
     "output_type": "execute_result"
    }
   ],
   "source": [
    "h1_df.h1n1_vaccine.value_counts(normalize=True)"
   ]
  },
  {
   "cell_type": "code",
   "execution_count": 211,
   "metadata": {},
   "outputs": [
    {
     "data": {
      "text/plain": [
       "count    14405.000000\n",
       "mean         2.289413\n",
       "std          1.278886\n",
       "min          1.000000\n",
       "25%          1.000000\n",
       "50%          2.000000\n",
       "75%          4.000000\n",
       "max          5.000000\n",
       "Name: opinion_h1n1_risk, dtype: float64"
      ]
     },
     "execution_count": 211,
     "metadata": {},
     "output_type": "execute_result"
    }
   ],
   "source": [
    "h1_df.opinion_h1n1_risk.describe()"
   ]
  },
  {
   "cell_type": "code",
   "execution_count": 210,
   "metadata": {},
   "outputs": [
    {
     "data": {
      "text/plain": [
       "count    14388.000000\n",
       "mean         3.914026\n",
       "std          1.008708\n",
       "min          1.000000\n",
       "25%          4.000000\n",
       "50%          4.000000\n",
       "75%          5.000000\n",
       "max          5.000000\n",
       "Name: opinion_h1n1_vacc_effective, dtype: float64"
      ]
     },
     "execution_count": 210,
     "metadata": {},
     "output_type": "execute_result"
    }
   ],
   "source": [
    "h1_df.opinion_h1n1_vacc_effective.describe()"
   ]
  },
  {
   "cell_type": "code",
   "execution_count": 209,
   "metadata": {},
   "outputs": [
    {
     "data": {
      "text/plain": [
       "count    14383.000000\n",
       "mean         1.522979\n",
       "std          0.898018\n",
       "min          0.000000\n",
       "25%          1.000000\n",
       "50%          2.000000\n",
       "75%          2.000000\n",
       "max          3.000000\n",
       "Name: h1n1_concern, dtype: float64"
      ]
     },
     "execution_count": 209,
     "metadata": {},
     "output_type": "execute_result"
    }
   ],
   "source": [
    "h1_df.h1n1_concern.describe()"
   ]
  },
  {
   "cell_type": "code",
   "execution_count": 11,
   "metadata": {},
   "outputs": [],
   "source": [
    "y = h1_df['h1n1_vaccine']\n",
    "X = h1_df.drop('h1n1_vaccine', axis=1)\n",
    "X_train, X_test, y_train, y_test = train_test_split(X, y, test_size=0.25, random_state=88)"
   ]
  },
  {
   "cell_type": "code",
   "execution_count": 12,
   "metadata": {},
   "outputs": [
    {
     "data": {
      "text/html": [
       "<div>\n",
       "<style scoped>\n",
       "    .dataframe tbody tr th:only-of-type {\n",
       "        vertical-align: middle;\n",
       "    }\n",
       "\n",
       "    .dataframe tbody tr th {\n",
       "        vertical-align: top;\n",
       "    }\n",
       "\n",
       "    .dataframe thead th {\n",
       "        text-align: right;\n",
       "    }\n",
       "</style>\n",
       "<table border=\"1\" class=\"dataframe\">\n",
       "  <thead>\n",
       "    <tr style=\"text-align: right;\">\n",
       "      <th></th>\n",
       "      <th>age_group</th>\n",
       "      <th>education</th>\n",
       "      <th>race</th>\n",
       "      <th>sex</th>\n",
       "      <th>income_poverty</th>\n",
       "      <th>marital_status</th>\n",
       "      <th>rent_or_own</th>\n",
       "      <th>employment_status</th>\n",
       "      <th>hhs_geo_region</th>\n",
       "      <th>census_msa</th>\n",
       "      <th>employment_industry</th>\n",
       "      <th>employment_occupation</th>\n",
       "    </tr>\n",
       "  </thead>\n",
       "  <tbody>\n",
       "    <tr>\n",
       "      <th>0</th>\n",
       "      <td>45 - 54 Years</td>\n",
       "      <td>College Graduate</td>\n",
       "      <td>White</td>\n",
       "      <td>Female</td>\n",
       "      <td>&gt; $75,000</td>\n",
       "      <td>Not Married</td>\n",
       "      <td>Own</td>\n",
       "      <td>Employed</td>\n",
       "      <td>qufhixun</td>\n",
       "      <td>MSA, Not Principle  City</td>\n",
       "      <td>fcxhlnwr</td>\n",
       "      <td>cmhcxjea</td>\n",
       "    </tr>\n",
       "    <tr>\n",
       "      <th>1</th>\n",
       "      <td>18 - 34 Years</td>\n",
       "      <td>College Graduate</td>\n",
       "      <td>White</td>\n",
       "      <td>Female</td>\n",
       "      <td>&lt;= $75,000, Above Poverty</td>\n",
       "      <td>Married</td>\n",
       "      <td>Own</td>\n",
       "      <td>Employed</td>\n",
       "      <td>bhuqouqj</td>\n",
       "      <td>Non-MSA</td>\n",
       "      <td>wxleyezf</td>\n",
       "      <td>emcorrxb</td>\n",
       "    </tr>\n",
       "    <tr>\n",
       "      <th>2</th>\n",
       "      <td>65+ Years</td>\n",
       "      <td>12 Years</td>\n",
       "      <td>White</td>\n",
       "      <td>Male</td>\n",
       "      <td>&lt;= $75,000, Above Poverty</td>\n",
       "      <td>Married</td>\n",
       "      <td>Own</td>\n",
       "      <td>Not in Labor Force</td>\n",
       "      <td>oxchjgsf</td>\n",
       "      <td>Non-MSA</td>\n",
       "      <td>Unknown</td>\n",
       "      <td>Unknown</td>\n",
       "    </tr>\n",
       "    <tr>\n",
       "      <th>3</th>\n",
       "      <td>65+ Years</td>\n",
       "      <td>College Graduate</td>\n",
       "      <td>White</td>\n",
       "      <td>Female</td>\n",
       "      <td>&lt;= $75,000, Above Poverty</td>\n",
       "      <td>Not Married</td>\n",
       "      <td>Own</td>\n",
       "      <td>Not in Labor Force</td>\n",
       "      <td>bhuqouqj</td>\n",
       "      <td>Non-MSA</td>\n",
       "      <td>Unknown</td>\n",
       "      <td>Unknown</td>\n",
       "    </tr>\n",
       "    <tr>\n",
       "      <th>4</th>\n",
       "      <td>65+ Years</td>\n",
       "      <td>12 Years</td>\n",
       "      <td>White</td>\n",
       "      <td>Female</td>\n",
       "      <td>&lt;= $75,000, Above Poverty</td>\n",
       "      <td>Not Married</td>\n",
       "      <td>Own</td>\n",
       "      <td>Not in Labor Force</td>\n",
       "      <td>kbazzjca</td>\n",
       "      <td>MSA, Principle City</td>\n",
       "      <td>Unknown</td>\n",
       "      <td>Unknown</td>\n",
       "    </tr>\n",
       "    <tr>\n",
       "      <th>...</th>\n",
       "      <td>...</td>\n",
       "      <td>...</td>\n",
       "      <td>...</td>\n",
       "      <td>...</td>\n",
       "      <td>...</td>\n",
       "      <td>...</td>\n",
       "      <td>...</td>\n",
       "      <td>...</td>\n",
       "      <td>...</td>\n",
       "      <td>...</td>\n",
       "      <td>...</td>\n",
       "      <td>...</td>\n",
       "    </tr>\n",
       "    <tr>\n",
       "      <th>10819</th>\n",
       "      <td>45 - 54 Years</td>\n",
       "      <td>College Graduate</td>\n",
       "      <td>White</td>\n",
       "      <td>Female</td>\n",
       "      <td>Below Poverty</td>\n",
       "      <td>Not Married</td>\n",
       "      <td>Rent</td>\n",
       "      <td>Unemployed</td>\n",
       "      <td>bhuqouqj</td>\n",
       "      <td>MSA, Not Principle  City</td>\n",
       "      <td>Unknown</td>\n",
       "      <td>Unknown</td>\n",
       "    </tr>\n",
       "    <tr>\n",
       "      <th>10820</th>\n",
       "      <td>65+ Years</td>\n",
       "      <td>College Graduate</td>\n",
       "      <td>White</td>\n",
       "      <td>Female</td>\n",
       "      <td>&gt; $75,000</td>\n",
       "      <td>Married</td>\n",
       "      <td>Rent</td>\n",
       "      <td>Not in Labor Force</td>\n",
       "      <td>kbazzjca</td>\n",
       "      <td>MSA, Not Principle  City</td>\n",
       "      <td>Unknown</td>\n",
       "      <td>Unknown</td>\n",
       "    </tr>\n",
       "    <tr>\n",
       "      <th>10821</th>\n",
       "      <td>18 - 34 Years</td>\n",
       "      <td>Some College</td>\n",
       "      <td>Other or Multiple</td>\n",
       "      <td>Female</td>\n",
       "      <td>&lt;= $75,000, Above Poverty</td>\n",
       "      <td>Not Married</td>\n",
       "      <td>Rent</td>\n",
       "      <td>Not in Labor Force</td>\n",
       "      <td>lzgpxyit</td>\n",
       "      <td>MSA, Not Principle  City</td>\n",
       "      <td>Unknown</td>\n",
       "      <td>Unknown</td>\n",
       "    </tr>\n",
       "    <tr>\n",
       "      <th>10822</th>\n",
       "      <td>55 - 64 Years</td>\n",
       "      <td>College Graduate</td>\n",
       "      <td>White</td>\n",
       "      <td>Male</td>\n",
       "      <td>&gt; $75,000</td>\n",
       "      <td>Married</td>\n",
       "      <td>Own</td>\n",
       "      <td>Employed</td>\n",
       "      <td>mlyzmhmf</td>\n",
       "      <td>Non-MSA</td>\n",
       "      <td>cfqqtusy</td>\n",
       "      <td>rcertsgn</td>\n",
       "    </tr>\n",
       "    <tr>\n",
       "      <th>10823</th>\n",
       "      <td>18 - 34 Years</td>\n",
       "      <td>12 Years</td>\n",
       "      <td>White</td>\n",
       "      <td>Female</td>\n",
       "      <td>Below Poverty</td>\n",
       "      <td>Not Married</td>\n",
       "      <td>Own</td>\n",
       "      <td>Not in Labor Force</td>\n",
       "      <td>kbazzjca</td>\n",
       "      <td>MSA, Not Principle  City</td>\n",
       "      <td>Unknown</td>\n",
       "      <td>Unknown</td>\n",
       "    </tr>\n",
       "  </tbody>\n",
       "</table>\n",
       "<p>10824 rows × 12 columns</p>\n",
       "</div>"
      ],
      "text/plain": [
       "           age_group         education               race     sex  \\\n",
       "0      45 - 54 Years  College Graduate              White  Female   \n",
       "1      18 - 34 Years  College Graduate              White  Female   \n",
       "2          65+ Years          12 Years              White    Male   \n",
       "3          65+ Years  College Graduate              White  Female   \n",
       "4          65+ Years          12 Years              White  Female   \n",
       "...              ...               ...                ...     ...   \n",
       "10819  45 - 54 Years  College Graduate              White  Female   \n",
       "10820      65+ Years  College Graduate              White  Female   \n",
       "10821  18 - 34 Years      Some College  Other or Multiple  Female   \n",
       "10822  55 - 64 Years  College Graduate              White    Male   \n",
       "10823  18 - 34 Years          12 Years              White  Female   \n",
       "\n",
       "                  income_poverty marital_status rent_or_own  \\\n",
       "0                      > $75,000    Not Married         Own   \n",
       "1      <= $75,000, Above Poverty        Married         Own   \n",
       "2      <= $75,000, Above Poverty        Married         Own   \n",
       "3      <= $75,000, Above Poverty    Not Married         Own   \n",
       "4      <= $75,000, Above Poverty    Not Married         Own   \n",
       "...                          ...            ...         ...   \n",
       "10819              Below Poverty    Not Married        Rent   \n",
       "10820                  > $75,000        Married        Rent   \n",
       "10821  <= $75,000, Above Poverty    Not Married        Rent   \n",
       "10822                  > $75,000        Married         Own   \n",
       "10823              Below Poverty    Not Married         Own   \n",
       "\n",
       "        employment_status hhs_geo_region                census_msa  \\\n",
       "0                Employed       qufhixun  MSA, Not Principle  City   \n",
       "1                Employed       bhuqouqj                   Non-MSA   \n",
       "2      Not in Labor Force       oxchjgsf                   Non-MSA   \n",
       "3      Not in Labor Force       bhuqouqj                   Non-MSA   \n",
       "4      Not in Labor Force       kbazzjca       MSA, Principle City   \n",
       "...                   ...            ...                       ...   \n",
       "10819          Unemployed       bhuqouqj  MSA, Not Principle  City   \n",
       "10820  Not in Labor Force       kbazzjca  MSA, Not Principle  City   \n",
       "10821  Not in Labor Force       lzgpxyit  MSA, Not Principle  City   \n",
       "10822            Employed       mlyzmhmf                   Non-MSA   \n",
       "10823  Not in Labor Force       kbazzjca  MSA, Not Principle  City   \n",
       "\n",
       "      employment_industry employment_occupation  \n",
       "0                fcxhlnwr              cmhcxjea  \n",
       "1                wxleyezf              emcorrxb  \n",
       "2                 Unknown               Unknown  \n",
       "3                 Unknown               Unknown  \n",
       "4                 Unknown               Unknown  \n",
       "...                   ...                   ...  \n",
       "10819             Unknown               Unknown  \n",
       "10820             Unknown               Unknown  \n",
       "10821             Unknown               Unknown  \n",
       "10822            cfqqtusy              rcertsgn  \n",
       "10823             Unknown               Unknown  \n",
       "\n",
       "[10824 rows x 12 columns]"
      ]
     },
     "execution_count": 12,
     "metadata": {},
     "output_type": "execute_result"
    }
   ],
   "source": [
    "#Imputing \"Unknown\" into object columns for missing values on columns where survey was not answered\n",
    "cat_cols = ['age_group', 'education', 'race', 'sex',\n",
    "       'income_poverty', 'marital_status', 'rent_or_own', 'employment_status',\n",
    "       'hhs_geo_region', 'census_msa','employment_industry', 'employment_occupation']\n",
    "cat_imp = SimpleImputer(strategy=\"constant\", fill_value=\"Unknown\")\n",
    "cat_imp.fit(X_train[cat_cols])\n",
    "X_train_cats = pd.DataFrame(cat_imp.transform(X_train[cat_cols]), columns = X_train[cat_cols].columns)\n",
    "X_train_cats"
   ]
  },
  {
   "cell_type": "code",
   "execution_count": 13,
   "metadata": {},
   "outputs": [
    {
     "data": {
      "text/plain": [
       "age_group                0\n",
       "education                0\n",
       "race                     0\n",
       "sex                      0\n",
       "income_poverty           0\n",
       "marital_status           0\n",
       "rent_or_own              0\n",
       "employment_status        0\n",
       "hhs_geo_region           0\n",
       "census_msa               0\n",
       "employment_industry      0\n",
       "employment_occupation    0\n",
       "dtype: int64"
      ]
     },
     "execution_count": 13,
     "metadata": {},
     "output_type": "execute_result"
    }
   ],
   "source": [
    "#confirming correction worked\n",
    "X_train_cats.isna().sum()"
   ]
  },
  {
   "cell_type": "code",
   "execution_count": 14,
   "metadata": {},
   "outputs": [
    {
     "data": {
      "text/html": [
       "<div>\n",
       "<style scoped>\n",
       "    .dataframe tbody tr th:only-of-type {\n",
       "        vertical-align: middle;\n",
       "    }\n",
       "\n",
       "    .dataframe tbody tr th {\n",
       "        vertical-align: top;\n",
       "    }\n",
       "\n",
       "    .dataframe thead th {\n",
       "        text-align: right;\n",
       "    }\n",
       "</style>\n",
       "<table border=\"1\" class=\"dataframe\">\n",
       "  <thead>\n",
       "    <tr style=\"text-align: right;\">\n",
       "      <th></th>\n",
       "      <th>respondent_id</th>\n",
       "      <th>h1n1_concern</th>\n",
       "      <th>h1n1_knowledge</th>\n",
       "      <th>behavioral_antiviral_meds</th>\n",
       "      <th>behavioral_avoidance</th>\n",
       "      <th>behavioral_face_mask</th>\n",
       "      <th>behavioral_wash_hands</th>\n",
       "      <th>behavioral_large_gatherings</th>\n",
       "      <th>behavioral_outside_home</th>\n",
       "      <th>behavioral_touch_face</th>\n",
       "      <th>doctor_recc_h1n1</th>\n",
       "      <th>chronic_med_condition</th>\n",
       "      <th>child_under_6_months</th>\n",
       "      <th>health_worker</th>\n",
       "      <th>health_insurance</th>\n",
       "      <th>opinion_h1n1_vacc_effective</th>\n",
       "      <th>opinion_h1n1_risk</th>\n",
       "      <th>opinion_h1n1_sick_from_vacc</th>\n",
       "      <th>household_adults</th>\n",
       "      <th>household_children</th>\n",
       "    </tr>\n",
       "  </thead>\n",
       "  <tbody>\n",
       "    <tr>\n",
       "      <th>0</th>\n",
       "      <td>20765.0</td>\n",
       "      <td>1.0</td>\n",
       "      <td>2.0</td>\n",
       "      <td>0.0</td>\n",
       "      <td>1.0</td>\n",
       "      <td>0.0</td>\n",
       "      <td>1.0</td>\n",
       "      <td>0.0</td>\n",
       "      <td>0.0</td>\n",
       "      <td>1.0</td>\n",
       "      <td>0.0</td>\n",
       "      <td>0.0</td>\n",
       "      <td>0.0</td>\n",
       "      <td>1.0</td>\n",
       "      <td>1.0</td>\n",
       "      <td>4.0</td>\n",
       "      <td>5.0</td>\n",
       "      <td>1.0</td>\n",
       "      <td>0.0</td>\n",
       "      <td>0.0</td>\n",
       "    </tr>\n",
       "    <tr>\n",
       "      <th>1</th>\n",
       "      <td>12835.0</td>\n",
       "      <td>3.0</td>\n",
       "      <td>1.0</td>\n",
       "      <td>0.0</td>\n",
       "      <td>1.0</td>\n",
       "      <td>0.0</td>\n",
       "      <td>1.0</td>\n",
       "      <td>0.0</td>\n",
       "      <td>0.0</td>\n",
       "      <td>1.0</td>\n",
       "      <td>0.0</td>\n",
       "      <td>0.0</td>\n",
       "      <td>0.0</td>\n",
       "      <td>0.0</td>\n",
       "      <td>1.0</td>\n",
       "      <td>4.0</td>\n",
       "      <td>4.0</td>\n",
       "      <td>4.0</td>\n",
       "      <td>1.0</td>\n",
       "      <td>1.0</td>\n",
       "    </tr>\n",
       "    <tr>\n",
       "      <th>2</th>\n",
       "      <td>16627.0</td>\n",
       "      <td>2.0</td>\n",
       "      <td>1.0</td>\n",
       "      <td>0.0</td>\n",
       "      <td>1.0</td>\n",
       "      <td>0.0</td>\n",
       "      <td>1.0</td>\n",
       "      <td>1.0</td>\n",
       "      <td>1.0</td>\n",
       "      <td>1.0</td>\n",
       "      <td>0.0</td>\n",
       "      <td>1.0</td>\n",
       "      <td>0.0</td>\n",
       "      <td>0.0</td>\n",
       "      <td>1.0</td>\n",
       "      <td>4.0</td>\n",
       "      <td>2.0</td>\n",
       "      <td>2.0</td>\n",
       "      <td>1.0</td>\n",
       "      <td>0.0</td>\n",
       "    </tr>\n",
       "    <tr>\n",
       "      <th>3</th>\n",
       "      <td>17524.0</td>\n",
       "      <td>2.0</td>\n",
       "      <td>1.0</td>\n",
       "      <td>0.0</td>\n",
       "      <td>1.0</td>\n",
       "      <td>0.0</td>\n",
       "      <td>1.0</td>\n",
       "      <td>0.0</td>\n",
       "      <td>0.0</td>\n",
       "      <td>1.0</td>\n",
       "      <td>0.0</td>\n",
       "      <td>0.0</td>\n",
       "      <td>0.0</td>\n",
       "      <td>0.0</td>\n",
       "      <td>1.0</td>\n",
       "      <td>4.0</td>\n",
       "      <td>2.0</td>\n",
       "      <td>2.0</td>\n",
       "      <td>0.0</td>\n",
       "      <td>0.0</td>\n",
       "    </tr>\n",
       "    <tr>\n",
       "      <th>4</th>\n",
       "      <td>23014.0</td>\n",
       "      <td>2.0</td>\n",
       "      <td>1.0</td>\n",
       "      <td>0.0</td>\n",
       "      <td>1.0</td>\n",
       "      <td>0.0</td>\n",
       "      <td>1.0</td>\n",
       "      <td>1.0</td>\n",
       "      <td>1.0</td>\n",
       "      <td>1.0</td>\n",
       "      <td>0.0</td>\n",
       "      <td>0.0</td>\n",
       "      <td>0.0</td>\n",
       "      <td>0.0</td>\n",
       "      <td>1.0</td>\n",
       "      <td>4.0</td>\n",
       "      <td>1.0</td>\n",
       "      <td>4.0</td>\n",
       "      <td>0.0</td>\n",
       "      <td>0.0</td>\n",
       "    </tr>\n",
       "    <tr>\n",
       "      <th>...</th>\n",
       "      <td>...</td>\n",
       "      <td>...</td>\n",
       "      <td>...</td>\n",
       "      <td>...</td>\n",
       "      <td>...</td>\n",
       "      <td>...</td>\n",
       "      <td>...</td>\n",
       "      <td>...</td>\n",
       "      <td>...</td>\n",
       "      <td>...</td>\n",
       "      <td>...</td>\n",
       "      <td>...</td>\n",
       "      <td>...</td>\n",
       "      <td>...</td>\n",
       "      <td>...</td>\n",
       "      <td>...</td>\n",
       "      <td>...</td>\n",
       "      <td>...</td>\n",
       "      <td>...</td>\n",
       "      <td>...</td>\n",
       "    </tr>\n",
       "    <tr>\n",
       "      <th>10819</th>\n",
       "      <td>15877.0</td>\n",
       "      <td>3.0</td>\n",
       "      <td>1.0</td>\n",
       "      <td>0.0</td>\n",
       "      <td>1.0</td>\n",
       "      <td>0.0</td>\n",
       "      <td>1.0</td>\n",
       "      <td>0.0</td>\n",
       "      <td>0.0</td>\n",
       "      <td>0.0</td>\n",
       "      <td>0.0</td>\n",
       "      <td>0.0</td>\n",
       "      <td>0.0</td>\n",
       "      <td>0.0</td>\n",
       "      <td>1.0</td>\n",
       "      <td>5.0</td>\n",
       "      <td>2.0</td>\n",
       "      <td>1.0</td>\n",
       "      <td>1.0</td>\n",
       "      <td>0.0</td>\n",
       "    </tr>\n",
       "    <tr>\n",
       "      <th>10820</th>\n",
       "      <td>4547.0</td>\n",
       "      <td>1.0</td>\n",
       "      <td>2.0</td>\n",
       "      <td>0.0</td>\n",
       "      <td>0.0</td>\n",
       "      <td>0.0</td>\n",
       "      <td>1.0</td>\n",
       "      <td>0.0</td>\n",
       "      <td>0.0</td>\n",
       "      <td>1.0</td>\n",
       "      <td>1.0</td>\n",
       "      <td>0.0</td>\n",
       "      <td>0.0</td>\n",
       "      <td>0.0</td>\n",
       "      <td>1.0</td>\n",
       "      <td>5.0</td>\n",
       "      <td>2.0</td>\n",
       "      <td>1.0</td>\n",
       "      <td>1.0</td>\n",
       "      <td>0.0</td>\n",
       "    </tr>\n",
       "    <tr>\n",
       "      <th>10821</th>\n",
       "      <td>7454.0</td>\n",
       "      <td>2.0</td>\n",
       "      <td>2.0</td>\n",
       "      <td>0.0</td>\n",
       "      <td>1.0</td>\n",
       "      <td>1.0</td>\n",
       "      <td>1.0</td>\n",
       "      <td>0.0</td>\n",
       "      <td>0.0</td>\n",
       "      <td>1.0</td>\n",
       "      <td>0.0</td>\n",
       "      <td>0.0</td>\n",
       "      <td>0.0</td>\n",
       "      <td>0.0</td>\n",
       "      <td>1.0</td>\n",
       "      <td>4.0</td>\n",
       "      <td>2.0</td>\n",
       "      <td>5.0</td>\n",
       "      <td>0.0</td>\n",
       "      <td>3.0</td>\n",
       "    </tr>\n",
       "    <tr>\n",
       "      <th>10822</th>\n",
       "      <td>11928.0</td>\n",
       "      <td>1.0</td>\n",
       "      <td>1.0</td>\n",
       "      <td>0.0</td>\n",
       "      <td>0.0</td>\n",
       "      <td>0.0</td>\n",
       "      <td>0.0</td>\n",
       "      <td>0.0</td>\n",
       "      <td>0.0</td>\n",
       "      <td>0.0</td>\n",
       "      <td>0.0</td>\n",
       "      <td>0.0</td>\n",
       "      <td>0.0</td>\n",
       "      <td>0.0</td>\n",
       "      <td>1.0</td>\n",
       "      <td>3.0</td>\n",
       "      <td>1.0</td>\n",
       "      <td>1.0</td>\n",
       "      <td>2.0</td>\n",
       "      <td>1.0</td>\n",
       "    </tr>\n",
       "    <tr>\n",
       "      <th>10823</th>\n",
       "      <td>18923.0</td>\n",
       "      <td>1.0</td>\n",
       "      <td>1.0</td>\n",
       "      <td>0.0</td>\n",
       "      <td>1.0</td>\n",
       "      <td>0.0</td>\n",
       "      <td>1.0</td>\n",
       "      <td>1.0</td>\n",
       "      <td>1.0</td>\n",
       "      <td>1.0</td>\n",
       "      <td>0.0</td>\n",
       "      <td>0.0</td>\n",
       "      <td>0.0</td>\n",
       "      <td>0.0</td>\n",
       "      <td>1.0</td>\n",
       "      <td>5.0</td>\n",
       "      <td>1.0</td>\n",
       "      <td>1.0</td>\n",
       "      <td>0.0</td>\n",
       "      <td>1.0</td>\n",
       "    </tr>\n",
       "  </tbody>\n",
       "</table>\n",
       "<p>10824 rows × 20 columns</p>\n",
       "</div>"
      ],
      "text/plain": [
       "       respondent_id  h1n1_concern  h1n1_knowledge  behavioral_antiviral_meds  \\\n",
       "0            20765.0           1.0             2.0                        0.0   \n",
       "1            12835.0           3.0             1.0                        0.0   \n",
       "2            16627.0           2.0             1.0                        0.0   \n",
       "3            17524.0           2.0             1.0                        0.0   \n",
       "4            23014.0           2.0             1.0                        0.0   \n",
       "...              ...           ...             ...                        ...   \n",
       "10819        15877.0           3.0             1.0                        0.0   \n",
       "10820         4547.0           1.0             2.0                        0.0   \n",
       "10821         7454.0           2.0             2.0                        0.0   \n",
       "10822        11928.0           1.0             1.0                        0.0   \n",
       "10823        18923.0           1.0             1.0                        0.0   \n",
       "\n",
       "       behavioral_avoidance  behavioral_face_mask  behavioral_wash_hands  \\\n",
       "0                       1.0                   0.0                    1.0   \n",
       "1                       1.0                   0.0                    1.0   \n",
       "2                       1.0                   0.0                    1.0   \n",
       "3                       1.0                   0.0                    1.0   \n",
       "4                       1.0                   0.0                    1.0   \n",
       "...                     ...                   ...                    ...   \n",
       "10819                   1.0                   0.0                    1.0   \n",
       "10820                   0.0                   0.0                    1.0   \n",
       "10821                   1.0                   1.0                    1.0   \n",
       "10822                   0.0                   0.0                    0.0   \n",
       "10823                   1.0                   0.0                    1.0   \n",
       "\n",
       "       behavioral_large_gatherings  behavioral_outside_home  \\\n",
       "0                              0.0                      0.0   \n",
       "1                              0.0                      0.0   \n",
       "2                              1.0                      1.0   \n",
       "3                              0.0                      0.0   \n",
       "4                              1.0                      1.0   \n",
       "...                            ...                      ...   \n",
       "10819                          0.0                      0.0   \n",
       "10820                          0.0                      0.0   \n",
       "10821                          0.0                      0.0   \n",
       "10822                          0.0                      0.0   \n",
       "10823                          1.0                      1.0   \n",
       "\n",
       "       behavioral_touch_face  doctor_recc_h1n1  chronic_med_condition  \\\n",
       "0                        1.0               0.0                    0.0   \n",
       "1                        1.0               0.0                    0.0   \n",
       "2                        1.0               0.0                    1.0   \n",
       "3                        1.0               0.0                    0.0   \n",
       "4                        1.0               0.0                    0.0   \n",
       "...                      ...               ...                    ...   \n",
       "10819                    0.0               0.0                    0.0   \n",
       "10820                    1.0               1.0                    0.0   \n",
       "10821                    1.0               0.0                    0.0   \n",
       "10822                    0.0               0.0                    0.0   \n",
       "10823                    1.0               0.0                    0.0   \n",
       "\n",
       "       child_under_6_months  health_worker  health_insurance  \\\n",
       "0                       0.0            1.0               1.0   \n",
       "1                       0.0            0.0               1.0   \n",
       "2                       0.0            0.0               1.0   \n",
       "3                       0.0            0.0               1.0   \n",
       "4                       0.0            0.0               1.0   \n",
       "...                     ...            ...               ...   \n",
       "10819                   0.0            0.0               1.0   \n",
       "10820                   0.0            0.0               1.0   \n",
       "10821                   0.0            0.0               1.0   \n",
       "10822                   0.0            0.0               1.0   \n",
       "10823                   0.0            0.0               1.0   \n",
       "\n",
       "       opinion_h1n1_vacc_effective  opinion_h1n1_risk  \\\n",
       "0                              4.0                5.0   \n",
       "1                              4.0                4.0   \n",
       "2                              4.0                2.0   \n",
       "3                              4.0                2.0   \n",
       "4                              4.0                1.0   \n",
       "...                            ...                ...   \n",
       "10819                          5.0                2.0   \n",
       "10820                          5.0                2.0   \n",
       "10821                          4.0                2.0   \n",
       "10822                          3.0                1.0   \n",
       "10823                          5.0                1.0   \n",
       "\n",
       "       opinion_h1n1_sick_from_vacc  household_adults  household_children  \n",
       "0                              1.0               0.0                 0.0  \n",
       "1                              4.0               1.0                 1.0  \n",
       "2                              2.0               1.0                 0.0  \n",
       "3                              2.0               0.0                 0.0  \n",
       "4                              4.0               0.0                 0.0  \n",
       "...                            ...               ...                 ...  \n",
       "10819                          1.0               1.0                 0.0  \n",
       "10820                          1.0               1.0                 0.0  \n",
       "10821                          5.0               0.0                 3.0  \n",
       "10822                          1.0               2.0                 1.0  \n",
       "10823                          1.0               0.0                 1.0  \n",
       "\n",
       "[10824 rows x 20 columns]"
      ]
     },
     "execution_count": 14,
     "metadata": {},
     "output_type": "execute_result"
    }
   ],
   "source": [
    "#Imputing median value on numerical columns where survey response was not recorded.\n",
    "num_cols = ['respondent_id','h1n1_concern', 'h1n1_knowledge',\n",
    "       'behavioral_antiviral_meds', 'behavioral_avoidance',\n",
    "       'behavioral_face_mask', 'behavioral_wash_hands',\n",
    "       'behavioral_large_gatherings', 'behavioral_outside_home',\n",
    "       'behavioral_touch_face', 'doctor_recc_h1n1', 'chronic_med_condition',\n",
    "       'child_under_6_months', 'health_worker', 'health_insurance',\n",
    "       'opinion_h1n1_vacc_effective', 'opinion_h1n1_risk',\n",
    "       'opinion_h1n1_sick_from_vacc','household_adults',\n",
    "       'household_children']\n",
    "num_imp = SimpleImputer(strategy='median')\n",
    "num_imp.fit(X_train[num_cols])\n",
    "X_train_nums = pd.DataFrame(num_imp.transform(X_train[num_cols]), columns = X_train[num_cols].columns)\n",
    "X_train_nums"
   ]
  },
  {
   "cell_type": "code",
   "execution_count": 15,
   "metadata": {},
   "outputs": [
    {
     "data": {
      "text/html": [
       "<div>\n",
       "<style scoped>\n",
       "    .dataframe tbody tr th:only-of-type {\n",
       "        vertical-align: middle;\n",
       "    }\n",
       "\n",
       "    .dataframe tbody tr th {\n",
       "        vertical-align: top;\n",
       "    }\n",
       "\n",
       "    .dataframe thead th {\n",
       "        text-align: right;\n",
       "    }\n",
       "</style>\n",
       "<table border=\"1\" class=\"dataframe\">\n",
       "  <thead>\n",
       "    <tr style=\"text-align: right;\">\n",
       "      <th></th>\n",
       "      <th>respondent_id</th>\n",
       "      <th>h1n1_concern</th>\n",
       "      <th>h1n1_knowledge</th>\n",
       "      <th>behavioral_antiviral_meds</th>\n",
       "      <th>behavioral_avoidance</th>\n",
       "      <th>behavioral_face_mask</th>\n",
       "      <th>behavioral_wash_hands</th>\n",
       "      <th>behavioral_large_gatherings</th>\n",
       "      <th>behavioral_outside_home</th>\n",
       "      <th>behavioral_touch_face</th>\n",
       "      <th>...</th>\n",
       "      <th>race</th>\n",
       "      <th>sex</th>\n",
       "      <th>income_poverty</th>\n",
       "      <th>marital_status</th>\n",
       "      <th>rent_or_own</th>\n",
       "      <th>employment_status</th>\n",
       "      <th>hhs_geo_region</th>\n",
       "      <th>census_msa</th>\n",
       "      <th>employment_industry</th>\n",
       "      <th>employment_occupation</th>\n",
       "    </tr>\n",
       "  </thead>\n",
       "  <tbody>\n",
       "    <tr>\n",
       "      <th>0</th>\n",
       "      <td>20765.0</td>\n",
       "      <td>1.0</td>\n",
       "      <td>2.0</td>\n",
       "      <td>0.0</td>\n",
       "      <td>1.0</td>\n",
       "      <td>0.0</td>\n",
       "      <td>1.0</td>\n",
       "      <td>0.0</td>\n",
       "      <td>0.0</td>\n",
       "      <td>1.0</td>\n",
       "      <td>...</td>\n",
       "      <td>White</td>\n",
       "      <td>Female</td>\n",
       "      <td>&gt; $75,000</td>\n",
       "      <td>Not Married</td>\n",
       "      <td>Own</td>\n",
       "      <td>Employed</td>\n",
       "      <td>qufhixun</td>\n",
       "      <td>MSA, Not Principle  City</td>\n",
       "      <td>fcxhlnwr</td>\n",
       "      <td>cmhcxjea</td>\n",
       "    </tr>\n",
       "    <tr>\n",
       "      <th>1</th>\n",
       "      <td>12835.0</td>\n",
       "      <td>3.0</td>\n",
       "      <td>1.0</td>\n",
       "      <td>0.0</td>\n",
       "      <td>1.0</td>\n",
       "      <td>0.0</td>\n",
       "      <td>1.0</td>\n",
       "      <td>0.0</td>\n",
       "      <td>0.0</td>\n",
       "      <td>1.0</td>\n",
       "      <td>...</td>\n",
       "      <td>White</td>\n",
       "      <td>Female</td>\n",
       "      <td>&lt;= $75,000, Above Poverty</td>\n",
       "      <td>Married</td>\n",
       "      <td>Own</td>\n",
       "      <td>Employed</td>\n",
       "      <td>bhuqouqj</td>\n",
       "      <td>Non-MSA</td>\n",
       "      <td>wxleyezf</td>\n",
       "      <td>emcorrxb</td>\n",
       "    </tr>\n",
       "    <tr>\n",
       "      <th>2</th>\n",
       "      <td>16627.0</td>\n",
       "      <td>2.0</td>\n",
       "      <td>1.0</td>\n",
       "      <td>0.0</td>\n",
       "      <td>1.0</td>\n",
       "      <td>0.0</td>\n",
       "      <td>1.0</td>\n",
       "      <td>1.0</td>\n",
       "      <td>1.0</td>\n",
       "      <td>1.0</td>\n",
       "      <td>...</td>\n",
       "      <td>White</td>\n",
       "      <td>Male</td>\n",
       "      <td>&lt;= $75,000, Above Poverty</td>\n",
       "      <td>Married</td>\n",
       "      <td>Own</td>\n",
       "      <td>Not in Labor Force</td>\n",
       "      <td>oxchjgsf</td>\n",
       "      <td>Non-MSA</td>\n",
       "      <td>Unknown</td>\n",
       "      <td>Unknown</td>\n",
       "    </tr>\n",
       "    <tr>\n",
       "      <th>3</th>\n",
       "      <td>17524.0</td>\n",
       "      <td>2.0</td>\n",
       "      <td>1.0</td>\n",
       "      <td>0.0</td>\n",
       "      <td>1.0</td>\n",
       "      <td>0.0</td>\n",
       "      <td>1.0</td>\n",
       "      <td>0.0</td>\n",
       "      <td>0.0</td>\n",
       "      <td>1.0</td>\n",
       "      <td>...</td>\n",
       "      <td>White</td>\n",
       "      <td>Female</td>\n",
       "      <td>&lt;= $75,000, Above Poverty</td>\n",
       "      <td>Not Married</td>\n",
       "      <td>Own</td>\n",
       "      <td>Not in Labor Force</td>\n",
       "      <td>bhuqouqj</td>\n",
       "      <td>Non-MSA</td>\n",
       "      <td>Unknown</td>\n",
       "      <td>Unknown</td>\n",
       "    </tr>\n",
       "    <tr>\n",
       "      <th>4</th>\n",
       "      <td>23014.0</td>\n",
       "      <td>2.0</td>\n",
       "      <td>1.0</td>\n",
       "      <td>0.0</td>\n",
       "      <td>1.0</td>\n",
       "      <td>0.0</td>\n",
       "      <td>1.0</td>\n",
       "      <td>1.0</td>\n",
       "      <td>1.0</td>\n",
       "      <td>1.0</td>\n",
       "      <td>...</td>\n",
       "      <td>White</td>\n",
       "      <td>Female</td>\n",
       "      <td>&lt;= $75,000, Above Poverty</td>\n",
       "      <td>Not Married</td>\n",
       "      <td>Own</td>\n",
       "      <td>Not in Labor Force</td>\n",
       "      <td>kbazzjca</td>\n",
       "      <td>MSA, Principle City</td>\n",
       "      <td>Unknown</td>\n",
       "      <td>Unknown</td>\n",
       "    </tr>\n",
       "    <tr>\n",
       "      <th>...</th>\n",
       "      <td>...</td>\n",
       "      <td>...</td>\n",
       "      <td>...</td>\n",
       "      <td>...</td>\n",
       "      <td>...</td>\n",
       "      <td>...</td>\n",
       "      <td>...</td>\n",
       "      <td>...</td>\n",
       "      <td>...</td>\n",
       "      <td>...</td>\n",
       "      <td>...</td>\n",
       "      <td>...</td>\n",
       "      <td>...</td>\n",
       "      <td>...</td>\n",
       "      <td>...</td>\n",
       "      <td>...</td>\n",
       "      <td>...</td>\n",
       "      <td>...</td>\n",
       "      <td>...</td>\n",
       "      <td>...</td>\n",
       "      <td>...</td>\n",
       "    </tr>\n",
       "    <tr>\n",
       "      <th>10819</th>\n",
       "      <td>15877.0</td>\n",
       "      <td>3.0</td>\n",
       "      <td>1.0</td>\n",
       "      <td>0.0</td>\n",
       "      <td>1.0</td>\n",
       "      <td>0.0</td>\n",
       "      <td>1.0</td>\n",
       "      <td>0.0</td>\n",
       "      <td>0.0</td>\n",
       "      <td>0.0</td>\n",
       "      <td>...</td>\n",
       "      <td>White</td>\n",
       "      <td>Female</td>\n",
       "      <td>Below Poverty</td>\n",
       "      <td>Not Married</td>\n",
       "      <td>Rent</td>\n",
       "      <td>Unemployed</td>\n",
       "      <td>bhuqouqj</td>\n",
       "      <td>MSA, Not Principle  City</td>\n",
       "      <td>Unknown</td>\n",
       "      <td>Unknown</td>\n",
       "    </tr>\n",
       "    <tr>\n",
       "      <th>10820</th>\n",
       "      <td>4547.0</td>\n",
       "      <td>1.0</td>\n",
       "      <td>2.0</td>\n",
       "      <td>0.0</td>\n",
       "      <td>0.0</td>\n",
       "      <td>0.0</td>\n",
       "      <td>1.0</td>\n",
       "      <td>0.0</td>\n",
       "      <td>0.0</td>\n",
       "      <td>1.0</td>\n",
       "      <td>...</td>\n",
       "      <td>White</td>\n",
       "      <td>Female</td>\n",
       "      <td>&gt; $75,000</td>\n",
       "      <td>Married</td>\n",
       "      <td>Rent</td>\n",
       "      <td>Not in Labor Force</td>\n",
       "      <td>kbazzjca</td>\n",
       "      <td>MSA, Not Principle  City</td>\n",
       "      <td>Unknown</td>\n",
       "      <td>Unknown</td>\n",
       "    </tr>\n",
       "    <tr>\n",
       "      <th>10821</th>\n",
       "      <td>7454.0</td>\n",
       "      <td>2.0</td>\n",
       "      <td>2.0</td>\n",
       "      <td>0.0</td>\n",
       "      <td>1.0</td>\n",
       "      <td>1.0</td>\n",
       "      <td>1.0</td>\n",
       "      <td>0.0</td>\n",
       "      <td>0.0</td>\n",
       "      <td>1.0</td>\n",
       "      <td>...</td>\n",
       "      <td>Other or Multiple</td>\n",
       "      <td>Female</td>\n",
       "      <td>&lt;= $75,000, Above Poverty</td>\n",
       "      <td>Not Married</td>\n",
       "      <td>Rent</td>\n",
       "      <td>Not in Labor Force</td>\n",
       "      <td>lzgpxyit</td>\n",
       "      <td>MSA, Not Principle  City</td>\n",
       "      <td>Unknown</td>\n",
       "      <td>Unknown</td>\n",
       "    </tr>\n",
       "    <tr>\n",
       "      <th>10822</th>\n",
       "      <td>11928.0</td>\n",
       "      <td>1.0</td>\n",
       "      <td>1.0</td>\n",
       "      <td>0.0</td>\n",
       "      <td>0.0</td>\n",
       "      <td>0.0</td>\n",
       "      <td>0.0</td>\n",
       "      <td>0.0</td>\n",
       "      <td>0.0</td>\n",
       "      <td>0.0</td>\n",
       "      <td>...</td>\n",
       "      <td>White</td>\n",
       "      <td>Male</td>\n",
       "      <td>&gt; $75,000</td>\n",
       "      <td>Married</td>\n",
       "      <td>Own</td>\n",
       "      <td>Employed</td>\n",
       "      <td>mlyzmhmf</td>\n",
       "      <td>Non-MSA</td>\n",
       "      <td>cfqqtusy</td>\n",
       "      <td>rcertsgn</td>\n",
       "    </tr>\n",
       "    <tr>\n",
       "      <th>10823</th>\n",
       "      <td>18923.0</td>\n",
       "      <td>1.0</td>\n",
       "      <td>1.0</td>\n",
       "      <td>0.0</td>\n",
       "      <td>1.0</td>\n",
       "      <td>0.0</td>\n",
       "      <td>1.0</td>\n",
       "      <td>1.0</td>\n",
       "      <td>1.0</td>\n",
       "      <td>1.0</td>\n",
       "      <td>...</td>\n",
       "      <td>White</td>\n",
       "      <td>Female</td>\n",
       "      <td>Below Poverty</td>\n",
       "      <td>Not Married</td>\n",
       "      <td>Own</td>\n",
       "      <td>Not in Labor Force</td>\n",
       "      <td>kbazzjca</td>\n",
       "      <td>MSA, Not Principle  City</td>\n",
       "      <td>Unknown</td>\n",
       "      <td>Unknown</td>\n",
       "    </tr>\n",
       "  </tbody>\n",
       "</table>\n",
       "<p>10824 rows × 32 columns</p>\n",
       "</div>"
      ],
      "text/plain": [
       "       respondent_id  h1n1_concern  h1n1_knowledge  behavioral_antiviral_meds  \\\n",
       "0            20765.0           1.0             2.0                        0.0   \n",
       "1            12835.0           3.0             1.0                        0.0   \n",
       "2            16627.0           2.0             1.0                        0.0   \n",
       "3            17524.0           2.0             1.0                        0.0   \n",
       "4            23014.0           2.0             1.0                        0.0   \n",
       "...              ...           ...             ...                        ...   \n",
       "10819        15877.0           3.0             1.0                        0.0   \n",
       "10820         4547.0           1.0             2.0                        0.0   \n",
       "10821         7454.0           2.0             2.0                        0.0   \n",
       "10822        11928.0           1.0             1.0                        0.0   \n",
       "10823        18923.0           1.0             1.0                        0.0   \n",
       "\n",
       "       behavioral_avoidance  behavioral_face_mask  behavioral_wash_hands  \\\n",
       "0                       1.0                   0.0                    1.0   \n",
       "1                       1.0                   0.0                    1.0   \n",
       "2                       1.0                   0.0                    1.0   \n",
       "3                       1.0                   0.0                    1.0   \n",
       "4                       1.0                   0.0                    1.0   \n",
       "...                     ...                   ...                    ...   \n",
       "10819                   1.0                   0.0                    1.0   \n",
       "10820                   0.0                   0.0                    1.0   \n",
       "10821                   1.0                   1.0                    1.0   \n",
       "10822                   0.0                   0.0                    0.0   \n",
       "10823                   1.0                   0.0                    1.0   \n",
       "\n",
       "       behavioral_large_gatherings  behavioral_outside_home  \\\n",
       "0                              0.0                      0.0   \n",
       "1                              0.0                      0.0   \n",
       "2                              1.0                      1.0   \n",
       "3                              0.0                      0.0   \n",
       "4                              1.0                      1.0   \n",
       "...                            ...                      ...   \n",
       "10819                          0.0                      0.0   \n",
       "10820                          0.0                      0.0   \n",
       "10821                          0.0                      0.0   \n",
       "10822                          0.0                      0.0   \n",
       "10823                          1.0                      1.0   \n",
       "\n",
       "       behavioral_touch_face  ...               race     sex  \\\n",
       "0                        1.0  ...              White  Female   \n",
       "1                        1.0  ...              White  Female   \n",
       "2                        1.0  ...              White    Male   \n",
       "3                        1.0  ...              White  Female   \n",
       "4                        1.0  ...              White  Female   \n",
       "...                      ...  ...                ...     ...   \n",
       "10819                    0.0  ...              White  Female   \n",
       "10820                    1.0  ...              White  Female   \n",
       "10821                    1.0  ...  Other or Multiple  Female   \n",
       "10822                    0.0  ...              White    Male   \n",
       "10823                    1.0  ...              White  Female   \n",
       "\n",
       "                  income_poverty  marital_status  rent_or_own  \\\n",
       "0                      > $75,000     Not Married          Own   \n",
       "1      <= $75,000, Above Poverty         Married          Own   \n",
       "2      <= $75,000, Above Poverty         Married          Own   \n",
       "3      <= $75,000, Above Poverty     Not Married          Own   \n",
       "4      <= $75,000, Above Poverty     Not Married          Own   \n",
       "...                          ...             ...          ...   \n",
       "10819              Below Poverty     Not Married         Rent   \n",
       "10820                  > $75,000         Married         Rent   \n",
       "10821  <= $75,000, Above Poverty     Not Married         Rent   \n",
       "10822                  > $75,000         Married          Own   \n",
       "10823              Below Poverty     Not Married          Own   \n",
       "\n",
       "        employment_status  hhs_geo_region                census_msa  \\\n",
       "0                Employed        qufhixun  MSA, Not Principle  City   \n",
       "1                Employed        bhuqouqj                   Non-MSA   \n",
       "2      Not in Labor Force        oxchjgsf                   Non-MSA   \n",
       "3      Not in Labor Force        bhuqouqj                   Non-MSA   \n",
       "4      Not in Labor Force        kbazzjca       MSA, Principle City   \n",
       "...                   ...             ...                       ...   \n",
       "10819          Unemployed        bhuqouqj  MSA, Not Principle  City   \n",
       "10820  Not in Labor Force        kbazzjca  MSA, Not Principle  City   \n",
       "10821  Not in Labor Force        lzgpxyit  MSA, Not Principle  City   \n",
       "10822            Employed        mlyzmhmf                   Non-MSA   \n",
       "10823  Not in Labor Force        kbazzjca  MSA, Not Principle  City   \n",
       "\n",
       "       employment_industry  employment_occupation  \n",
       "0                 fcxhlnwr               cmhcxjea  \n",
       "1                 wxleyezf               emcorrxb  \n",
       "2                  Unknown                Unknown  \n",
       "3                  Unknown                Unknown  \n",
       "4                  Unknown                Unknown  \n",
       "...                    ...                    ...  \n",
       "10819              Unknown                Unknown  \n",
       "10820              Unknown                Unknown  \n",
       "10821              Unknown                Unknown  \n",
       "10822             cfqqtusy               rcertsgn  \n",
       "10823              Unknown                Unknown  \n",
       "\n",
       "[10824 rows x 32 columns]"
      ]
     },
     "execution_count": 15,
     "metadata": {},
     "output_type": "execute_result"
    }
   ],
   "source": [
    "#combining imputed columns back into X_train with no missing values\n",
    "X_train = pd.concat([X_train_nums, X_train_cats], axis=1)\n",
    "X_train"
   ]
  },
  {
   "cell_type": "code",
   "execution_count": 16,
   "metadata": {},
   "outputs": [],
   "source": [
    "#Imputing the \"unknown\" values for the object columns on the test set\n",
    "X_test_cats = pd.DataFrame(cat_imp.transform(X_test[cat_cols]), columns = X_test[cat_cols].columns)"
   ]
  },
  {
   "cell_type": "code",
   "execution_count": 17,
   "metadata": {},
   "outputs": [],
   "source": [
    "#Imputing the median values for the number columns on the test set\n",
    "X_test_nums = pd.DataFrame(num_imp.transform(X_test[num_cols]), columns = X_test[num_cols].columns)"
   ]
  },
  {
   "cell_type": "code",
   "execution_count": 18,
   "metadata": {},
   "outputs": [
    {
     "data": {
      "text/html": [
       "<div>\n",
       "<style scoped>\n",
       "    .dataframe tbody tr th:only-of-type {\n",
       "        vertical-align: middle;\n",
       "    }\n",
       "\n",
       "    .dataframe tbody tr th {\n",
       "        vertical-align: top;\n",
       "    }\n",
       "\n",
       "    .dataframe thead th {\n",
       "        text-align: right;\n",
       "    }\n",
       "</style>\n",
       "<table border=\"1\" class=\"dataframe\">\n",
       "  <thead>\n",
       "    <tr style=\"text-align: right;\">\n",
       "      <th></th>\n",
       "      <th>respondent_id</th>\n",
       "      <th>h1n1_concern</th>\n",
       "      <th>h1n1_knowledge</th>\n",
       "      <th>behavioral_antiviral_meds</th>\n",
       "      <th>behavioral_avoidance</th>\n",
       "      <th>behavioral_face_mask</th>\n",
       "      <th>behavioral_wash_hands</th>\n",
       "      <th>behavioral_large_gatherings</th>\n",
       "      <th>behavioral_outside_home</th>\n",
       "      <th>behavioral_touch_face</th>\n",
       "      <th>...</th>\n",
       "      <th>race</th>\n",
       "      <th>sex</th>\n",
       "      <th>income_poverty</th>\n",
       "      <th>marital_status</th>\n",
       "      <th>rent_or_own</th>\n",
       "      <th>employment_status</th>\n",
       "      <th>hhs_geo_region</th>\n",
       "      <th>census_msa</th>\n",
       "      <th>employment_industry</th>\n",
       "      <th>employment_occupation</th>\n",
       "    </tr>\n",
       "  </thead>\n",
       "  <tbody>\n",
       "    <tr>\n",
       "      <th>0</th>\n",
       "      <td>17023.0</td>\n",
       "      <td>0.0</td>\n",
       "      <td>2.0</td>\n",
       "      <td>0.0</td>\n",
       "      <td>0.0</td>\n",
       "      <td>0.0</td>\n",
       "      <td>0.0</td>\n",
       "      <td>0.0</td>\n",
       "      <td>0.0</td>\n",
       "      <td>0.0</td>\n",
       "      <td>...</td>\n",
       "      <td>White</td>\n",
       "      <td>Male</td>\n",
       "      <td>&gt; $75,000</td>\n",
       "      <td>Married</td>\n",
       "      <td>Own</td>\n",
       "      <td>Employed</td>\n",
       "      <td>oxchjgsf</td>\n",
       "      <td>MSA, Not Principle  City</td>\n",
       "      <td>xqicxuve</td>\n",
       "      <td>mxkfnird</td>\n",
       "    </tr>\n",
       "    <tr>\n",
       "      <th>1</th>\n",
       "      <td>21290.0</td>\n",
       "      <td>1.0</td>\n",
       "      <td>2.0</td>\n",
       "      <td>0.0</td>\n",
       "      <td>1.0</td>\n",
       "      <td>0.0</td>\n",
       "      <td>1.0</td>\n",
       "      <td>0.0</td>\n",
       "      <td>0.0</td>\n",
       "      <td>1.0</td>\n",
       "      <td>...</td>\n",
       "      <td>White</td>\n",
       "      <td>Male</td>\n",
       "      <td>&lt;= $75,000, Above Poverty</td>\n",
       "      <td>Married</td>\n",
       "      <td>Own</td>\n",
       "      <td>Employed</td>\n",
       "      <td>lzgpxyit</td>\n",
       "      <td>MSA, Not Principle  City</td>\n",
       "      <td>wxleyezf</td>\n",
       "      <td>emcorrxb</td>\n",
       "    </tr>\n",
       "    <tr>\n",
       "      <th>2</th>\n",
       "      <td>26231.0</td>\n",
       "      <td>2.0</td>\n",
       "      <td>1.0</td>\n",
       "      <td>0.0</td>\n",
       "      <td>1.0</td>\n",
       "      <td>0.0</td>\n",
       "      <td>1.0</td>\n",
       "      <td>0.0</td>\n",
       "      <td>0.0</td>\n",
       "      <td>1.0</td>\n",
       "      <td>...</td>\n",
       "      <td>White</td>\n",
       "      <td>Female</td>\n",
       "      <td>&lt;= $75,000, Above Poverty</td>\n",
       "      <td>Not Married</td>\n",
       "      <td>Own</td>\n",
       "      <td>Employed</td>\n",
       "      <td>bhuqouqj</td>\n",
       "      <td>MSA, Not Principle  City</td>\n",
       "      <td>wxleyezf</td>\n",
       "      <td>dlvbwzss</td>\n",
       "    </tr>\n",
       "    <tr>\n",
       "      <th>3</th>\n",
       "      <td>14639.0</td>\n",
       "      <td>3.0</td>\n",
       "      <td>1.0</td>\n",
       "      <td>0.0</td>\n",
       "      <td>1.0</td>\n",
       "      <td>0.0</td>\n",
       "      <td>1.0</td>\n",
       "      <td>1.0</td>\n",
       "      <td>1.0</td>\n",
       "      <td>1.0</td>\n",
       "      <td>...</td>\n",
       "      <td>White</td>\n",
       "      <td>Female</td>\n",
       "      <td>&gt; $75,000</td>\n",
       "      <td>Married</td>\n",
       "      <td>Own</td>\n",
       "      <td>Employed</td>\n",
       "      <td>lzgpxyit</td>\n",
       "      <td>MSA, Not Principle  City</td>\n",
       "      <td>fcxhlnwr</td>\n",
       "      <td>haliazsg</td>\n",
       "    </tr>\n",
       "    <tr>\n",
       "      <th>4</th>\n",
       "      <td>5221.0</td>\n",
       "      <td>1.0</td>\n",
       "      <td>1.0</td>\n",
       "      <td>0.0</td>\n",
       "      <td>1.0</td>\n",
       "      <td>0.0</td>\n",
       "      <td>0.0</td>\n",
       "      <td>0.0</td>\n",
       "      <td>0.0</td>\n",
       "      <td>1.0</td>\n",
       "      <td>...</td>\n",
       "      <td>White</td>\n",
       "      <td>Female</td>\n",
       "      <td>&lt;= $75,000, Above Poverty</td>\n",
       "      <td>Married</td>\n",
       "      <td>Own</td>\n",
       "      <td>Employed</td>\n",
       "      <td>kbazzjca</td>\n",
       "      <td>MSA, Principle City</td>\n",
       "      <td>vjjrobsf</td>\n",
       "      <td>oijqvulv</td>\n",
       "    </tr>\n",
       "    <tr>\n",
       "      <th>...</th>\n",
       "      <td>...</td>\n",
       "      <td>...</td>\n",
       "      <td>...</td>\n",
       "      <td>...</td>\n",
       "      <td>...</td>\n",
       "      <td>...</td>\n",
       "      <td>...</td>\n",
       "      <td>...</td>\n",
       "      <td>...</td>\n",
       "      <td>...</td>\n",
       "      <td>...</td>\n",
       "      <td>...</td>\n",
       "      <td>...</td>\n",
       "      <td>...</td>\n",
       "      <td>...</td>\n",
       "      <td>...</td>\n",
       "      <td>...</td>\n",
       "      <td>...</td>\n",
       "      <td>...</td>\n",
       "      <td>...</td>\n",
       "      <td>...</td>\n",
       "    </tr>\n",
       "    <tr>\n",
       "      <th>3604</th>\n",
       "      <td>16402.0</td>\n",
       "      <td>0.0</td>\n",
       "      <td>2.0</td>\n",
       "      <td>0.0</td>\n",
       "      <td>1.0</td>\n",
       "      <td>0.0</td>\n",
       "      <td>1.0</td>\n",
       "      <td>0.0</td>\n",
       "      <td>0.0</td>\n",
       "      <td>1.0</td>\n",
       "      <td>...</td>\n",
       "      <td>White</td>\n",
       "      <td>Female</td>\n",
       "      <td>&lt;= $75,000, Above Poverty</td>\n",
       "      <td>Married</td>\n",
       "      <td>Own</td>\n",
       "      <td>Employed</td>\n",
       "      <td>atmpeygn</td>\n",
       "      <td>Non-MSA</td>\n",
       "      <td>arjwrbjb</td>\n",
       "      <td>mxkfnird</td>\n",
       "    </tr>\n",
       "    <tr>\n",
       "      <th>3605</th>\n",
       "      <td>21457.0</td>\n",
       "      <td>1.0</td>\n",
       "      <td>1.0</td>\n",
       "      <td>0.0</td>\n",
       "      <td>0.0</td>\n",
       "      <td>0.0</td>\n",
       "      <td>0.0</td>\n",
       "      <td>0.0</td>\n",
       "      <td>0.0</td>\n",
       "      <td>1.0</td>\n",
       "      <td>...</td>\n",
       "      <td>White</td>\n",
       "      <td>Male</td>\n",
       "      <td>&lt;= $75,000, Above Poverty</td>\n",
       "      <td>Married</td>\n",
       "      <td>Own</td>\n",
       "      <td>Employed</td>\n",
       "      <td>oxchjgsf</td>\n",
       "      <td>MSA, Not Principle  City</td>\n",
       "      <td>atmlpfrs</td>\n",
       "      <td>vlluhbov</td>\n",
       "    </tr>\n",
       "    <tr>\n",
       "      <th>3606</th>\n",
       "      <td>26667.0</td>\n",
       "      <td>0.0</td>\n",
       "      <td>2.0</td>\n",
       "      <td>0.0</td>\n",
       "      <td>1.0</td>\n",
       "      <td>0.0</td>\n",
       "      <td>0.0</td>\n",
       "      <td>1.0</td>\n",
       "      <td>1.0</td>\n",
       "      <td>1.0</td>\n",
       "      <td>...</td>\n",
       "      <td>White</td>\n",
       "      <td>Male</td>\n",
       "      <td>Unknown</td>\n",
       "      <td>Not Married</td>\n",
       "      <td>Rent</td>\n",
       "      <td>Unemployed</td>\n",
       "      <td>dqpwygqj</td>\n",
       "      <td>MSA, Not Principle  City</td>\n",
       "      <td>Unknown</td>\n",
       "      <td>Unknown</td>\n",
       "    </tr>\n",
       "    <tr>\n",
       "      <th>3607</th>\n",
       "      <td>8254.0</td>\n",
       "      <td>3.0</td>\n",
       "      <td>1.0</td>\n",
       "      <td>0.0</td>\n",
       "      <td>1.0</td>\n",
       "      <td>0.0</td>\n",
       "      <td>1.0</td>\n",
       "      <td>0.0</td>\n",
       "      <td>0.0</td>\n",
       "      <td>1.0</td>\n",
       "      <td>...</td>\n",
       "      <td>Black</td>\n",
       "      <td>Male</td>\n",
       "      <td>&lt;= $75,000, Above Poverty</td>\n",
       "      <td>Married</td>\n",
       "      <td>Own</td>\n",
       "      <td>Unemployed</td>\n",
       "      <td>lzgpxyit</td>\n",
       "      <td>Non-MSA</td>\n",
       "      <td>Unknown</td>\n",
       "      <td>Unknown</td>\n",
       "    </tr>\n",
       "    <tr>\n",
       "      <th>3608</th>\n",
       "      <td>19066.0</td>\n",
       "      <td>2.0</td>\n",
       "      <td>1.0</td>\n",
       "      <td>0.0</td>\n",
       "      <td>1.0</td>\n",
       "      <td>0.0</td>\n",
       "      <td>1.0</td>\n",
       "      <td>0.0</td>\n",
       "      <td>0.0</td>\n",
       "      <td>1.0</td>\n",
       "      <td>...</td>\n",
       "      <td>White</td>\n",
       "      <td>Female</td>\n",
       "      <td>&lt;= $75,000, Above Poverty</td>\n",
       "      <td>Married</td>\n",
       "      <td>Own</td>\n",
       "      <td>Not in Labor Force</td>\n",
       "      <td>mlyzmhmf</td>\n",
       "      <td>MSA, Not Principle  City</td>\n",
       "      <td>Unknown</td>\n",
       "      <td>Unknown</td>\n",
       "    </tr>\n",
       "  </tbody>\n",
       "</table>\n",
       "<p>3609 rows × 32 columns</p>\n",
       "</div>"
      ],
      "text/plain": [
       "      respondent_id  h1n1_concern  h1n1_knowledge  behavioral_antiviral_meds  \\\n",
       "0           17023.0           0.0             2.0                        0.0   \n",
       "1           21290.0           1.0             2.0                        0.0   \n",
       "2           26231.0           2.0             1.0                        0.0   \n",
       "3           14639.0           3.0             1.0                        0.0   \n",
       "4            5221.0           1.0             1.0                        0.0   \n",
       "...             ...           ...             ...                        ...   \n",
       "3604        16402.0           0.0             2.0                        0.0   \n",
       "3605        21457.0           1.0             1.0                        0.0   \n",
       "3606        26667.0           0.0             2.0                        0.0   \n",
       "3607         8254.0           3.0             1.0                        0.0   \n",
       "3608        19066.0           2.0             1.0                        0.0   \n",
       "\n",
       "      behavioral_avoidance  behavioral_face_mask  behavioral_wash_hands  \\\n",
       "0                      0.0                   0.0                    0.0   \n",
       "1                      1.0                   0.0                    1.0   \n",
       "2                      1.0                   0.0                    1.0   \n",
       "3                      1.0                   0.0                    1.0   \n",
       "4                      1.0                   0.0                    0.0   \n",
       "...                    ...                   ...                    ...   \n",
       "3604                   1.0                   0.0                    1.0   \n",
       "3605                   0.0                   0.0                    0.0   \n",
       "3606                   1.0                   0.0                    0.0   \n",
       "3607                   1.0                   0.0                    1.0   \n",
       "3608                   1.0                   0.0                    1.0   \n",
       "\n",
       "      behavioral_large_gatherings  behavioral_outside_home  \\\n",
       "0                             0.0                      0.0   \n",
       "1                             0.0                      0.0   \n",
       "2                             0.0                      0.0   \n",
       "3                             1.0                      1.0   \n",
       "4                             0.0                      0.0   \n",
       "...                           ...                      ...   \n",
       "3604                          0.0                      0.0   \n",
       "3605                          0.0                      0.0   \n",
       "3606                          1.0                      1.0   \n",
       "3607                          0.0                      0.0   \n",
       "3608                          0.0                      0.0   \n",
       "\n",
       "      behavioral_touch_face  ...   race     sex             income_poverty  \\\n",
       "0                       0.0  ...  White    Male                  > $75,000   \n",
       "1                       1.0  ...  White    Male  <= $75,000, Above Poverty   \n",
       "2                       1.0  ...  White  Female  <= $75,000, Above Poverty   \n",
       "3                       1.0  ...  White  Female                  > $75,000   \n",
       "4                       1.0  ...  White  Female  <= $75,000, Above Poverty   \n",
       "...                     ...  ...    ...     ...                        ...   \n",
       "3604                    1.0  ...  White  Female  <= $75,000, Above Poverty   \n",
       "3605                    1.0  ...  White    Male  <= $75,000, Above Poverty   \n",
       "3606                    1.0  ...  White    Male                    Unknown   \n",
       "3607                    1.0  ...  Black    Male  <= $75,000, Above Poverty   \n",
       "3608                    1.0  ...  White  Female  <= $75,000, Above Poverty   \n",
       "\n",
       "      marital_status  rent_or_own   employment_status  hhs_geo_region  \\\n",
       "0            Married          Own            Employed        oxchjgsf   \n",
       "1            Married          Own            Employed        lzgpxyit   \n",
       "2        Not Married          Own            Employed        bhuqouqj   \n",
       "3            Married          Own            Employed        lzgpxyit   \n",
       "4            Married          Own            Employed        kbazzjca   \n",
       "...              ...          ...                 ...             ...   \n",
       "3604         Married          Own            Employed        atmpeygn   \n",
       "3605         Married          Own            Employed        oxchjgsf   \n",
       "3606     Not Married         Rent          Unemployed        dqpwygqj   \n",
       "3607         Married          Own          Unemployed        lzgpxyit   \n",
       "3608         Married          Own  Not in Labor Force        mlyzmhmf   \n",
       "\n",
       "                    census_msa  employment_industry  employment_occupation  \n",
       "0     MSA, Not Principle  City             xqicxuve               mxkfnird  \n",
       "1     MSA, Not Principle  City             wxleyezf               emcorrxb  \n",
       "2     MSA, Not Principle  City             wxleyezf               dlvbwzss  \n",
       "3     MSA, Not Principle  City             fcxhlnwr               haliazsg  \n",
       "4          MSA, Principle City             vjjrobsf               oijqvulv  \n",
       "...                        ...                  ...                    ...  \n",
       "3604                   Non-MSA             arjwrbjb               mxkfnird  \n",
       "3605  MSA, Not Principle  City             atmlpfrs               vlluhbov  \n",
       "3606  MSA, Not Principle  City              Unknown                Unknown  \n",
       "3607                   Non-MSA              Unknown                Unknown  \n",
       "3608  MSA, Not Principle  City              Unknown                Unknown  \n",
       "\n",
       "[3609 rows x 32 columns]"
      ]
     },
     "execution_count": 18,
     "metadata": {},
     "output_type": "execute_result"
    }
   ],
   "source": [
    "#Combining the imputed columns back into X_test\n",
    "X_test = pd.concat([X_test_nums, X_test_cats], axis=1)\n",
    "X_test"
   ]
  },
  {
   "cell_type": "code",
   "execution_count": 19,
   "metadata": {},
   "outputs": [
    {
     "data": {
      "text/html": [
       "<div>\n",
       "<style scoped>\n",
       "    .dataframe tbody tr th:only-of-type {\n",
       "        vertical-align: middle;\n",
       "    }\n",
       "\n",
       "    .dataframe tbody tr th {\n",
       "        vertical-align: top;\n",
       "    }\n",
       "\n",
       "    .dataframe thead th {\n",
       "        text-align: right;\n",
       "    }\n",
       "</style>\n",
       "<table border=\"1\" class=\"dataframe\">\n",
       "  <thead>\n",
       "    <tr style=\"text-align: right;\">\n",
       "      <th></th>\n",
       "      <th>x0_18 - 34 Years</th>\n",
       "      <th>x0_35 - 44 Years</th>\n",
       "      <th>x0_45 - 54 Years</th>\n",
       "      <th>x0_55 - 64 Years</th>\n",
       "      <th>x0_65+ Years</th>\n",
       "      <th>x1_12 Years</th>\n",
       "      <th>x1_&lt; 12 Years</th>\n",
       "      <th>x1_College Graduate</th>\n",
       "      <th>x1_Some College</th>\n",
       "      <th>x1_Unknown</th>\n",
       "      <th>...</th>\n",
       "      <th>x11_qxajmpny</th>\n",
       "      <th>x11_rcertsgn</th>\n",
       "      <th>x11_tfqavkke</th>\n",
       "      <th>x11_ukymxvdu</th>\n",
       "      <th>x11_uqqtjvyb</th>\n",
       "      <th>x11_vlluhbov</th>\n",
       "      <th>x11_xgwztkwe</th>\n",
       "      <th>x11_xqwwgdyp</th>\n",
       "      <th>x11_xtkaffoo</th>\n",
       "      <th>x11_xzmlyyjv</th>\n",
       "    </tr>\n",
       "  </thead>\n",
       "  <tbody>\n",
       "    <tr>\n",
       "      <th>0</th>\n",
       "      <td>0.0</td>\n",
       "      <td>0.0</td>\n",
       "      <td>1.0</td>\n",
       "      <td>0.0</td>\n",
       "      <td>0.0</td>\n",
       "      <td>0.0</td>\n",
       "      <td>0.0</td>\n",
       "      <td>1.0</td>\n",
       "      <td>0.0</td>\n",
       "      <td>0.0</td>\n",
       "      <td>...</td>\n",
       "      <td>0.0</td>\n",
       "      <td>0.0</td>\n",
       "      <td>0.0</td>\n",
       "      <td>0.0</td>\n",
       "      <td>0.0</td>\n",
       "      <td>0.0</td>\n",
       "      <td>0.0</td>\n",
       "      <td>0.0</td>\n",
       "      <td>0.0</td>\n",
       "      <td>0.0</td>\n",
       "    </tr>\n",
       "    <tr>\n",
       "      <th>1</th>\n",
       "      <td>1.0</td>\n",
       "      <td>0.0</td>\n",
       "      <td>0.0</td>\n",
       "      <td>0.0</td>\n",
       "      <td>0.0</td>\n",
       "      <td>0.0</td>\n",
       "      <td>0.0</td>\n",
       "      <td>1.0</td>\n",
       "      <td>0.0</td>\n",
       "      <td>0.0</td>\n",
       "      <td>...</td>\n",
       "      <td>0.0</td>\n",
       "      <td>0.0</td>\n",
       "      <td>0.0</td>\n",
       "      <td>0.0</td>\n",
       "      <td>0.0</td>\n",
       "      <td>0.0</td>\n",
       "      <td>0.0</td>\n",
       "      <td>0.0</td>\n",
       "      <td>0.0</td>\n",
       "      <td>0.0</td>\n",
       "    </tr>\n",
       "    <tr>\n",
       "      <th>2</th>\n",
       "      <td>0.0</td>\n",
       "      <td>0.0</td>\n",
       "      <td>0.0</td>\n",
       "      <td>0.0</td>\n",
       "      <td>1.0</td>\n",
       "      <td>1.0</td>\n",
       "      <td>0.0</td>\n",
       "      <td>0.0</td>\n",
       "      <td>0.0</td>\n",
       "      <td>0.0</td>\n",
       "      <td>...</td>\n",
       "      <td>0.0</td>\n",
       "      <td>0.0</td>\n",
       "      <td>0.0</td>\n",
       "      <td>0.0</td>\n",
       "      <td>0.0</td>\n",
       "      <td>0.0</td>\n",
       "      <td>0.0</td>\n",
       "      <td>0.0</td>\n",
       "      <td>0.0</td>\n",
       "      <td>0.0</td>\n",
       "    </tr>\n",
       "    <tr>\n",
       "      <th>3</th>\n",
       "      <td>0.0</td>\n",
       "      <td>0.0</td>\n",
       "      <td>0.0</td>\n",
       "      <td>0.0</td>\n",
       "      <td>1.0</td>\n",
       "      <td>0.0</td>\n",
       "      <td>0.0</td>\n",
       "      <td>1.0</td>\n",
       "      <td>0.0</td>\n",
       "      <td>0.0</td>\n",
       "      <td>...</td>\n",
       "      <td>0.0</td>\n",
       "      <td>0.0</td>\n",
       "      <td>0.0</td>\n",
       "      <td>0.0</td>\n",
       "      <td>0.0</td>\n",
       "      <td>0.0</td>\n",
       "      <td>0.0</td>\n",
       "      <td>0.0</td>\n",
       "      <td>0.0</td>\n",
       "      <td>0.0</td>\n",
       "    </tr>\n",
       "    <tr>\n",
       "      <th>4</th>\n",
       "      <td>0.0</td>\n",
       "      <td>0.0</td>\n",
       "      <td>0.0</td>\n",
       "      <td>0.0</td>\n",
       "      <td>1.0</td>\n",
       "      <td>1.0</td>\n",
       "      <td>0.0</td>\n",
       "      <td>0.0</td>\n",
       "      <td>0.0</td>\n",
       "      <td>0.0</td>\n",
       "      <td>...</td>\n",
       "      <td>0.0</td>\n",
       "      <td>0.0</td>\n",
       "      <td>0.0</td>\n",
       "      <td>0.0</td>\n",
       "      <td>0.0</td>\n",
       "      <td>0.0</td>\n",
       "      <td>0.0</td>\n",
       "      <td>0.0</td>\n",
       "      <td>0.0</td>\n",
       "      <td>0.0</td>\n",
       "    </tr>\n",
       "  </tbody>\n",
       "</table>\n",
       "<p>5 rows × 89 columns</p>\n",
       "</div>"
      ],
      "text/plain": [
       "   x0_18 - 34 Years  x0_35 - 44 Years  x0_45 - 54 Years  x0_55 - 64 Years  \\\n",
       "0               0.0               0.0               1.0               0.0   \n",
       "1               1.0               0.0               0.0               0.0   \n",
       "2               0.0               0.0               0.0               0.0   \n",
       "3               0.0               0.0               0.0               0.0   \n",
       "4               0.0               0.0               0.0               0.0   \n",
       "\n",
       "   x0_65+ Years  x1_12 Years  x1_< 12 Years  x1_College Graduate  \\\n",
       "0           0.0          0.0            0.0                  1.0   \n",
       "1           0.0          0.0            0.0                  1.0   \n",
       "2           1.0          1.0            0.0                  0.0   \n",
       "3           1.0          0.0            0.0                  1.0   \n",
       "4           1.0          1.0            0.0                  0.0   \n",
       "\n",
       "   x1_Some College  x1_Unknown  ...  x11_qxajmpny  x11_rcertsgn  x11_tfqavkke  \\\n",
       "0              0.0         0.0  ...           0.0           0.0           0.0   \n",
       "1              0.0         0.0  ...           0.0           0.0           0.0   \n",
       "2              0.0         0.0  ...           0.0           0.0           0.0   \n",
       "3              0.0         0.0  ...           0.0           0.0           0.0   \n",
       "4              0.0         0.0  ...           0.0           0.0           0.0   \n",
       "\n",
       "   x11_ukymxvdu  x11_uqqtjvyb  x11_vlluhbov  x11_xgwztkwe  x11_xqwwgdyp  \\\n",
       "0           0.0           0.0           0.0           0.0           0.0   \n",
       "1           0.0           0.0           0.0           0.0           0.0   \n",
       "2           0.0           0.0           0.0           0.0           0.0   \n",
       "3           0.0           0.0           0.0           0.0           0.0   \n",
       "4           0.0           0.0           0.0           0.0           0.0   \n",
       "\n",
       "   x11_xtkaffoo  x11_xzmlyyjv  \n",
       "0           0.0           0.0  \n",
       "1           0.0           0.0  \n",
       "2           0.0           0.0  \n",
       "3           0.0           0.0  \n",
       "4           0.0           0.0  \n",
       "\n",
       "[5 rows x 89 columns]"
      ]
     },
     "execution_count": 19,
     "metadata": {},
     "output_type": "execute_result"
    }
   ],
   "source": [
    "#Dummying out the \"object\" columns on the train data\n",
    "ohe = OneHotEncoder(sparse=False)\n",
    "X_train_dum = X_train.select_dtypes('object')\n",
    "dums = ohe.fit_transform(X_train_dum)\n",
    "dums_df = pd.DataFrame(dums,\n",
    "                       columns=ohe.get_feature_names(),\n",
    "                       index=X_train_dum.index)\n",
    "dums_df.head()"
   ]
  },
  {
   "cell_type": "code",
   "execution_count": 20,
   "metadata": {},
   "outputs": [
    {
     "data": {
      "text/html": [
       "<div>\n",
       "<style scoped>\n",
       "    .dataframe tbody tr th:only-of-type {\n",
       "        vertical-align: middle;\n",
       "    }\n",
       "\n",
       "    .dataframe tbody tr th {\n",
       "        vertical-align: top;\n",
       "    }\n",
       "\n",
       "    .dataframe thead th {\n",
       "        text-align: right;\n",
       "    }\n",
       "</style>\n",
       "<table border=\"1\" class=\"dataframe\">\n",
       "  <thead>\n",
       "    <tr style=\"text-align: right;\">\n",
       "      <th></th>\n",
       "      <th>respondent_id</th>\n",
       "      <th>h1n1_concern</th>\n",
       "      <th>h1n1_knowledge</th>\n",
       "      <th>behavioral_antiviral_meds</th>\n",
       "      <th>behavioral_avoidance</th>\n",
       "      <th>behavioral_face_mask</th>\n",
       "      <th>behavioral_wash_hands</th>\n",
       "      <th>behavioral_large_gatherings</th>\n",
       "      <th>behavioral_outside_home</th>\n",
       "      <th>behavioral_touch_face</th>\n",
       "      <th>...</th>\n",
       "      <th>x11_qxajmpny</th>\n",
       "      <th>x11_rcertsgn</th>\n",
       "      <th>x11_tfqavkke</th>\n",
       "      <th>x11_ukymxvdu</th>\n",
       "      <th>x11_uqqtjvyb</th>\n",
       "      <th>x11_vlluhbov</th>\n",
       "      <th>x11_xgwztkwe</th>\n",
       "      <th>x11_xqwwgdyp</th>\n",
       "      <th>x11_xtkaffoo</th>\n",
       "      <th>x11_xzmlyyjv</th>\n",
       "    </tr>\n",
       "  </thead>\n",
       "  <tbody>\n",
       "    <tr>\n",
       "      <th>0</th>\n",
       "      <td>20765.0</td>\n",
       "      <td>1.0</td>\n",
       "      <td>2.0</td>\n",
       "      <td>0.0</td>\n",
       "      <td>1.0</td>\n",
       "      <td>0.0</td>\n",
       "      <td>1.0</td>\n",
       "      <td>0.0</td>\n",
       "      <td>0.0</td>\n",
       "      <td>1.0</td>\n",
       "      <td>...</td>\n",
       "      <td>0.0</td>\n",
       "      <td>0.0</td>\n",
       "      <td>0.0</td>\n",
       "      <td>0.0</td>\n",
       "      <td>0.0</td>\n",
       "      <td>0.0</td>\n",
       "      <td>0.0</td>\n",
       "      <td>0.0</td>\n",
       "      <td>0.0</td>\n",
       "      <td>0.0</td>\n",
       "    </tr>\n",
       "    <tr>\n",
       "      <th>1</th>\n",
       "      <td>12835.0</td>\n",
       "      <td>3.0</td>\n",
       "      <td>1.0</td>\n",
       "      <td>0.0</td>\n",
       "      <td>1.0</td>\n",
       "      <td>0.0</td>\n",
       "      <td>1.0</td>\n",
       "      <td>0.0</td>\n",
       "      <td>0.0</td>\n",
       "      <td>1.0</td>\n",
       "      <td>...</td>\n",
       "      <td>0.0</td>\n",
       "      <td>0.0</td>\n",
       "      <td>0.0</td>\n",
       "      <td>0.0</td>\n",
       "      <td>0.0</td>\n",
       "      <td>0.0</td>\n",
       "      <td>0.0</td>\n",
       "      <td>0.0</td>\n",
       "      <td>0.0</td>\n",
       "      <td>0.0</td>\n",
       "    </tr>\n",
       "    <tr>\n",
       "      <th>2</th>\n",
       "      <td>16627.0</td>\n",
       "      <td>2.0</td>\n",
       "      <td>1.0</td>\n",
       "      <td>0.0</td>\n",
       "      <td>1.0</td>\n",
       "      <td>0.0</td>\n",
       "      <td>1.0</td>\n",
       "      <td>1.0</td>\n",
       "      <td>1.0</td>\n",
       "      <td>1.0</td>\n",
       "      <td>...</td>\n",
       "      <td>0.0</td>\n",
       "      <td>0.0</td>\n",
       "      <td>0.0</td>\n",
       "      <td>0.0</td>\n",
       "      <td>0.0</td>\n",
       "      <td>0.0</td>\n",
       "      <td>0.0</td>\n",
       "      <td>0.0</td>\n",
       "      <td>0.0</td>\n",
       "      <td>0.0</td>\n",
       "    </tr>\n",
       "    <tr>\n",
       "      <th>3</th>\n",
       "      <td>17524.0</td>\n",
       "      <td>2.0</td>\n",
       "      <td>1.0</td>\n",
       "      <td>0.0</td>\n",
       "      <td>1.0</td>\n",
       "      <td>0.0</td>\n",
       "      <td>1.0</td>\n",
       "      <td>0.0</td>\n",
       "      <td>0.0</td>\n",
       "      <td>1.0</td>\n",
       "      <td>...</td>\n",
       "      <td>0.0</td>\n",
       "      <td>0.0</td>\n",
       "      <td>0.0</td>\n",
       "      <td>0.0</td>\n",
       "      <td>0.0</td>\n",
       "      <td>0.0</td>\n",
       "      <td>0.0</td>\n",
       "      <td>0.0</td>\n",
       "      <td>0.0</td>\n",
       "      <td>0.0</td>\n",
       "    </tr>\n",
       "    <tr>\n",
       "      <th>4</th>\n",
       "      <td>23014.0</td>\n",
       "      <td>2.0</td>\n",
       "      <td>1.0</td>\n",
       "      <td>0.0</td>\n",
       "      <td>1.0</td>\n",
       "      <td>0.0</td>\n",
       "      <td>1.0</td>\n",
       "      <td>1.0</td>\n",
       "      <td>1.0</td>\n",
       "      <td>1.0</td>\n",
       "      <td>...</td>\n",
       "      <td>0.0</td>\n",
       "      <td>0.0</td>\n",
       "      <td>0.0</td>\n",
       "      <td>0.0</td>\n",
       "      <td>0.0</td>\n",
       "      <td>0.0</td>\n",
       "      <td>0.0</td>\n",
       "      <td>0.0</td>\n",
       "      <td>0.0</td>\n",
       "      <td>0.0</td>\n",
       "    </tr>\n",
       "  </tbody>\n",
       "</table>\n",
       "<p>5 rows × 109 columns</p>\n",
       "</div>"
      ],
      "text/plain": [
       "   respondent_id  h1n1_concern  h1n1_knowledge  behavioral_antiviral_meds  \\\n",
       "0        20765.0           1.0             2.0                        0.0   \n",
       "1        12835.0           3.0             1.0                        0.0   \n",
       "2        16627.0           2.0             1.0                        0.0   \n",
       "3        17524.0           2.0             1.0                        0.0   \n",
       "4        23014.0           2.0             1.0                        0.0   \n",
       "\n",
       "   behavioral_avoidance  behavioral_face_mask  behavioral_wash_hands  \\\n",
       "0                   1.0                   0.0                    1.0   \n",
       "1                   1.0                   0.0                    1.0   \n",
       "2                   1.0                   0.0                    1.0   \n",
       "3                   1.0                   0.0                    1.0   \n",
       "4                   1.0                   0.0                    1.0   \n",
       "\n",
       "   behavioral_large_gatherings  behavioral_outside_home  \\\n",
       "0                          0.0                      0.0   \n",
       "1                          0.0                      0.0   \n",
       "2                          1.0                      1.0   \n",
       "3                          0.0                      0.0   \n",
       "4                          1.0                      1.0   \n",
       "\n",
       "   behavioral_touch_face  ...  x11_qxajmpny  x11_rcertsgn  x11_tfqavkke  \\\n",
       "0                    1.0  ...           0.0           0.0           0.0   \n",
       "1                    1.0  ...           0.0           0.0           0.0   \n",
       "2                    1.0  ...           0.0           0.0           0.0   \n",
       "3                    1.0  ...           0.0           0.0           0.0   \n",
       "4                    1.0  ...           0.0           0.0           0.0   \n",
       "\n",
       "   x11_ukymxvdu  x11_uqqtjvyb  x11_vlluhbov  x11_xgwztkwe  x11_xqwwgdyp  \\\n",
       "0           0.0           0.0           0.0           0.0           0.0   \n",
       "1           0.0           0.0           0.0           0.0           0.0   \n",
       "2           0.0           0.0           0.0           0.0           0.0   \n",
       "3           0.0           0.0           0.0           0.0           0.0   \n",
       "4           0.0           0.0           0.0           0.0           0.0   \n",
       "\n",
       "   x11_xtkaffoo  x11_xzmlyyjv  \n",
       "0           0.0           0.0  \n",
       "1           0.0           0.0  \n",
       "2           0.0           0.0  \n",
       "3           0.0           0.0  \n",
       "4           0.0           0.0  \n",
       "\n",
       "[5 rows x 109 columns]"
      ]
     },
     "execution_count": 20,
     "metadata": {},
     "output_type": "execute_result"
    }
   ],
   "source": [
    "#combined the dummy columns back into the X_Train number columns for a complete, clean DF ready for modeling.\n",
    "X_train_clean = pd.concat([X_train_nums, dums_df], axis=1)\n",
    "X_train_clean.head()"
   ]
  },
  {
   "cell_type": "code",
   "execution_count": 21,
   "metadata": {},
   "outputs": [
    {
     "data": {
      "text/html": [
       "<div>\n",
       "<style scoped>\n",
       "    .dataframe tbody tr th:only-of-type {\n",
       "        vertical-align: middle;\n",
       "    }\n",
       "\n",
       "    .dataframe tbody tr th {\n",
       "        vertical-align: top;\n",
       "    }\n",
       "\n",
       "    .dataframe thead th {\n",
       "        text-align: right;\n",
       "    }\n",
       "</style>\n",
       "<table border=\"1\" class=\"dataframe\">\n",
       "  <thead>\n",
       "    <tr style=\"text-align: right;\">\n",
       "      <th></th>\n",
       "      <th>x0_18 - 34 Years</th>\n",
       "      <th>x0_35 - 44 Years</th>\n",
       "      <th>x0_45 - 54 Years</th>\n",
       "      <th>x0_55 - 64 Years</th>\n",
       "      <th>x0_65+ Years</th>\n",
       "      <th>x1_12 Years</th>\n",
       "      <th>x1_&lt; 12 Years</th>\n",
       "      <th>x1_College Graduate</th>\n",
       "      <th>x1_Some College</th>\n",
       "      <th>x1_Unknown</th>\n",
       "      <th>...</th>\n",
       "      <th>x11_qxajmpny</th>\n",
       "      <th>x11_rcertsgn</th>\n",
       "      <th>x11_tfqavkke</th>\n",
       "      <th>x11_ukymxvdu</th>\n",
       "      <th>x11_uqqtjvyb</th>\n",
       "      <th>x11_vlluhbov</th>\n",
       "      <th>x11_xgwztkwe</th>\n",
       "      <th>x11_xqwwgdyp</th>\n",
       "      <th>x11_xtkaffoo</th>\n",
       "      <th>x11_xzmlyyjv</th>\n",
       "    </tr>\n",
       "  </thead>\n",
       "  <tbody>\n",
       "    <tr>\n",
       "      <th>0</th>\n",
       "      <td>0.0</td>\n",
       "      <td>0.0</td>\n",
       "      <td>1.0</td>\n",
       "      <td>0.0</td>\n",
       "      <td>0.0</td>\n",
       "      <td>1.0</td>\n",
       "      <td>0.0</td>\n",
       "      <td>0.0</td>\n",
       "      <td>0.0</td>\n",
       "      <td>0.0</td>\n",
       "      <td>...</td>\n",
       "      <td>0.0</td>\n",
       "      <td>0.0</td>\n",
       "      <td>0.0</td>\n",
       "      <td>0.0</td>\n",
       "      <td>0.0</td>\n",
       "      <td>0.0</td>\n",
       "      <td>0.0</td>\n",
       "      <td>0.0</td>\n",
       "      <td>0.0</td>\n",
       "      <td>0.0</td>\n",
       "    </tr>\n",
       "    <tr>\n",
       "      <th>1</th>\n",
       "      <td>1.0</td>\n",
       "      <td>0.0</td>\n",
       "      <td>0.0</td>\n",
       "      <td>0.0</td>\n",
       "      <td>0.0</td>\n",
       "      <td>0.0</td>\n",
       "      <td>0.0</td>\n",
       "      <td>1.0</td>\n",
       "      <td>0.0</td>\n",
       "      <td>0.0</td>\n",
       "      <td>...</td>\n",
       "      <td>0.0</td>\n",
       "      <td>0.0</td>\n",
       "      <td>0.0</td>\n",
       "      <td>0.0</td>\n",
       "      <td>0.0</td>\n",
       "      <td>0.0</td>\n",
       "      <td>0.0</td>\n",
       "      <td>0.0</td>\n",
       "      <td>0.0</td>\n",
       "      <td>0.0</td>\n",
       "    </tr>\n",
       "    <tr>\n",
       "      <th>2</th>\n",
       "      <td>1.0</td>\n",
       "      <td>0.0</td>\n",
       "      <td>0.0</td>\n",
       "      <td>0.0</td>\n",
       "      <td>0.0</td>\n",
       "      <td>0.0</td>\n",
       "      <td>0.0</td>\n",
       "      <td>1.0</td>\n",
       "      <td>0.0</td>\n",
       "      <td>0.0</td>\n",
       "      <td>...</td>\n",
       "      <td>0.0</td>\n",
       "      <td>0.0</td>\n",
       "      <td>0.0</td>\n",
       "      <td>0.0</td>\n",
       "      <td>0.0</td>\n",
       "      <td>0.0</td>\n",
       "      <td>0.0</td>\n",
       "      <td>0.0</td>\n",
       "      <td>0.0</td>\n",
       "      <td>0.0</td>\n",
       "    </tr>\n",
       "    <tr>\n",
       "      <th>3</th>\n",
       "      <td>0.0</td>\n",
       "      <td>1.0</td>\n",
       "      <td>0.0</td>\n",
       "      <td>0.0</td>\n",
       "      <td>0.0</td>\n",
       "      <td>0.0</td>\n",
       "      <td>0.0</td>\n",
       "      <td>0.0</td>\n",
       "      <td>1.0</td>\n",
       "      <td>0.0</td>\n",
       "      <td>...</td>\n",
       "      <td>0.0</td>\n",
       "      <td>0.0</td>\n",
       "      <td>0.0</td>\n",
       "      <td>0.0</td>\n",
       "      <td>0.0</td>\n",
       "      <td>0.0</td>\n",
       "      <td>0.0</td>\n",
       "      <td>0.0</td>\n",
       "      <td>0.0</td>\n",
       "      <td>0.0</td>\n",
       "    </tr>\n",
       "    <tr>\n",
       "      <th>4</th>\n",
       "      <td>0.0</td>\n",
       "      <td>0.0</td>\n",
       "      <td>1.0</td>\n",
       "      <td>0.0</td>\n",
       "      <td>0.0</td>\n",
       "      <td>0.0</td>\n",
       "      <td>0.0</td>\n",
       "      <td>0.0</td>\n",
       "      <td>1.0</td>\n",
       "      <td>0.0</td>\n",
       "      <td>...</td>\n",
       "      <td>0.0</td>\n",
       "      <td>0.0</td>\n",
       "      <td>0.0</td>\n",
       "      <td>0.0</td>\n",
       "      <td>0.0</td>\n",
       "      <td>0.0</td>\n",
       "      <td>0.0</td>\n",
       "      <td>0.0</td>\n",
       "      <td>0.0</td>\n",
       "      <td>0.0</td>\n",
       "    </tr>\n",
       "  </tbody>\n",
       "</table>\n",
       "<p>5 rows × 89 columns</p>\n",
       "</div>"
      ],
      "text/plain": [
       "   x0_18 - 34 Years  x0_35 - 44 Years  x0_45 - 54 Years  x0_55 - 64 Years  \\\n",
       "0               0.0               0.0               1.0               0.0   \n",
       "1               1.0               0.0               0.0               0.0   \n",
       "2               1.0               0.0               0.0               0.0   \n",
       "3               0.0               1.0               0.0               0.0   \n",
       "4               0.0               0.0               1.0               0.0   \n",
       "\n",
       "   x0_65+ Years  x1_12 Years  x1_< 12 Years  x1_College Graduate  \\\n",
       "0           0.0          1.0            0.0                  0.0   \n",
       "1           0.0          0.0            0.0                  1.0   \n",
       "2           0.0          0.0            0.0                  1.0   \n",
       "3           0.0          0.0            0.0                  0.0   \n",
       "4           0.0          0.0            0.0                  0.0   \n",
       "\n",
       "   x1_Some College  x1_Unknown  ...  x11_qxajmpny  x11_rcertsgn  x11_tfqavkke  \\\n",
       "0              0.0         0.0  ...           0.0           0.0           0.0   \n",
       "1              0.0         0.0  ...           0.0           0.0           0.0   \n",
       "2              0.0         0.0  ...           0.0           0.0           0.0   \n",
       "3              1.0         0.0  ...           0.0           0.0           0.0   \n",
       "4              1.0         0.0  ...           0.0           0.0           0.0   \n",
       "\n",
       "   x11_ukymxvdu  x11_uqqtjvyb  x11_vlluhbov  x11_xgwztkwe  x11_xqwwgdyp  \\\n",
       "0           0.0           0.0           0.0           0.0           0.0   \n",
       "1           0.0           0.0           0.0           0.0           0.0   \n",
       "2           0.0           0.0           0.0           0.0           0.0   \n",
       "3           0.0           0.0           0.0           0.0           0.0   \n",
       "4           0.0           0.0           0.0           0.0           0.0   \n",
       "\n",
       "   x11_xtkaffoo  x11_xzmlyyjv  \n",
       "0           0.0           0.0  \n",
       "1           0.0           0.0  \n",
       "2           0.0           0.0  \n",
       "3           0.0           0.0  \n",
       "4           0.0           0.0  \n",
       "\n",
       "[5 rows x 89 columns]"
      ]
     },
     "execution_count": 21,
     "metadata": {},
     "output_type": "execute_result"
    }
   ],
   "source": [
    "#Dummy out object column on cleaned test df\n",
    "X_test_dum = X_test.select_dtypes('object')\n",
    "\n",
    "X_test_dums = ohe.transform(X_test_dum)\n",
    "X_test_dums_df = pd.DataFrame(X_test_dums,\n",
    "                       columns=ohe.get_feature_names(),\n",
    "                      index=X_test_dum.index)\n",
    "X_test_dums_df.head()"
   ]
  },
  {
   "cell_type": "code",
   "execution_count": 22,
   "metadata": {},
   "outputs": [
    {
     "data": {
      "text/html": [
       "<div>\n",
       "<style scoped>\n",
       "    .dataframe tbody tr th:only-of-type {\n",
       "        vertical-align: middle;\n",
       "    }\n",
       "\n",
       "    .dataframe tbody tr th {\n",
       "        vertical-align: top;\n",
       "    }\n",
       "\n",
       "    .dataframe thead th {\n",
       "        text-align: right;\n",
       "    }\n",
       "</style>\n",
       "<table border=\"1\" class=\"dataframe\">\n",
       "  <thead>\n",
       "    <tr style=\"text-align: right;\">\n",
       "      <th></th>\n",
       "      <th>respondent_id</th>\n",
       "      <th>h1n1_concern</th>\n",
       "      <th>h1n1_knowledge</th>\n",
       "      <th>behavioral_antiviral_meds</th>\n",
       "      <th>behavioral_avoidance</th>\n",
       "      <th>behavioral_face_mask</th>\n",
       "      <th>behavioral_wash_hands</th>\n",
       "      <th>behavioral_large_gatherings</th>\n",
       "      <th>behavioral_outside_home</th>\n",
       "      <th>behavioral_touch_face</th>\n",
       "      <th>...</th>\n",
       "      <th>x11_qxajmpny</th>\n",
       "      <th>x11_rcertsgn</th>\n",
       "      <th>x11_tfqavkke</th>\n",
       "      <th>x11_ukymxvdu</th>\n",
       "      <th>x11_uqqtjvyb</th>\n",
       "      <th>x11_vlluhbov</th>\n",
       "      <th>x11_xgwztkwe</th>\n",
       "      <th>x11_xqwwgdyp</th>\n",
       "      <th>x11_xtkaffoo</th>\n",
       "      <th>x11_xzmlyyjv</th>\n",
       "    </tr>\n",
       "  </thead>\n",
       "  <tbody>\n",
       "    <tr>\n",
       "      <th>0</th>\n",
       "      <td>17023.0</td>\n",
       "      <td>0.0</td>\n",
       "      <td>2.0</td>\n",
       "      <td>0.0</td>\n",
       "      <td>0.0</td>\n",
       "      <td>0.0</td>\n",
       "      <td>0.0</td>\n",
       "      <td>0.0</td>\n",
       "      <td>0.0</td>\n",
       "      <td>0.0</td>\n",
       "      <td>...</td>\n",
       "      <td>0.0</td>\n",
       "      <td>0.0</td>\n",
       "      <td>0.0</td>\n",
       "      <td>0.0</td>\n",
       "      <td>0.0</td>\n",
       "      <td>0.0</td>\n",
       "      <td>0.0</td>\n",
       "      <td>0.0</td>\n",
       "      <td>0.0</td>\n",
       "      <td>0.0</td>\n",
       "    </tr>\n",
       "    <tr>\n",
       "      <th>1</th>\n",
       "      <td>21290.0</td>\n",
       "      <td>1.0</td>\n",
       "      <td>2.0</td>\n",
       "      <td>0.0</td>\n",
       "      <td>1.0</td>\n",
       "      <td>0.0</td>\n",
       "      <td>1.0</td>\n",
       "      <td>0.0</td>\n",
       "      <td>0.0</td>\n",
       "      <td>1.0</td>\n",
       "      <td>...</td>\n",
       "      <td>0.0</td>\n",
       "      <td>0.0</td>\n",
       "      <td>0.0</td>\n",
       "      <td>0.0</td>\n",
       "      <td>0.0</td>\n",
       "      <td>0.0</td>\n",
       "      <td>0.0</td>\n",
       "      <td>0.0</td>\n",
       "      <td>0.0</td>\n",
       "      <td>0.0</td>\n",
       "    </tr>\n",
       "    <tr>\n",
       "      <th>2</th>\n",
       "      <td>26231.0</td>\n",
       "      <td>2.0</td>\n",
       "      <td>1.0</td>\n",
       "      <td>0.0</td>\n",
       "      <td>1.0</td>\n",
       "      <td>0.0</td>\n",
       "      <td>1.0</td>\n",
       "      <td>0.0</td>\n",
       "      <td>0.0</td>\n",
       "      <td>1.0</td>\n",
       "      <td>...</td>\n",
       "      <td>0.0</td>\n",
       "      <td>0.0</td>\n",
       "      <td>0.0</td>\n",
       "      <td>0.0</td>\n",
       "      <td>0.0</td>\n",
       "      <td>0.0</td>\n",
       "      <td>0.0</td>\n",
       "      <td>0.0</td>\n",
       "      <td>0.0</td>\n",
       "      <td>0.0</td>\n",
       "    </tr>\n",
       "    <tr>\n",
       "      <th>3</th>\n",
       "      <td>14639.0</td>\n",
       "      <td>3.0</td>\n",
       "      <td>1.0</td>\n",
       "      <td>0.0</td>\n",
       "      <td>1.0</td>\n",
       "      <td>0.0</td>\n",
       "      <td>1.0</td>\n",
       "      <td>1.0</td>\n",
       "      <td>1.0</td>\n",
       "      <td>1.0</td>\n",
       "      <td>...</td>\n",
       "      <td>0.0</td>\n",
       "      <td>0.0</td>\n",
       "      <td>0.0</td>\n",
       "      <td>0.0</td>\n",
       "      <td>0.0</td>\n",
       "      <td>0.0</td>\n",
       "      <td>0.0</td>\n",
       "      <td>0.0</td>\n",
       "      <td>0.0</td>\n",
       "      <td>0.0</td>\n",
       "    </tr>\n",
       "    <tr>\n",
       "      <th>4</th>\n",
       "      <td>5221.0</td>\n",
       "      <td>1.0</td>\n",
       "      <td>1.0</td>\n",
       "      <td>0.0</td>\n",
       "      <td>1.0</td>\n",
       "      <td>0.0</td>\n",
       "      <td>0.0</td>\n",
       "      <td>0.0</td>\n",
       "      <td>0.0</td>\n",
       "      <td>1.0</td>\n",
       "      <td>...</td>\n",
       "      <td>0.0</td>\n",
       "      <td>0.0</td>\n",
       "      <td>0.0</td>\n",
       "      <td>0.0</td>\n",
       "      <td>0.0</td>\n",
       "      <td>0.0</td>\n",
       "      <td>0.0</td>\n",
       "      <td>0.0</td>\n",
       "      <td>0.0</td>\n",
       "      <td>0.0</td>\n",
       "    </tr>\n",
       "  </tbody>\n",
       "</table>\n",
       "<p>5 rows × 109 columns</p>\n",
       "</div>"
      ],
      "text/plain": [
       "   respondent_id  h1n1_concern  h1n1_knowledge  behavioral_antiviral_meds  \\\n",
       "0        17023.0           0.0             2.0                        0.0   \n",
       "1        21290.0           1.0             2.0                        0.0   \n",
       "2        26231.0           2.0             1.0                        0.0   \n",
       "3        14639.0           3.0             1.0                        0.0   \n",
       "4         5221.0           1.0             1.0                        0.0   \n",
       "\n",
       "   behavioral_avoidance  behavioral_face_mask  behavioral_wash_hands  \\\n",
       "0                   0.0                   0.0                    0.0   \n",
       "1                   1.0                   0.0                    1.0   \n",
       "2                   1.0                   0.0                    1.0   \n",
       "3                   1.0                   0.0                    1.0   \n",
       "4                   1.0                   0.0                    0.0   \n",
       "\n",
       "   behavioral_large_gatherings  behavioral_outside_home  \\\n",
       "0                          0.0                      0.0   \n",
       "1                          0.0                      0.0   \n",
       "2                          0.0                      0.0   \n",
       "3                          1.0                      1.0   \n",
       "4                          0.0                      0.0   \n",
       "\n",
       "   behavioral_touch_face  ...  x11_qxajmpny  x11_rcertsgn  x11_tfqavkke  \\\n",
       "0                    0.0  ...           0.0           0.0           0.0   \n",
       "1                    1.0  ...           0.0           0.0           0.0   \n",
       "2                    1.0  ...           0.0           0.0           0.0   \n",
       "3                    1.0  ...           0.0           0.0           0.0   \n",
       "4                    1.0  ...           0.0           0.0           0.0   \n",
       "\n",
       "   x11_ukymxvdu  x11_uqqtjvyb  x11_vlluhbov  x11_xgwztkwe  x11_xqwwgdyp  \\\n",
       "0           0.0           0.0           0.0           0.0           0.0   \n",
       "1           0.0           0.0           0.0           0.0           0.0   \n",
       "2           0.0           0.0           0.0           0.0           0.0   \n",
       "3           0.0           0.0           0.0           0.0           0.0   \n",
       "4           0.0           0.0           0.0           0.0           0.0   \n",
       "\n",
       "   x11_xtkaffoo  x11_xzmlyyjv  \n",
       "0           0.0           0.0  \n",
       "1           0.0           0.0  \n",
       "2           0.0           0.0  \n",
       "3           0.0           0.0  \n",
       "4           0.0           0.0  \n",
       "\n",
       "[5 rows x 109 columns]"
      ]
     },
     "execution_count": 22,
     "metadata": {},
     "output_type": "execute_result"
    }
   ],
   "source": [
    "#combine dummy columns with numerical clean columns on test set for clean df ready for modeling\n",
    "X_test_clean = pd.concat([X_test_nums, X_test_dums_df], axis=1)\n",
    "X_test_clean.head()"
   ]
  },
  {
   "cell_type": "code",
   "execution_count": 23,
   "metadata": {},
   "outputs": [
    {
     "data": {
      "text/html": [
       "<div>\n",
       "<style scoped>\n",
       "    .dataframe tbody tr th:only-of-type {\n",
       "        vertical-align: middle;\n",
       "    }\n",
       "\n",
       "    .dataframe tbody tr th {\n",
       "        vertical-align: top;\n",
       "    }\n",
       "\n",
       "    .dataframe thead th {\n",
       "        text-align: right;\n",
       "    }\n",
       "</style>\n",
       "<table border=\"1\" class=\"dataframe\">\n",
       "  <thead>\n",
       "    <tr style=\"text-align: right;\">\n",
       "      <th></th>\n",
       "      <th>h1n1_concern</th>\n",
       "      <th>h1n1_knowledge</th>\n",
       "      <th>behavioral_antiviral_meds</th>\n",
       "      <th>behavioral_avoidance</th>\n",
       "      <th>behavioral_face_mask</th>\n",
       "      <th>behavioral_wash_hands</th>\n",
       "      <th>behavioral_large_gatherings</th>\n",
       "      <th>behavioral_outside_home</th>\n",
       "      <th>behavioral_touch_face</th>\n",
       "      <th>doctor_recc_h1n1</th>\n",
       "      <th>...</th>\n",
       "      <th>x11_qxajmpny</th>\n",
       "      <th>x11_rcertsgn</th>\n",
       "      <th>x11_tfqavkke</th>\n",
       "      <th>x11_ukymxvdu</th>\n",
       "      <th>x11_uqqtjvyb</th>\n",
       "      <th>x11_vlluhbov</th>\n",
       "      <th>x11_xgwztkwe</th>\n",
       "      <th>x11_xqwwgdyp</th>\n",
       "      <th>x11_xtkaffoo</th>\n",
       "      <th>x11_xzmlyyjv</th>\n",
       "    </tr>\n",
       "    <tr>\n",
       "      <th>respondent_id</th>\n",
       "      <th></th>\n",
       "      <th></th>\n",
       "      <th></th>\n",
       "      <th></th>\n",
       "      <th></th>\n",
       "      <th></th>\n",
       "      <th></th>\n",
       "      <th></th>\n",
       "      <th></th>\n",
       "      <th></th>\n",
       "      <th></th>\n",
       "      <th></th>\n",
       "      <th></th>\n",
       "      <th></th>\n",
       "      <th></th>\n",
       "      <th></th>\n",
       "      <th></th>\n",
       "      <th></th>\n",
       "      <th></th>\n",
       "      <th></th>\n",
       "      <th></th>\n",
       "    </tr>\n",
       "  </thead>\n",
       "  <tbody>\n",
       "    <tr>\n",
       "      <th>20765.0</th>\n",
       "      <td>1.0</td>\n",
       "      <td>2.0</td>\n",
       "      <td>0.0</td>\n",
       "      <td>1.0</td>\n",
       "      <td>0.0</td>\n",
       "      <td>1.0</td>\n",
       "      <td>0.0</td>\n",
       "      <td>0.0</td>\n",
       "      <td>1.0</td>\n",
       "      <td>0.0</td>\n",
       "      <td>...</td>\n",
       "      <td>0.0</td>\n",
       "      <td>0.0</td>\n",
       "      <td>0.0</td>\n",
       "      <td>0.0</td>\n",
       "      <td>0.0</td>\n",
       "      <td>0.0</td>\n",
       "      <td>0.0</td>\n",
       "      <td>0.0</td>\n",
       "      <td>0.0</td>\n",
       "      <td>0.0</td>\n",
       "    </tr>\n",
       "    <tr>\n",
       "      <th>12835.0</th>\n",
       "      <td>3.0</td>\n",
       "      <td>1.0</td>\n",
       "      <td>0.0</td>\n",
       "      <td>1.0</td>\n",
       "      <td>0.0</td>\n",
       "      <td>1.0</td>\n",
       "      <td>0.0</td>\n",
       "      <td>0.0</td>\n",
       "      <td>1.0</td>\n",
       "      <td>0.0</td>\n",
       "      <td>...</td>\n",
       "      <td>0.0</td>\n",
       "      <td>0.0</td>\n",
       "      <td>0.0</td>\n",
       "      <td>0.0</td>\n",
       "      <td>0.0</td>\n",
       "      <td>0.0</td>\n",
       "      <td>0.0</td>\n",
       "      <td>0.0</td>\n",
       "      <td>0.0</td>\n",
       "      <td>0.0</td>\n",
       "    </tr>\n",
       "    <tr>\n",
       "      <th>16627.0</th>\n",
       "      <td>2.0</td>\n",
       "      <td>1.0</td>\n",
       "      <td>0.0</td>\n",
       "      <td>1.0</td>\n",
       "      <td>0.0</td>\n",
       "      <td>1.0</td>\n",
       "      <td>1.0</td>\n",
       "      <td>1.0</td>\n",
       "      <td>1.0</td>\n",
       "      <td>0.0</td>\n",
       "      <td>...</td>\n",
       "      <td>0.0</td>\n",
       "      <td>0.0</td>\n",
       "      <td>0.0</td>\n",
       "      <td>0.0</td>\n",
       "      <td>0.0</td>\n",
       "      <td>0.0</td>\n",
       "      <td>0.0</td>\n",
       "      <td>0.0</td>\n",
       "      <td>0.0</td>\n",
       "      <td>0.0</td>\n",
       "    </tr>\n",
       "    <tr>\n",
       "      <th>17524.0</th>\n",
       "      <td>2.0</td>\n",
       "      <td>1.0</td>\n",
       "      <td>0.0</td>\n",
       "      <td>1.0</td>\n",
       "      <td>0.0</td>\n",
       "      <td>1.0</td>\n",
       "      <td>0.0</td>\n",
       "      <td>0.0</td>\n",
       "      <td>1.0</td>\n",
       "      <td>0.0</td>\n",
       "      <td>...</td>\n",
       "      <td>0.0</td>\n",
       "      <td>0.0</td>\n",
       "      <td>0.0</td>\n",
       "      <td>0.0</td>\n",
       "      <td>0.0</td>\n",
       "      <td>0.0</td>\n",
       "      <td>0.0</td>\n",
       "      <td>0.0</td>\n",
       "      <td>0.0</td>\n",
       "      <td>0.0</td>\n",
       "    </tr>\n",
       "    <tr>\n",
       "      <th>23014.0</th>\n",
       "      <td>2.0</td>\n",
       "      <td>1.0</td>\n",
       "      <td>0.0</td>\n",
       "      <td>1.0</td>\n",
       "      <td>0.0</td>\n",
       "      <td>1.0</td>\n",
       "      <td>1.0</td>\n",
       "      <td>1.0</td>\n",
       "      <td>1.0</td>\n",
       "      <td>0.0</td>\n",
       "      <td>...</td>\n",
       "      <td>0.0</td>\n",
       "      <td>0.0</td>\n",
       "      <td>0.0</td>\n",
       "      <td>0.0</td>\n",
       "      <td>0.0</td>\n",
       "      <td>0.0</td>\n",
       "      <td>0.0</td>\n",
       "      <td>0.0</td>\n",
       "      <td>0.0</td>\n",
       "      <td>0.0</td>\n",
       "    </tr>\n",
       "  </tbody>\n",
       "</table>\n",
       "<p>5 rows × 108 columns</p>\n",
       "</div>"
      ],
      "text/plain": [
       "               h1n1_concern  h1n1_knowledge  behavioral_antiviral_meds  \\\n",
       "respondent_id                                                            \n",
       "20765.0                 1.0             2.0                        0.0   \n",
       "12835.0                 3.0             1.0                        0.0   \n",
       "16627.0                 2.0             1.0                        0.0   \n",
       "17524.0                 2.0             1.0                        0.0   \n",
       "23014.0                 2.0             1.0                        0.0   \n",
       "\n",
       "               behavioral_avoidance  behavioral_face_mask  \\\n",
       "respondent_id                                               \n",
       "20765.0                         1.0                   0.0   \n",
       "12835.0                         1.0                   0.0   \n",
       "16627.0                         1.0                   0.0   \n",
       "17524.0                         1.0                   0.0   \n",
       "23014.0                         1.0                   0.0   \n",
       "\n",
       "               behavioral_wash_hands  behavioral_large_gatherings  \\\n",
       "respondent_id                                                       \n",
       "20765.0                          1.0                          0.0   \n",
       "12835.0                          1.0                          0.0   \n",
       "16627.0                          1.0                          1.0   \n",
       "17524.0                          1.0                          0.0   \n",
       "23014.0                          1.0                          1.0   \n",
       "\n",
       "               behavioral_outside_home  behavioral_touch_face  \\\n",
       "respondent_id                                                   \n",
       "20765.0                            0.0                    1.0   \n",
       "12835.0                            0.0                    1.0   \n",
       "16627.0                            1.0                    1.0   \n",
       "17524.0                            0.0                    1.0   \n",
       "23014.0                            1.0                    1.0   \n",
       "\n",
       "               doctor_recc_h1n1  ...  x11_qxajmpny  x11_rcertsgn  \\\n",
       "respondent_id                    ...                               \n",
       "20765.0                     0.0  ...           0.0           0.0   \n",
       "12835.0                     0.0  ...           0.0           0.0   \n",
       "16627.0                     0.0  ...           0.0           0.0   \n",
       "17524.0                     0.0  ...           0.0           0.0   \n",
       "23014.0                     0.0  ...           0.0           0.0   \n",
       "\n",
       "               x11_tfqavkke  x11_ukymxvdu  x11_uqqtjvyb  x11_vlluhbov  \\\n",
       "respondent_id                                                           \n",
       "20765.0                 0.0           0.0           0.0           0.0   \n",
       "12835.0                 0.0           0.0           0.0           0.0   \n",
       "16627.0                 0.0           0.0           0.0           0.0   \n",
       "17524.0                 0.0           0.0           0.0           0.0   \n",
       "23014.0                 0.0           0.0           0.0           0.0   \n",
       "\n",
       "               x11_xgwztkwe  x11_xqwwgdyp  x11_xtkaffoo  x11_xzmlyyjv  \n",
       "respondent_id                                                          \n",
       "20765.0                 0.0           0.0           0.0           0.0  \n",
       "12835.0                 0.0           0.0           0.0           0.0  \n",
       "16627.0                 0.0           0.0           0.0           0.0  \n",
       "17524.0                 0.0           0.0           0.0           0.0  \n",
       "23014.0                 0.0           0.0           0.0           0.0  \n",
       "\n",
       "[5 rows x 108 columns]"
      ]
     },
     "execution_count": 23,
     "metadata": {},
     "output_type": "execute_result"
    }
   ],
   "source": [
    "#setting index - respondent id is irrelevant for modeling and could throw off scaling. \n",
    "X_train_clean.set_index(keys='respondent_id', inplace=True)\n",
    "X_train_clean.head()"
   ]
  },
  {
   "cell_type": "code",
   "execution_count": 24,
   "metadata": {},
   "outputs": [
    {
     "data": {
      "text/html": [
       "<div>\n",
       "<style scoped>\n",
       "    .dataframe tbody tr th:only-of-type {\n",
       "        vertical-align: middle;\n",
       "    }\n",
       "\n",
       "    .dataframe tbody tr th {\n",
       "        vertical-align: top;\n",
       "    }\n",
       "\n",
       "    .dataframe thead th {\n",
       "        text-align: right;\n",
       "    }\n",
       "</style>\n",
       "<table border=\"1\" class=\"dataframe\">\n",
       "  <thead>\n",
       "    <tr style=\"text-align: right;\">\n",
       "      <th></th>\n",
       "      <th>h1n1_concern</th>\n",
       "      <th>h1n1_knowledge</th>\n",
       "      <th>behavioral_antiviral_meds</th>\n",
       "      <th>behavioral_avoidance</th>\n",
       "      <th>behavioral_face_mask</th>\n",
       "      <th>behavioral_wash_hands</th>\n",
       "      <th>behavioral_large_gatherings</th>\n",
       "      <th>behavioral_outside_home</th>\n",
       "      <th>behavioral_touch_face</th>\n",
       "      <th>doctor_recc_h1n1</th>\n",
       "      <th>...</th>\n",
       "      <th>x11_qxajmpny</th>\n",
       "      <th>x11_rcertsgn</th>\n",
       "      <th>x11_tfqavkke</th>\n",
       "      <th>x11_ukymxvdu</th>\n",
       "      <th>x11_uqqtjvyb</th>\n",
       "      <th>x11_vlluhbov</th>\n",
       "      <th>x11_xgwztkwe</th>\n",
       "      <th>x11_xqwwgdyp</th>\n",
       "      <th>x11_xtkaffoo</th>\n",
       "      <th>x11_xzmlyyjv</th>\n",
       "    </tr>\n",
       "    <tr>\n",
       "      <th>respondent_id</th>\n",
       "      <th></th>\n",
       "      <th></th>\n",
       "      <th></th>\n",
       "      <th></th>\n",
       "      <th></th>\n",
       "      <th></th>\n",
       "      <th></th>\n",
       "      <th></th>\n",
       "      <th></th>\n",
       "      <th></th>\n",
       "      <th></th>\n",
       "      <th></th>\n",
       "      <th></th>\n",
       "      <th></th>\n",
       "      <th></th>\n",
       "      <th></th>\n",
       "      <th></th>\n",
       "      <th></th>\n",
       "      <th></th>\n",
       "      <th></th>\n",
       "      <th></th>\n",
       "    </tr>\n",
       "  </thead>\n",
       "  <tbody>\n",
       "    <tr>\n",
       "      <th>17023.0</th>\n",
       "      <td>0.0</td>\n",
       "      <td>2.0</td>\n",
       "      <td>0.0</td>\n",
       "      <td>0.0</td>\n",
       "      <td>0.0</td>\n",
       "      <td>0.0</td>\n",
       "      <td>0.0</td>\n",
       "      <td>0.0</td>\n",
       "      <td>0.0</td>\n",
       "      <td>0.0</td>\n",
       "      <td>...</td>\n",
       "      <td>0.0</td>\n",
       "      <td>0.0</td>\n",
       "      <td>0.0</td>\n",
       "      <td>0.0</td>\n",
       "      <td>0.0</td>\n",
       "      <td>0.0</td>\n",
       "      <td>0.0</td>\n",
       "      <td>0.0</td>\n",
       "      <td>0.0</td>\n",
       "      <td>0.0</td>\n",
       "    </tr>\n",
       "    <tr>\n",
       "      <th>21290.0</th>\n",
       "      <td>1.0</td>\n",
       "      <td>2.0</td>\n",
       "      <td>0.0</td>\n",
       "      <td>1.0</td>\n",
       "      <td>0.0</td>\n",
       "      <td>1.0</td>\n",
       "      <td>0.0</td>\n",
       "      <td>0.0</td>\n",
       "      <td>1.0</td>\n",
       "      <td>1.0</td>\n",
       "      <td>...</td>\n",
       "      <td>0.0</td>\n",
       "      <td>0.0</td>\n",
       "      <td>0.0</td>\n",
       "      <td>0.0</td>\n",
       "      <td>0.0</td>\n",
       "      <td>0.0</td>\n",
       "      <td>0.0</td>\n",
       "      <td>0.0</td>\n",
       "      <td>0.0</td>\n",
       "      <td>0.0</td>\n",
       "    </tr>\n",
       "    <tr>\n",
       "      <th>26231.0</th>\n",
       "      <td>2.0</td>\n",
       "      <td>1.0</td>\n",
       "      <td>0.0</td>\n",
       "      <td>1.0</td>\n",
       "      <td>0.0</td>\n",
       "      <td>1.0</td>\n",
       "      <td>0.0</td>\n",
       "      <td>0.0</td>\n",
       "      <td>1.0</td>\n",
       "      <td>0.0</td>\n",
       "      <td>...</td>\n",
       "      <td>0.0</td>\n",
       "      <td>0.0</td>\n",
       "      <td>0.0</td>\n",
       "      <td>0.0</td>\n",
       "      <td>0.0</td>\n",
       "      <td>0.0</td>\n",
       "      <td>0.0</td>\n",
       "      <td>0.0</td>\n",
       "      <td>0.0</td>\n",
       "      <td>0.0</td>\n",
       "    </tr>\n",
       "    <tr>\n",
       "      <th>14639.0</th>\n",
       "      <td>3.0</td>\n",
       "      <td>1.0</td>\n",
       "      <td>0.0</td>\n",
       "      <td>1.0</td>\n",
       "      <td>0.0</td>\n",
       "      <td>1.0</td>\n",
       "      <td>1.0</td>\n",
       "      <td>1.0</td>\n",
       "      <td>1.0</td>\n",
       "      <td>0.0</td>\n",
       "      <td>...</td>\n",
       "      <td>0.0</td>\n",
       "      <td>0.0</td>\n",
       "      <td>0.0</td>\n",
       "      <td>0.0</td>\n",
       "      <td>0.0</td>\n",
       "      <td>0.0</td>\n",
       "      <td>0.0</td>\n",
       "      <td>0.0</td>\n",
       "      <td>0.0</td>\n",
       "      <td>0.0</td>\n",
       "    </tr>\n",
       "    <tr>\n",
       "      <th>5221.0</th>\n",
       "      <td>1.0</td>\n",
       "      <td>1.0</td>\n",
       "      <td>0.0</td>\n",
       "      <td>1.0</td>\n",
       "      <td>0.0</td>\n",
       "      <td>0.0</td>\n",
       "      <td>0.0</td>\n",
       "      <td>0.0</td>\n",
       "      <td>1.0</td>\n",
       "      <td>0.0</td>\n",
       "      <td>...</td>\n",
       "      <td>0.0</td>\n",
       "      <td>0.0</td>\n",
       "      <td>0.0</td>\n",
       "      <td>0.0</td>\n",
       "      <td>0.0</td>\n",
       "      <td>0.0</td>\n",
       "      <td>0.0</td>\n",
       "      <td>0.0</td>\n",
       "      <td>0.0</td>\n",
       "      <td>0.0</td>\n",
       "    </tr>\n",
       "  </tbody>\n",
       "</table>\n",
       "<p>5 rows × 108 columns</p>\n",
       "</div>"
      ],
      "text/plain": [
       "               h1n1_concern  h1n1_knowledge  behavioral_antiviral_meds  \\\n",
       "respondent_id                                                            \n",
       "17023.0                 0.0             2.0                        0.0   \n",
       "21290.0                 1.0             2.0                        0.0   \n",
       "26231.0                 2.0             1.0                        0.0   \n",
       "14639.0                 3.0             1.0                        0.0   \n",
       "5221.0                  1.0             1.0                        0.0   \n",
       "\n",
       "               behavioral_avoidance  behavioral_face_mask  \\\n",
       "respondent_id                                               \n",
       "17023.0                         0.0                   0.0   \n",
       "21290.0                         1.0                   0.0   \n",
       "26231.0                         1.0                   0.0   \n",
       "14639.0                         1.0                   0.0   \n",
       "5221.0                          1.0                   0.0   \n",
       "\n",
       "               behavioral_wash_hands  behavioral_large_gatherings  \\\n",
       "respondent_id                                                       \n",
       "17023.0                          0.0                          0.0   \n",
       "21290.0                          1.0                          0.0   \n",
       "26231.0                          1.0                          0.0   \n",
       "14639.0                          1.0                          1.0   \n",
       "5221.0                           0.0                          0.0   \n",
       "\n",
       "               behavioral_outside_home  behavioral_touch_face  \\\n",
       "respondent_id                                                   \n",
       "17023.0                            0.0                    0.0   \n",
       "21290.0                            0.0                    1.0   \n",
       "26231.0                            0.0                    1.0   \n",
       "14639.0                            1.0                    1.0   \n",
       "5221.0                             0.0                    1.0   \n",
       "\n",
       "               doctor_recc_h1n1  ...  x11_qxajmpny  x11_rcertsgn  \\\n",
       "respondent_id                    ...                               \n",
       "17023.0                     0.0  ...           0.0           0.0   \n",
       "21290.0                     1.0  ...           0.0           0.0   \n",
       "26231.0                     0.0  ...           0.0           0.0   \n",
       "14639.0                     0.0  ...           0.0           0.0   \n",
       "5221.0                      0.0  ...           0.0           0.0   \n",
       "\n",
       "               x11_tfqavkke  x11_ukymxvdu  x11_uqqtjvyb  x11_vlluhbov  \\\n",
       "respondent_id                                                           \n",
       "17023.0                 0.0           0.0           0.0           0.0   \n",
       "21290.0                 0.0           0.0           0.0           0.0   \n",
       "26231.0                 0.0           0.0           0.0           0.0   \n",
       "14639.0                 0.0           0.0           0.0           0.0   \n",
       "5221.0                  0.0           0.0           0.0           0.0   \n",
       "\n",
       "               x11_xgwztkwe  x11_xqwwgdyp  x11_xtkaffoo  x11_xzmlyyjv  \n",
       "respondent_id                                                          \n",
       "17023.0                 0.0           0.0           0.0           0.0  \n",
       "21290.0                 0.0           0.0           0.0           0.0  \n",
       "26231.0                 0.0           0.0           0.0           0.0  \n",
       "14639.0                 0.0           0.0           0.0           0.0  \n",
       "5221.0                  0.0           0.0           0.0           0.0  \n",
       "\n",
       "[5 rows x 108 columns]"
      ]
     },
     "execution_count": 24,
     "metadata": {},
     "output_type": "execute_result"
    }
   ],
   "source": [
    "#setting index - respondent id is irrelevant for modeling and could throw off scaling. \n",
    "X_test_clean.set_index(keys='respondent_id', inplace=True)\n",
    "X_test_clean.head()"
   ]
  },
  {
   "cell_type": "code",
   "execution_count": 25,
   "metadata": {},
   "outputs": [
    {
     "data": {
      "text/plain": [
       "0    7618\n",
       "1    3206\n",
       "Name: h1n1_vaccine, dtype: int64"
      ]
     },
     "execution_count": 25,
     "metadata": {},
     "output_type": "execute_result"
    }
   ],
   "source": [
    "y_train.value_counts()"
   ]
  },
  {
   "cell_type": "code",
   "execution_count": 26,
   "metadata": {},
   "outputs": [
    {
     "data": {
      "text/plain": [
       "0    0.69964\n",
       "1    0.30036\n",
       "Name: h1n1_vaccine, dtype: float64"
      ]
     },
     "execution_count": 26,
     "metadata": {},
     "output_type": "execute_result"
    }
   ],
   "source": [
    "y_test.value_counts(normalize=True)"
   ]
  },
  {
   "cell_type": "code",
   "execution_count": 27,
   "metadata": {},
   "outputs": [
    {
     "data": {
      "text/plain": [
       "0"
      ]
     },
     "execution_count": 27,
     "metadata": {},
     "output_type": "execute_result"
    }
   ],
   "source": [
    "X_test_clean.isna().sum().sum()"
   ]
  },
  {
   "cell_type": "code",
   "execution_count": 28,
   "metadata": {},
   "outputs": [
    {
     "name": "stdout",
     "output_type": "stream",
     "text": [
      "<class 'pandas.core.frame.DataFrame'>\n",
      "Float64Index: 10824 entries, 20765.0 to 18923.0\n",
      "Columns: 108 entries, h1n1_concern to x11_xzmlyyjv\n",
      "dtypes: float64(108)\n",
      "memory usage: 9.0 MB\n"
     ]
    }
   ],
   "source": [
    "X_train_clean.info()"
   ]
  },
  {
   "cell_type": "markdown",
   "metadata": {},
   "source": [
    "### H1N1 Modeling - Modeling\n"
   ]
  },
  {
   "cell_type": "code",
   "execution_count": 29,
   "metadata": {},
   "outputs": [],
   "source": [
    "from sklearn.linear_model import LogisticRegression\n",
    "from sklearn.tree import DecisionTreeClassifier\n",
    "from sklearn.ensemble import BaggingClassifier, RandomForestClassifier\n",
    "from sklearn.model_selection import  GridSearchCV, cross_val_score\n",
    "from sklearn.metrics import accuracy_score, recall_score, precision_score, f1_score, log_loss\n",
    "from sklearn.metrics import plot_confusion_matrix, classification_report\n",
    "from sklearn.metrics import roc_auc_score, plot_roc_curve, precision_recall_curve, PrecisionRecallDisplay, plot_precision_recall_curve\n",
    "from imblearn.over_sampling import SMOTE\n",
    "from imblearn.pipeline import Pipeline as ImPipeline\n",
    "from sklearn.pipeline import Pipeline\n",
    "from sklearn.preprocessing import StandardScaler, OneHotEncoder, FunctionTransformer\n",
    "from sklearn.impute import SimpleImputer\n",
    "from sklearn.compose import ColumnTransformer"
   ]
  },
  {
   "cell_type": "markdown",
   "metadata": {},
   "source": [
    "## Logistic Regression"
   ]
  },
  {
   "cell_type": "code",
   "execution_count": 30,
   "metadata": {},
   "outputs": [
    {
     "data": {
      "text/plain": [
       "LogisticRegression(random_state=88)"
      ]
     },
     "execution_count": 30,
     "metadata": {},
     "output_type": "execute_result"
    }
   ],
   "source": [
    "lr_base = LogisticRegression(random_state=88)\n",
    "lr_base.fit(X_train_clean, y_train)"
   ]
  },
  {
   "cell_type": "code",
   "execution_count": 87,
   "metadata": {},
   "outputs": [
    {
     "data": {
      "text/plain": [
       "0.8183663389583058"
      ]
     },
     "execution_count": 87,
     "metadata": {},
     "output_type": "execute_result"
    }
   ],
   "source": [
    "cv_lr = cross_val_score(lr_base, X_train_clean, y_train, cv=5)\n",
    "cv_lr.mean()"
   ]
  },
  {
   "cell_type": "code",
   "execution_count": 32,
   "metadata": {},
   "outputs": [
    {
     "data": {
      "text/plain": [
       "<sklearn.metrics._plot.confusion_matrix.ConfusionMatrixDisplay at 0x7f7d73b27f40>"
      ]
     },
     "execution_count": 32,
     "metadata": {},
     "output_type": "execute_result"
    },
    {
     "data": {
      "image/png": "[encoded data removed]",
      "text/plain": [
       "<Figure size 432x288 with 2 Axes>"
      ]
     },
     "metadata": {
      "needs_background": "light"
     },
     "output_type": "display_data"
    }
   ],
   "source": [
    "plot_confusion_matrix(lr_base, X_train_clean, y_train)"
   ]
  },
  {
   "cell_type": "code",
   "execution_count": 33,
   "metadata": {},
   "outputs": [
    {
     "data": {
      "text/plain": [
       "<sklearn.metrics._plot.roc_curve.RocCurveDisplay at 0x7f7d739c59d0>"
      ]
     },
     "execution_count": 33,
     "metadata": {},
     "output_type": "execute_result"
    },
    {
     "data": {
      "image/png": "[encoded data removed]",
      "text/plain": [
       "<Figure size 432x288 with 1 Axes>"
      ]
     },
     "metadata": {
      "needs_background": "light"
     },
     "output_type": "display_data"
    }
   ],
   "source": [
    "plot_roc_curve(lr_base, X_train_clean, y_train)"
   ]
  },
  {
   "cell_type": "code",
   "execution_count": 34,
   "metadata": {},
   "outputs": [
    {
     "data": {
      "text/plain": [
       "<sklearn.metrics._plot.precision_recall_curve.PrecisionRecallDisplay at 0x7f7d73b57160>"
      ]
     },
     "execution_count": 34,
     "metadata": {},
     "output_type": "execute_result"
    },
    {
     "data": {
      "image/png": "[encoded data removed]",
      "text/plain": [
       "<Figure size 432x288 with 1 Axes>"
      ]
     },
     "metadata": {
      "needs_background": "light"
     },
     "output_type": "display_data"
    }
   ],
   "source": [
    "plot_precision_recall_curve(lr_base, X_train_clean, y_train)"
   ]
  },
  {
   "cell_type": "code",
   "execution_count": 35,
   "metadata": {},
   "outputs": [
    {
     "data": {
      "text/plain": [
       "LogisticRegression(class_weight='balanced', random_state=88)"
      ]
     },
     "execution_count": 35,
     "metadata": {},
     "output_type": "execute_result"
    }
   ],
   "source": [
    "lr_2 = LogisticRegression(class_weight='balanced', random_state=88)\n",
    "lr_2.fit(X_train_clean, y_train)"
   ]
  },
  {
   "cell_type": "code",
   "execution_count": 85,
   "metadata": {},
   "outputs": [
    {
     "data": {
      "text/plain": [
       "0.7897245712968457"
      ]
     },
     "execution_count": 85,
     "metadata": {},
     "output_type": "execute_result"
    }
   ],
   "source": [
    "bal_cv_lr = cross_val_score(lr_2, X_train_clean, y_train)\n",
    "bal_cv_lr.mean()"
   ]
  },
  {
   "cell_type": "code",
   "execution_count": 98,
   "metadata": {},
   "outputs": [
    {
     "data": {
      "text/plain": [
       "<sklearn.metrics._plot.confusion_matrix.ConfusionMatrixDisplay at 0x7f7d70523970>"
      ]
     },
     "execution_count": 98,
     "metadata": {},
     "output_type": "execute_result"
    },
    {
     "data": {
      "image/png": "[encoded data removed]",
      "text/plain": [
       "<Figure size 432x288 with 2 Axes>"
      ]
     },
     "metadata": {
      "needs_background": "light"
     },
     "output_type": "display_data"
    }
   ],
   "source": [
    "plot_confusion_matrix(lr_2, X_train_clean, y_train)"
   ]
  },
  {
   "cell_type": "code",
   "execution_count": 38,
   "metadata": {},
   "outputs": [
    {
     "data": {
      "text/plain": [
       "<sklearn.metrics._plot.roc_curve.RocCurveDisplay at 0x7f7d77e77130>"
      ]
     },
     "execution_count": 38,
     "metadata": {},
     "output_type": "execute_result"
    },
    {
     "data": {
      "image/png": "[encoded data removed]",
      "text/plain": [
       "<Figure size 432x288 with 1 Axes>"
      ]
     },
     "metadata": {
      "needs_background": "light"
     },
     "output_type": "display_data"
    }
   ],
   "source": [
    "plot_roc_curve(lr_2, X_train_clean, y_train)"
   ]
  },
  {
   "cell_type": "code",
   "execution_count": 39,
   "metadata": {},
   "outputs": [
    {
     "data": {
      "text/plain": [
       "<sklearn.metrics._plot.precision_recall_curve.PrecisionRecallDisplay at 0x7f7d77e5c310>"
      ]
     },
     "execution_count": 39,
     "metadata": {},
     "output_type": "execute_result"
    },
    {
     "data": {
      "image/png": "[encoded data removed]",
      "text/plain": [
       "<Figure size 432x288 with 1 Axes>"
      ]
     },
     "metadata": {
      "needs_background": "light"
     },
     "output_type": "display_data"
    }
   ],
   "source": [
    "plot_precision_recall_curve(lr_2, X_train_clean, y_train)"
   ]
  },
  {
   "cell_type": "code",
   "execution_count": 99,
   "metadata": {},
   "outputs": [
    {
     "name": "stdout",
     "output_type": "stream",
     "text": [
      "Accuracy: 0.7813798836242727\n",
      "Precision: 0.615686274509804\n",
      "Recall: 0.724169741697417\n",
      "F1 Score: 0.665536244171259\n"
     ]
    }
   ],
   "source": [
    "lr_2_preds = lr_2.predict(X_test_clean)\n",
    "print('Accuracy:', accuracy_score(y_test, lr_2_preds))\n",
    "print('Precision:', precision_score(y_test, lr_2_preds))\n",
    "print('Recall:', recall_score(y_test, lr_2_preds))\n",
    "print('F1 Score:', f1_score(y_test, lr_2_preds))"
   ]
  },
  {
   "cell_type": "code",
   "execution_count": 40,
   "metadata": {},
   "outputs": [],
   "source": [
    "sm_lr = SMOTE(sampling_strategy=0.65, random_state=88)"
   ]
  },
  {
   "cell_type": "code",
   "execution_count": 41,
   "metadata": {},
   "outputs": [],
   "source": [
    "X_train_sm, y_train_sm = sm_lr.fit_resample(X_train_clean, y_train)"
   ]
  },
  {
   "cell_type": "code",
   "execution_count": 42,
   "metadata": {},
   "outputs": [
    {
     "data": {
      "text/plain": [
       "0    0.606094\n",
       "1    0.393906\n",
       "Name: h1n1_vaccine, dtype: float64"
      ]
     },
     "execution_count": 42,
     "metadata": {},
     "output_type": "execute_result"
    }
   ],
   "source": [
    "y_train_sm.value_counts(normalize=True)"
   ]
  },
  {
   "cell_type": "code",
   "execution_count": 43,
   "metadata": {},
   "outputs": [],
   "source": [
    "lr3 = lr_base.fit(X_train_sm, y_train_sm)"
   ]
  },
  {
   "cell_type": "code",
   "execution_count": 84,
   "metadata": {},
   "outputs": [
    {
     "data": {
      "text/plain": [
       "0.8013371993082272"
      ]
     },
     "execution_count": 84,
     "metadata": {},
     "output_type": "execute_result"
    }
   ],
   "source": [
    "sm_cv = cross_val_score(lr3, X_train_sm, y_train_sm)\n",
    "sm_cv.mean()"
   ]
  },
  {
   "cell_type": "code",
   "execution_count": 45,
   "metadata": {},
   "outputs": [
    {
     "data": {
      "text/plain": [
       "<sklearn.metrics._plot.confusion_matrix.ConfusionMatrixDisplay at 0x7f7d781ff550>"
      ]
     },
     "execution_count": 45,
     "metadata": {},
     "output_type": "execute_result"
    },
    {
     "data": {
      "image/png": "[encoded data removed]",
      "text/plain": [
       "<Figure size 432x288 with 2 Axes>"
      ]
     },
     "metadata": {
      "needs_background": "light"
     },
     "output_type": "display_data"
    }
   ],
   "source": [
    "plot_confusion_matrix(lr3, X_train_sm, y_train_sm)"
   ]
  },
  {
   "cell_type": "code",
   "execution_count": 46,
   "metadata": {},
   "outputs": [
    {
     "data": {
      "text/plain": [
       "<sklearn.metrics._plot.roc_curve.RocCurveDisplay at 0x7f7d781ff6d0>"
      ]
     },
     "execution_count": 46,
     "metadata": {},
     "output_type": "execute_result"
    },
    {
     "data": {
      "image/png": "[encoded data removed]",
      "text/plain": [
       "<Figure size 432x288 with 1 Axes>"
      ]
     },
     "metadata": {
      "needs_background": "light"
     },
     "output_type": "display_data"
    }
   ],
   "source": [
    "plot_roc_curve(lr3, X_train_sm, y_train_sm)"
   ]
  },
  {
   "cell_type": "code",
   "execution_count": 47,
   "metadata": {},
   "outputs": [
    {
     "data": {
      "text/plain": [
       "<sklearn.metrics._plot.precision_recall_curve.PrecisionRecallDisplay at 0x7f7d5c77e7c0>"
      ]
     },
     "execution_count": 47,
     "metadata": {},
     "output_type": "execute_result"
    },
    {
     "data": {
      "image/png": "[encoded data removed]",
      "text/plain": [
       "<Figure size 432x288 with 1 Axes>"
      ]
     },
     "metadata": {
      "needs_background": "light"
     },
     "output_type": "display_data"
    }
   ],
   "source": [
    "plot_precision_recall_curve(lr3, X_train_sm, y_train_sm)"
   ]
  },
  {
   "cell_type": "code",
   "execution_count": 86,
   "metadata": {},
   "outputs": [],
   "source": [
    "#Gridsearch on SMOTE sets to try to optimize performance\n",
    "lr_grid = {'solver': ['newton-cg', 'lbfgs', 'liblinear', 'sag', 'saga'],\n",
    "           'penalty': ['l1', 'l2', 'elasticnet', None],\n",
    "           'max_iter': [100, 200, 500]\n",
    "    \n",
    "}"
   ]
  },
  {
   "cell_type": "code",
   "execution_count": 88,
   "metadata": {},
   "outputs": [],
   "source": [
    "lr_sm_gs = GridSearchCV(lr3, lr_grid, cv=5)"
   ]
  },
  {
   "cell_type": "code",
   "execution_count": 89,
   "metadata": {},
   "outputs": [
    {
     "data": {
      "text/plain": [
       "GridSearchCV(cv=5, estimator=LogisticRegression(random_state=88),\n",
       "             param_grid={'max_iter': [100, 200, 500],\n",
       "                         'penalty': ['l1', 'l2', 'elasticnet', None],\n",
       "                         'solver': ['newton-cg', 'lbfgs', 'liblinear', 'sag',\n",
       "                                    'saga']})"
      ]
     },
     "execution_count": 89,
     "metadata": {},
     "output_type": "execute_result"
    }
   ],
   "source": [
    "lr_sm_gs.fit(X_train_sm, y_train_sm)"
   ]
  },
  {
   "cell_type": "code",
   "execution_count": 90,
   "metadata": {},
   "outputs": [
    {
     "data": {
      "text/plain": [
       "{'max_iter': 100, 'penalty': 'l2', 'solver': 'lbfgs'}"
      ]
     },
     "execution_count": 90,
     "metadata": {},
     "output_type": "execute_result"
    }
   ],
   "source": [
    "lr_sm_gs.best_params_"
   ]
  },
  {
   "cell_type": "code",
   "execution_count": 91,
   "metadata": {},
   "outputs": [
    {
     "data": {
      "text/plain": [
       "0.8013371993082272"
      ]
     },
     "execution_count": 91,
     "metadata": {},
     "output_type": "execute_result"
    }
   ],
   "source": [
    "lr_sm_gs.best_score_"
   ]
  },
  {
   "cell_type": "code",
   "execution_count": 92,
   "metadata": {},
   "outputs": [
    {
     "data": {
      "image/png": "[encoded data removed]",
      "text/plain": [
       "<Figure size 432x288 with 1 Axes>"
      ]
     },
     "metadata": {
      "needs_background": "light"
     },
     "output_type": "display_data"
    }
   ],
   "source": [
    "sns.violinplot(y=lr_sm_gs.cv_results_['mean_test_score'], bw=.4)\n",
    "sns.swarmplot(y=lr_sm_gs.cv_results_['mean_test_score'], color='orange', size=10, alpha=0.8);"
   ]
  },
  {
   "cell_type": "code",
   "execution_count": 93,
   "metadata": {},
   "outputs": [
    {
     "data": {
      "text/plain": [
       "<sklearn.metrics._plot.confusion_matrix.ConfusionMatrixDisplay at 0x7f7d7803d790>"
      ]
     },
     "execution_count": 93,
     "metadata": {},
     "output_type": "execute_result"
    },
    {
     "data": {
      "image/png": "[encoded data removed]",
      "text/plain": [
       "<Figure size 432x288 with 2 Axes>"
      ]
     },
     "metadata": {
      "needs_background": "light"
     },
     "output_type": "display_data"
    }
   ],
   "source": [
    "plot_confusion_matrix(lr_sm_gs, X_test_clean, y_test)"
   ]
  },
  {
   "cell_type": "code",
   "execution_count": 94,
   "metadata": {},
   "outputs": [
    {
     "data": {
      "text/plain": [
       "<sklearn.metrics._plot.roc_curve.RocCurveDisplay at 0x7f7d5e289910>"
      ]
     },
     "execution_count": 94,
     "metadata": {},
     "output_type": "execute_result"
    },
    {
     "data": {
      "image/png": "[encoded data removed]",
      "text/plain": [
       "<Figure size 432x288 with 1 Axes>"
      ]
     },
     "metadata": {
      "needs_background": "light"
     },
     "output_type": "display_data"
    }
   ],
   "source": [
    "plot_roc_curve(lr_sm_gs, X_test_clean, y_test)"
   ]
  },
  {
   "cell_type": "code",
   "execution_count": 95,
   "metadata": {},
   "outputs": [
    {
     "data": {
      "text/plain": [
       "<sklearn.metrics._plot.precision_recall_curve.PrecisionRecallDisplay at 0x7f7d612e18e0>"
      ]
     },
     "execution_count": 95,
     "metadata": {},
     "output_type": "execute_result"
    },
    {
     "data": {
      "image/png": "[encoded data removed]",
      "text/plain": [
       "<Figure size 432x288 with 1 Axes>"
      ]
     },
     "metadata": {
      "needs_background": "light"
     },
     "output_type": "display_data"
    }
   ],
   "source": [
    "plot_precision_recall_curve(lr_sm_gs, X_test_clean, y_test)"
   ]
  },
  {
   "cell_type": "code",
   "execution_count": 96,
   "metadata": {},
   "outputs": [
    {
     "name": "stdout",
     "output_type": "stream",
     "text": [
      "Accuracy: 0.7957883070102522\n",
      "Precision: 0.6699314397649363\n",
      "Recall: 0.6309963099630996\n",
      "F1 Score: 0.6498812351543943\n"
     ]
    }
   ],
   "source": [
    "lr_sm_gs_predicts = lr_sm_gs.predict(X_test_clean)\n",
    "print('Accuracy:', accuracy_score(y_test, lr_sm_gs_predicts))\n",
    "print('Precision:', precision_score(y_test, lr_sm_gs_predicts))\n",
    "print('Recall:', recall_score(y_test, lr_sm_gs_predicts))\n",
    "print('F1 Score:', f1_score(y_test, lr_sm_gs_predicts))"
   ]
  },
  {
   "cell_type": "markdown",
   "metadata": {},
   "source": [
    "## Decision Trees "
   ]
  },
  {
   "cell_type": "code",
   "execution_count": 48,
   "metadata": {},
   "outputs": [
    {
     "data": {
      "text/plain": [
       "DecisionTreeClassifier(random_state=88)"
      ]
     },
     "execution_count": 48,
     "metadata": {},
     "output_type": "execute_result"
    }
   ],
   "source": [
    "dt_base = DecisionTreeClassifier(random_state=88)\n",
    "dt_base.fit(X_train_clean, y_train)"
   ]
  },
  {
   "cell_type": "code",
   "execution_count": 49,
   "metadata": {},
   "outputs": [
    {
     "data": {
      "text/plain": [
       "array([0.7334873 , 0.73856813, 0.72840647, 0.73487298, 0.73382625])"
      ]
     },
     "execution_count": 49,
     "metadata": {},
     "output_type": "execute_result"
    }
   ],
   "source": [
    "dtcv_base = cross_val_score(dt_base, X_train_clean, y_train)\n",
    "dtcv_base"
   ]
  },
  {
   "cell_type": "code",
   "execution_count": 50,
   "metadata": {
    "scrolled": true
   },
   "outputs": [
    {
     "data": {
      "text/plain": [
       "1.0"
      ]
     },
     "execution_count": 50,
     "metadata": {},
     "output_type": "execute_result"
    }
   ],
   "source": [
    "dt_base.score(X_train_clean, y_train)"
   ]
  },
  {
   "cell_type": "code",
   "execution_count": 51,
   "metadata": {},
   "outputs": [
    {
     "data": {
      "text/plain": [
       "<sklearn.metrics._plot.confusion_matrix.ConfusionMatrixDisplay at 0x7f7d5c92b7c0>"
      ]
     },
     "execution_count": 51,
     "metadata": {},
     "output_type": "execute_result"
    },
    {
     "data": {
      "image/png": "[encoded data removed]",
      "text/plain": [
       "<Figure size 432x288 with 2 Axes>"
      ]
     },
     "metadata": {
      "needs_background": "light"
     },
     "output_type": "display_data"
    }
   ],
   "source": [
    "plot_confusion_matrix(dt_base, X_train_clean, y_train)"
   ]
  },
  {
   "cell_type": "code",
   "execution_count": 52,
   "metadata": {},
   "outputs": [],
   "source": [
    "tree_params = {\n",
    "    'criterion': ['gini', 'entropy'],\n",
    "    'max_depth': [1, 2, 3, 5],\n",
    "    'min_samples_leaf' : [1, 5, 10, 25]\n",
    "}"
   ]
  },
  {
   "cell_type": "code",
   "execution_count": 53,
   "metadata": {},
   "outputs": [],
   "source": [
    "dt_sm = dt_base.fit(X_train_sm, y_train_sm)"
   ]
  },
  {
   "cell_type": "code",
   "execution_count": 54,
   "metadata": {},
   "outputs": [
    {
     "data": {
      "text/plain": [
       "array([0.71718377, 0.716786  , 0.72633254, 0.83333333, 0.83804218])"
      ]
     },
     "execution_count": 54,
     "metadata": {},
     "output_type": "execute_result"
    }
   ],
   "source": [
    "dtcv_sm = cross_val_score(dt_sm, X_train_sm, y_train_sm)\n",
    "dtcv_sm"
   ]
  },
  {
   "cell_type": "code",
   "execution_count": 55,
   "metadata": {},
   "outputs": [],
   "source": [
    "dt_gs = GridSearchCV(dt_sm, tree_params, cv=5)"
   ]
  },
  {
   "cell_type": "code",
   "execution_count": 56,
   "metadata": {},
   "outputs": [
    {
     "data": {
      "text/plain": [
       "GridSearchCV(cv=5, estimator=DecisionTreeClassifier(random_state=88),\n",
       "             param_grid={'criterion': ['gini', 'entropy'],\n",
       "                         'max_depth': [1, 2, 3, 5],\n",
       "                         'min_samples_leaf': [1, 5, 10, 25]})"
      ]
     },
     "execution_count": 56,
     "metadata": {},
     "output_type": "execute_result"
    }
   ],
   "source": [
    "dt_gs.fit(X_train_sm, y_train_sm)"
   ]
  },
  {
   "cell_type": "code",
   "execution_count": 57,
   "metadata": {},
   "outputs": [
    {
     "data": {
      "text/plain": [
       "{'criterion': 'entropy', 'max_depth': 5, 'min_samples_leaf': 10}"
      ]
     },
     "execution_count": 57,
     "metadata": {},
     "output_type": "execute_result"
    }
   ],
   "source": [
    "dt_gs.best_params_"
   ]
  },
  {
   "cell_type": "code",
   "execution_count": 58,
   "metadata": {},
   "outputs": [
    {
     "data": {
      "text/plain": [
       "0.8066715292096056"
      ]
     },
     "execution_count": 58,
     "metadata": {},
     "output_type": "execute_result"
    }
   ],
   "source": [
    "dt_gs.best_score_"
   ]
  },
  {
   "cell_type": "code",
   "execution_count": null,
   "metadata": {},
   "outputs": [],
   "source": []
  },
  {
   "cell_type": "code",
   "execution_count": null,
   "metadata": {},
   "outputs": [],
   "source": []
  },
  {
   "cell_type": "markdown",
   "metadata": {},
   "source": [
    "## Random Forests "
   ]
  },
  {
   "cell_type": "code",
   "execution_count": 59,
   "metadata": {},
   "outputs": [
    {
     "data": {
      "text/plain": [
       "RandomForestClassifier(random_state=88)"
      ]
     },
     "execution_count": 59,
     "metadata": {},
     "output_type": "execute_result"
    }
   ],
   "source": [
    "rf_base = RandomForestClassifier(random_state=88)\n",
    "rf_base.fit(X_train_clean, y_train)"
   ]
  },
  {
   "cell_type": "code",
   "execution_count": 60,
   "metadata": {},
   "outputs": [
    {
     "data": {
      "text/plain": [
       "array([0.81986143, 0.81293303, 0.82632794, 0.81570439, 0.81654344])"
      ]
     },
     "execution_count": 60,
     "metadata": {},
     "output_type": "execute_result"
    }
   ],
   "source": [
    "rf_cv = cross_val_score(rf_base, X_train_clean, y_train, cv=5)\n",
    "rf_cv"
   ]
  },
  {
   "cell_type": "code",
   "execution_count": 61,
   "metadata": {},
   "outputs": [
    {
     "data": {
      "image/png": "[encoded data removed]",
      "text/plain": [
       "<Figure size 432x288 with 1 Axes>"
      ]
     },
     "metadata": {
      "needs_background": "light"
     },
     "output_type": "display_data"
    }
   ],
   "source": [
    "import seaborn as sns\n",
    "#Base Random Forest model - no tuning\n",
    "sns.violinplot(y=rf_cv, bw=.4)\n",
    "sns.swarmplot(y=rf_cv, color='orange', size=10, alpha=0.8);"
   ]
  },
  {
   "cell_type": "code",
   "execution_count": 62,
   "metadata": {},
   "outputs": [],
   "source": [
    "#Fitting with SMOTE balanced data\n",
    "rf_sm = rf_base.fit(X_train_sm, y_train_sm)"
   ]
  },
  {
   "cell_type": "code",
   "execution_count": 63,
   "metadata": {},
   "outputs": [
    {
     "data": {
      "text/plain": [
       "array([0.78599841, 0.79793158, 0.7875895 , 0.90135243, 0.93434142])"
      ]
     },
     "execution_count": 63,
     "metadata": {},
     "output_type": "execute_result"
    }
   ],
   "source": [
    "rf_sm_cv = cross_val_score(rf_base, X_train_sm, y_train_sm)\n",
    "rf_sm_cv"
   ]
  },
  {
   "cell_type": "code",
   "execution_count": 64,
   "metadata": {},
   "outputs": [
    {
     "data": {
      "text/plain": [
       "0.8414426683710893"
      ]
     },
     "execution_count": 64,
     "metadata": {},
     "output_type": "execute_result"
    }
   ],
   "source": [
    "rf_sm_cv.mean()"
   ]
  },
  {
   "cell_type": "code",
   "execution_count": 65,
   "metadata": {},
   "outputs": [
    {
     "data": {
      "image/png": "[encoded data removed]",
      "text/plain": [
       "<Figure size 432x288 with 1 Axes>"
      ]
     },
     "metadata": {
      "needs_background": "light"
     },
     "output_type": "display_data"
    }
   ],
   "source": [
    "#Distr of SMOTE balanced data - more variance, but higher max\n",
    "sns.violinplot(y=rf_sm_cv, bw=.4)\n",
    "sns.swarmplot(y=rf_sm_cv, color='orange', size=10, alpha=0.8);"
   ]
  },
  {
   "cell_type": "code",
   "execution_count": 66,
   "metadata": {},
   "outputs": [
    {
     "data": {
      "text/plain": [
       "array([0.7788385 , 0.79395386, 0.79634049, 0.80031822, 0.80270485,\n",
       "       0.79793158, 0.86714399, 0.95863166, 0.94749403, 0.94585987])"
      ]
     },
     "execution_count": 66,
     "metadata": {},
     "output_type": "execute_result"
    }
   ],
   "source": [
    "#additional validations to increase score?\n",
    "rf_sm_cv2 = cross_val_score(rf_base, X_train_sm, y_train_sm, cv=10)\n",
    "rf_sm_cv2"
   ]
  },
  {
   "cell_type": "code",
   "execution_count": 67,
   "metadata": {},
   "outputs": [
    {
     "data": {
      "text/plain": [
       "0.8489217072293247"
      ]
     },
     "execution_count": 67,
     "metadata": {},
     "output_type": "execute_result"
    }
   ],
   "source": [
    "#score increased a little\n",
    "rf_sm_cv2.mean()"
   ]
  },
  {
   "cell_type": "code",
   "execution_count": 68,
   "metadata": {},
   "outputs": [
    {
     "data": {
      "image/png": "[encoded data removed]",
      "text/plain": [
       "<Figure size 432x288 with 1 Axes>"
      ]
     },
     "metadata": {
      "needs_background": "light"
     },
     "output_type": "display_data"
    }
   ],
   "source": [
    "#Let's see distribution\n",
    "sns.violinplot(y=rf_sm_cv2, bw=.4)\n",
    "sns.swarmplot(y=rf_sm_cv2, color='orange', size=10, alpha=0.8);"
   ]
  },
  {
   "cell_type": "code",
   "execution_count": 69,
   "metadata": {},
   "outputs": [
    {
     "data": {
      "text/plain": [
       "<sklearn.metrics._plot.confusion_matrix.ConfusionMatrixDisplay at 0x7f7d5cf7c2b0>"
      ]
     },
     "execution_count": 69,
     "metadata": {},
     "output_type": "execute_result"
    },
    {
     "data": {
      "image/png": "[encoded data removed]",
      "text/plain": [
       "<Figure size 432x288 with 2 Axes>"
      ]
     },
     "metadata": {
      "needs_background": "light"
     },
     "output_type": "display_data"
    }
   ],
   "source": [
    "plot_confusion_matrix(rf_sm, X_test_clean, y_test)"
   ]
  },
  {
   "cell_type": "code",
   "execution_count": 70,
   "metadata": {},
   "outputs": [
    {
     "name": "stdout",
     "output_type": "stream",
     "text": [
      "Accuracy: 0.8024383485730119\n",
      "Precision: 0.7456953642384105\n",
      "Recall: 0.5193726937269373\n",
      "F1 Score: 0.612289287656335\n"
     ]
    }
   ],
   "source": [
    "rf_sm_preds = rf_sm.predict(X_test_clean)\n",
    "#Untuned params scoring\n",
    "print('Accuracy:', accuracy_score(y_test, rf_sm_preds))\n",
    "print('Precision:', precision_score(y_test, rf_sm_preds))\n",
    "print('Recall:', recall_score(y_test, rf_sm_preds))\n",
    "print('F1 Score:', f1_score(y_test, rf_sm_preds))"
   ]
  },
  {
   "cell_type": "code",
   "execution_count": 71,
   "metadata": {},
   "outputs": [
    {
     "data": {
      "text/plain": [
       "<sklearn.metrics._plot.roc_curve.RocCurveDisplay at 0x7f7d5e2892b0>"
      ]
     },
     "execution_count": 71,
     "metadata": {},
     "output_type": "execute_result"
    },
    {
     "data": {
      "image/png": "[encoded data removed]",
      "text/plain": [
       "<Figure size 432x288 with 1 Axes>"
      ]
     },
     "metadata": {
      "needs_background": "light"
     },
     "output_type": "display_data"
    }
   ],
   "source": [
    "plot_roc_curve(rf_sm, X_test_clean, y_test)"
   ]
  },
  {
   "cell_type": "code",
   "execution_count": 72,
   "metadata": {},
   "outputs": [],
   "source": [
    "#Grid search to optimize performance here - none of these params returned as high of training scores as above.\n",
    "rf_tree_grid = {\n",
    "    'criterion': ['gini', 'entropy'],\n",
    "    'max_depth': [1, 2, 3, 5],\n",
    "    'min_samples_leaf' : [1, 5, 10, 25]\n",
    "}"
   ]
  },
  {
   "cell_type": "code",
   "execution_count": 73,
   "metadata": {},
   "outputs": [],
   "source": [
    "rf_gs = GridSearchCV(rf_base, rf_tree_grid, cv=5)"
   ]
  },
  {
   "cell_type": "code",
   "execution_count": 74,
   "metadata": {},
   "outputs": [
    {
     "data": {
      "text/plain": [
       "GridSearchCV(cv=5, estimator=RandomForestClassifier(random_state=88),\n",
       "             param_grid={'criterion': ['gini', 'entropy'],\n",
       "                         'max_depth': [1, 2, 3, 5],\n",
       "                         'min_samples_leaf': [1, 5, 10, 25]})"
      ]
     },
     "execution_count": 74,
     "metadata": {},
     "output_type": "execute_result"
    }
   ],
   "source": [
    "rf_gs.fit(X_train_sm, y_train_sm)"
   ]
  },
  {
   "cell_type": "code",
   "execution_count": 75,
   "metadata": {},
   "outputs": [
    {
     "data": {
      "text/plain": [
       "{'criterion': 'gini', 'max_depth': 5, 'min_samples_leaf': 5}"
      ]
     },
     "execution_count": 75,
     "metadata": {},
     "output_type": "execute_result"
    }
   ],
   "source": [
    "rf_gs.best_params_"
   ]
  },
  {
   "cell_type": "code",
   "execution_count": 76,
   "metadata": {
    "collapsed": true
   },
   "outputs": [
    {
     "data": {
      "text/html": [
       "<div>\n",
       "<style scoped>\n",
       "    .dataframe tbody tr th:only-of-type {\n",
       "        vertical-align: middle;\n",
       "    }\n",
       "\n",
       "    .dataframe tbody tr th {\n",
       "        vertical-align: top;\n",
       "    }\n",
       "\n",
       "    .dataframe thead th {\n",
       "        text-align: right;\n",
       "    }\n",
       "</style>\n",
       "<table border=\"1\" class=\"dataframe\">\n",
       "  <thead>\n",
       "    <tr style=\"text-align: right;\">\n",
       "      <th></th>\n",
       "      <th>mean_fit_time</th>\n",
       "      <th>std_fit_time</th>\n",
       "      <th>mean_score_time</th>\n",
       "      <th>std_score_time</th>\n",
       "      <th>param_criterion</th>\n",
       "      <th>param_max_depth</th>\n",
       "      <th>param_min_samples_leaf</th>\n",
       "      <th>params</th>\n",
       "      <th>split0_test_score</th>\n",
       "      <th>split1_test_score</th>\n",
       "      <th>split2_test_score</th>\n",
       "      <th>split3_test_score</th>\n",
       "      <th>split4_test_score</th>\n",
       "      <th>mean_test_score</th>\n",
       "      <th>std_test_score</th>\n",
       "      <th>rank_test_score</th>\n",
       "    </tr>\n",
       "  </thead>\n",
       "  <tbody>\n",
       "    <tr>\n",
       "      <th>0</th>\n",
       "      <td>0.822372</td>\n",
       "      <td>0.272337</td>\n",
       "      <td>0.058493</td>\n",
       "      <td>0.035720</td>\n",
       "      <td>gini</td>\n",
       "      <td>1</td>\n",
       "      <td>1</td>\n",
       "      <td>{'criterion': 'gini', 'max_depth': 1, 'min_sam...</td>\n",
       "      <td>0.612570</td>\n",
       "      <td>0.612967</td>\n",
       "      <td>0.612172</td>\n",
       "      <td>0.619730</td>\n",
       "      <td>0.627935</td>\n",
       "      <td>0.617075</td>\n",
       "      <td>0.006102</td>\n",
       "      <td>25</td>\n",
       "    </tr>\n",
       "    <tr>\n",
       "      <th>1</th>\n",
       "      <td>0.458452</td>\n",
       "      <td>0.012625</td>\n",
       "      <td>0.034367</td>\n",
       "      <td>0.000902</td>\n",
       "      <td>gini</td>\n",
       "      <td>1</td>\n",
       "      <td>5</td>\n",
       "      <td>{'criterion': 'gini', 'max_depth': 1, 'min_sam...</td>\n",
       "      <td>0.612570</td>\n",
       "      <td>0.612967</td>\n",
       "      <td>0.612172</td>\n",
       "      <td>0.619730</td>\n",
       "      <td>0.627935</td>\n",
       "      <td>0.617075</td>\n",
       "      <td>0.006102</td>\n",
       "      <td>25</td>\n",
       "    </tr>\n",
       "    <tr>\n",
       "      <th>2</th>\n",
       "      <td>0.459573</td>\n",
       "      <td>0.016223</td>\n",
       "      <td>0.033650</td>\n",
       "      <td>0.001314</td>\n",
       "      <td>gini</td>\n",
       "      <td>1</td>\n",
       "      <td>10</td>\n",
       "      <td>{'criterion': 'gini', 'max_depth': 1, 'min_sam...</td>\n",
       "      <td>0.612570</td>\n",
       "      <td>0.612967</td>\n",
       "      <td>0.612172</td>\n",
       "      <td>0.619730</td>\n",
       "      <td>0.627935</td>\n",
       "      <td>0.617075</td>\n",
       "      <td>0.006102</td>\n",
       "      <td>25</td>\n",
       "    </tr>\n",
       "    <tr>\n",
       "      <th>3</th>\n",
       "      <td>0.451393</td>\n",
       "      <td>0.010655</td>\n",
       "      <td>0.034020</td>\n",
       "      <td>0.001099</td>\n",
       "      <td>gini</td>\n",
       "      <td>1</td>\n",
       "      <td>25</td>\n",
       "      <td>{'criterion': 'gini', 'max_depth': 1, 'min_sam...</td>\n",
       "      <td>0.612570</td>\n",
       "      <td>0.612967</td>\n",
       "      <td>0.612172</td>\n",
       "      <td>0.619730</td>\n",
       "      <td>0.627935</td>\n",
       "      <td>0.617075</td>\n",
       "      <td>0.006102</td>\n",
       "      <td>25</td>\n",
       "    </tr>\n",
       "    <tr>\n",
       "      <th>4</th>\n",
       "      <td>0.578793</td>\n",
       "      <td>0.040526</td>\n",
       "      <td>0.061877</td>\n",
       "      <td>0.039081</td>\n",
       "      <td>gini</td>\n",
       "      <td>2</td>\n",
       "      <td>1</td>\n",
       "      <td>{'criterion': 'gini', 'max_depth': 2, 'min_sam...</td>\n",
       "      <td>0.706046</td>\n",
       "      <td>0.708831</td>\n",
       "      <td>0.715195</td>\n",
       "      <td>0.785601</td>\n",
       "      <td>0.799045</td>\n",
       "      <td>0.742943</td>\n",
       "      <td>0.040650</td>\n",
       "      <td>19</td>\n",
       "    </tr>\n",
       "    <tr>\n",
       "      <th>5</th>\n",
       "      <td>0.677562</td>\n",
       "      <td>0.071444</td>\n",
       "      <td>0.050620</td>\n",
       "      <td>0.013538</td>\n",
       "      <td>gini</td>\n",
       "      <td>2</td>\n",
       "      <td>5</td>\n",
       "      <td>{'criterion': 'gini', 'max_depth': 2, 'min_sam...</td>\n",
       "      <td>0.706046</td>\n",
       "      <td>0.708831</td>\n",
       "      <td>0.715195</td>\n",
       "      <td>0.785601</td>\n",
       "      <td>0.799045</td>\n",
       "      <td>0.742943</td>\n",
       "      <td>0.040650</td>\n",
       "      <td>19</td>\n",
       "    </tr>\n",
       "    <tr>\n",
       "      <th>6</th>\n",
       "      <td>0.621791</td>\n",
       "      <td>0.091344</td>\n",
       "      <td>0.036627</td>\n",
       "      <td>0.001181</td>\n",
       "      <td>gini</td>\n",
       "      <td>2</td>\n",
       "      <td>10</td>\n",
       "      <td>{'criterion': 'gini', 'max_depth': 2, 'min_sam...</td>\n",
       "      <td>0.706046</td>\n",
       "      <td>0.708831</td>\n",
       "      <td>0.715195</td>\n",
       "      <td>0.785601</td>\n",
       "      <td>0.799841</td>\n",
       "      <td>0.743103</td>\n",
       "      <td>0.040870</td>\n",
       "      <td>18</td>\n",
       "    </tr>\n",
       "    <tr>\n",
       "      <th>7</th>\n",
       "      <td>0.572211</td>\n",
       "      <td>0.042154</td>\n",
       "      <td>0.038809</td>\n",
       "      <td>0.005756</td>\n",
       "      <td>gini</td>\n",
       "      <td>2</td>\n",
       "      <td>25</td>\n",
       "      <td>{'criterion': 'gini', 'max_depth': 2, 'min_sam...</td>\n",
       "      <td>0.706046</td>\n",
       "      <td>0.708831</td>\n",
       "      <td>0.715593</td>\n",
       "      <td>0.785998</td>\n",
       "      <td>0.799443</td>\n",
       "      <td>0.743182</td>\n",
       "      <td>0.040789</td>\n",
       "      <td>17</td>\n",
       "    </tr>\n",
       "    <tr>\n",
       "      <th>8</th>\n",
       "      <td>0.633427</td>\n",
       "      <td>0.017446</td>\n",
       "      <td>0.037881</td>\n",
       "      <td>0.000826</td>\n",
       "      <td>gini</td>\n",
       "      <td>3</td>\n",
       "      <td>1</td>\n",
       "      <td>{'criterion': 'gini', 'max_depth': 3, 'min_sam...</td>\n",
       "      <td>0.731901</td>\n",
       "      <td>0.741448</td>\n",
       "      <td>0.743039</td>\n",
       "      <td>0.818218</td>\n",
       "      <td>0.829288</td>\n",
       "      <td>0.772779</td>\n",
       "      <td>0.041940</td>\n",
       "      <td>14</td>\n",
       "    </tr>\n",
       "    <tr>\n",
       "      <th>9</th>\n",
       "      <td>0.624907</td>\n",
       "      <td>0.012967</td>\n",
       "      <td>0.037537</td>\n",
       "      <td>0.000763</td>\n",
       "      <td>gini</td>\n",
       "      <td>3</td>\n",
       "      <td>5</td>\n",
       "      <td>{'criterion': 'gini', 'max_depth': 3, 'min_sam...</td>\n",
       "      <td>0.731901</td>\n",
       "      <td>0.741050</td>\n",
       "      <td>0.743437</td>\n",
       "      <td>0.818218</td>\n",
       "      <td>0.829288</td>\n",
       "      <td>0.772779</td>\n",
       "      <td>0.041944</td>\n",
       "      <td>14</td>\n",
       "    </tr>\n",
       "    <tr>\n",
       "      <th>10</th>\n",
       "      <td>0.653007</td>\n",
       "      <td>0.027638</td>\n",
       "      <td>0.038652</td>\n",
       "      <td>0.002584</td>\n",
       "      <td>gini</td>\n",
       "      <td>3</td>\n",
       "      <td>10</td>\n",
       "      <td>{'criterion': 'gini', 'max_depth': 3, 'min_sam...</td>\n",
       "      <td>0.732299</td>\n",
       "      <td>0.739061</td>\n",
       "      <td>0.743835</td>\n",
       "      <td>0.821400</td>\n",
       "      <td>0.829686</td>\n",
       "      <td>0.773256</td>\n",
       "      <td>0.042929</td>\n",
       "      <td>9</td>\n",
       "    </tr>\n",
       "    <tr>\n",
       "      <th>11</th>\n",
       "      <td>0.636539</td>\n",
       "      <td>0.019103</td>\n",
       "      <td>0.037330</td>\n",
       "      <td>0.000996</td>\n",
       "      <td>gini</td>\n",
       "      <td>3</td>\n",
       "      <td>25</td>\n",
       "      <td>{'criterion': 'gini', 'max_depth': 3, 'min_sam...</td>\n",
       "      <td>0.733492</td>\n",
       "      <td>0.741448</td>\n",
       "      <td>0.743835</td>\n",
       "      <td>0.820207</td>\n",
       "      <td>0.827298</td>\n",
       "      <td>0.773256</td>\n",
       "      <td>0.041433</td>\n",
       "      <td>10</td>\n",
       "    </tr>\n",
       "    <tr>\n",
       "      <th>12</th>\n",
       "      <td>0.837900</td>\n",
       "      <td>0.029603</td>\n",
       "      <td>0.046506</td>\n",
       "      <td>0.004921</td>\n",
       "      <td>gini</td>\n",
       "      <td>5</td>\n",
       "      <td>1</td>\n",
       "      <td>{'criterion': 'gini', 'max_depth': 5, 'min_sam...</td>\n",
       "      <td>0.762132</td>\n",
       "      <td>0.771281</td>\n",
       "      <td>0.770485</td>\n",
       "      <td>0.854415</td>\n",
       "      <td>0.868285</td>\n",
       "      <td>0.805320</td>\n",
       "      <td>0.046070</td>\n",
       "      <td>3</td>\n",
       "    </tr>\n",
       "    <tr>\n",
       "      <th>13</th>\n",
       "      <td>0.859316</td>\n",
       "      <td>0.051056</td>\n",
       "      <td>0.045167</td>\n",
       "      <td>0.002812</td>\n",
       "      <td>gini</td>\n",
       "      <td>5</td>\n",
       "      <td>5</td>\n",
       "      <td>{'criterion': 'gini', 'max_depth': 5, 'min_sam...</td>\n",
       "      <td>0.764916</td>\n",
       "      <td>0.762132</td>\n",
       "      <td>0.770088</td>\n",
       "      <td>0.861575</td>\n",
       "      <td>0.870275</td>\n",
       "      <td>0.805797</td>\n",
       "      <td>0.049237</td>\n",
       "      <td>1</td>\n",
       "    </tr>\n",
       "    <tr>\n",
       "      <th>14</th>\n",
       "      <td>0.827917</td>\n",
       "      <td>0.025207</td>\n",
       "      <td>0.043041</td>\n",
       "      <td>0.000900</td>\n",
       "      <td>gini</td>\n",
       "      <td>5</td>\n",
       "      <td>10</td>\n",
       "      <td>{'criterion': 'gini', 'max_depth': 5, 'min_sam...</td>\n",
       "      <td>0.765314</td>\n",
       "      <td>0.767701</td>\n",
       "      <td>0.770088</td>\n",
       "      <td>0.857597</td>\n",
       "      <td>0.865897</td>\n",
       "      <td>0.805319</td>\n",
       "      <td>0.046173</td>\n",
       "      <td>4</td>\n",
       "    </tr>\n",
       "    <tr>\n",
       "      <th>15</th>\n",
       "      <td>0.968559</td>\n",
       "      <td>0.070089</td>\n",
       "      <td>0.050890</td>\n",
       "      <td>0.006694</td>\n",
       "      <td>gini</td>\n",
       "      <td>5</td>\n",
       "      <td>25</td>\n",
       "      <td>{'criterion': 'gini', 'max_depth': 5, 'min_sam...</td>\n",
       "      <td>0.764121</td>\n",
       "      <td>0.770883</td>\n",
       "      <td>0.769292</td>\n",
       "      <td>0.854813</td>\n",
       "      <td>0.859133</td>\n",
       "      <td>0.803648</td>\n",
       "      <td>0.043618</td>\n",
       "      <td>7</td>\n",
       "    </tr>\n",
       "    <tr>\n",
       "      <th>16</th>\n",
       "      <td>0.458877</td>\n",
       "      <td>0.017945</td>\n",
       "      <td>0.032043</td>\n",
       "      <td>0.001001</td>\n",
       "      <td>entropy</td>\n",
       "      <td>1</td>\n",
       "      <td>1</td>\n",
       "      <td>{'criterion': 'entropy', 'max_depth': 1, 'min_...</td>\n",
       "      <td>0.612967</td>\n",
       "      <td>0.612967</td>\n",
       "      <td>0.611376</td>\n",
       "      <td>0.619332</td>\n",
       "      <td>0.627935</td>\n",
       "      <td>0.616916</td>\n",
       "      <td>0.006150</td>\n",
       "      <td>29</td>\n",
       "    </tr>\n",
       "    <tr>\n",
       "      <th>17</th>\n",
       "      <td>0.432523</td>\n",
       "      <td>0.008821</td>\n",
       "      <td>0.032562</td>\n",
       "      <td>0.001010</td>\n",
       "      <td>entropy</td>\n",
       "      <td>1</td>\n",
       "      <td>5</td>\n",
       "      <td>{'criterion': 'entropy', 'max_depth': 1, 'min_...</td>\n",
       "      <td>0.612967</td>\n",
       "      <td>0.612967</td>\n",
       "      <td>0.611376</td>\n",
       "      <td>0.619332</td>\n",
       "      <td>0.627935</td>\n",
       "      <td>0.616916</td>\n",
       "      <td>0.006150</td>\n",
       "      <td>29</td>\n",
       "    </tr>\n",
       "    <tr>\n",
       "      <th>18</th>\n",
       "      <td>0.581812</td>\n",
       "      <td>0.166383</td>\n",
       "      <td>0.057815</td>\n",
       "      <td>0.028414</td>\n",
       "      <td>entropy</td>\n",
       "      <td>1</td>\n",
       "      <td>10</td>\n",
       "      <td>{'criterion': 'entropy', 'max_depth': 1, 'min_...</td>\n",
       "      <td>0.612967</td>\n",
       "      <td>0.612967</td>\n",
       "      <td>0.611376</td>\n",
       "      <td>0.619332</td>\n",
       "      <td>0.627935</td>\n",
       "      <td>0.616916</td>\n",
       "      <td>0.006150</td>\n",
       "      <td>29</td>\n",
       "    </tr>\n",
       "    <tr>\n",
       "      <th>19</th>\n",
       "      <td>0.452694</td>\n",
       "      <td>0.033734</td>\n",
       "      <td>0.032797</td>\n",
       "      <td>0.001313</td>\n",
       "      <td>entropy</td>\n",
       "      <td>1</td>\n",
       "      <td>25</td>\n",
       "      <td>{'criterion': 'entropy', 'max_depth': 1, 'min_...</td>\n",
       "      <td>0.612967</td>\n",
       "      <td>0.612967</td>\n",
       "      <td>0.611376</td>\n",
       "      <td>0.619332</td>\n",
       "      <td>0.627935</td>\n",
       "      <td>0.616916</td>\n",
       "      <td>0.006150</td>\n",
       "      <td>29</td>\n",
       "    </tr>\n",
       "    <tr>\n",
       "      <th>20</th>\n",
       "      <td>0.557480</td>\n",
       "      <td>0.034286</td>\n",
       "      <td>0.036223</td>\n",
       "      <td>0.002388</td>\n",
       "      <td>entropy</td>\n",
       "      <td>2</td>\n",
       "      <td>1</td>\n",
       "      <td>{'criterion': 'entropy', 'max_depth': 2, 'min_...</td>\n",
       "      <td>0.704455</td>\n",
       "      <td>0.708433</td>\n",
       "      <td>0.712013</td>\n",
       "      <td>0.785203</td>\n",
       "      <td>0.801830</td>\n",
       "      <td>0.742387</td>\n",
       "      <td>0.042145</td>\n",
       "      <td>21</td>\n",
       "    </tr>\n",
       "    <tr>\n",
       "      <th>21</th>\n",
       "      <td>0.551733</td>\n",
       "      <td>0.028706</td>\n",
       "      <td>0.036275</td>\n",
       "      <td>0.002491</td>\n",
       "      <td>entropy</td>\n",
       "      <td>2</td>\n",
       "      <td>5</td>\n",
       "      <td>{'criterion': 'entropy', 'max_depth': 2, 'min_...</td>\n",
       "      <td>0.704455</td>\n",
       "      <td>0.708433</td>\n",
       "      <td>0.712013</td>\n",
       "      <td>0.784805</td>\n",
       "      <td>0.801830</td>\n",
       "      <td>0.742307</td>\n",
       "      <td>0.042064</td>\n",
       "      <td>22</td>\n",
       "    </tr>\n",
       "    <tr>\n",
       "      <th>22</th>\n",
       "      <td>0.531306</td>\n",
       "      <td>0.010187</td>\n",
       "      <td>0.033696</td>\n",
       "      <td>0.000567</td>\n",
       "      <td>entropy</td>\n",
       "      <td>2</td>\n",
       "      <td>10</td>\n",
       "      <td>{'criterion': 'entropy', 'max_depth': 2, 'min_...</td>\n",
       "      <td>0.704455</td>\n",
       "      <td>0.708433</td>\n",
       "      <td>0.712013</td>\n",
       "      <td>0.784805</td>\n",
       "      <td>0.801830</td>\n",
       "      <td>0.742307</td>\n",
       "      <td>0.042064</td>\n",
       "      <td>22</td>\n",
       "    </tr>\n",
       "    <tr>\n",
       "      <th>23</th>\n",
       "      <td>0.650853</td>\n",
       "      <td>0.157980</td>\n",
       "      <td>0.035103</td>\n",
       "      <td>0.000724</td>\n",
       "      <td>entropy</td>\n",
       "      <td>2</td>\n",
       "      <td>25</td>\n",
       "      <td>{'criterion': 'entropy', 'max_depth': 2, 'min_...</td>\n",
       "      <td>0.704455</td>\n",
       "      <td>0.708433</td>\n",
       "      <td>0.712411</td>\n",
       "      <td>0.784407</td>\n",
       "      <td>0.801035</td>\n",
       "      <td>0.742148</td>\n",
       "      <td>0.041702</td>\n",
       "      <td>24</td>\n",
       "    </tr>\n",
       "    <tr>\n",
       "      <th>24</th>\n",
       "      <td>0.759579</td>\n",
       "      <td>0.053596</td>\n",
       "      <td>0.046314</td>\n",
       "      <td>0.010138</td>\n",
       "      <td>entropy</td>\n",
       "      <td>3</td>\n",
       "      <td>1</td>\n",
       "      <td>{'criterion': 'entropy', 'max_depth': 3, 'min_...</td>\n",
       "      <td>0.730310</td>\n",
       "      <td>0.737868</td>\n",
       "      <td>0.743039</td>\n",
       "      <td>0.819014</td>\n",
       "      <td>0.833665</td>\n",
       "      <td>0.772779</td>\n",
       "      <td>0.044162</td>\n",
       "      <td>13</td>\n",
       "    </tr>\n",
       "    <tr>\n",
       "      <th>25</th>\n",
       "      <td>0.884585</td>\n",
       "      <td>0.142208</td>\n",
       "      <td>0.054858</td>\n",
       "      <td>0.010883</td>\n",
       "      <td>entropy</td>\n",
       "      <td>3</td>\n",
       "      <td>5</td>\n",
       "      <td>{'criterion': 'entropy', 'max_depth': 3, 'min_...</td>\n",
       "      <td>0.729912</td>\n",
       "      <td>0.737868</td>\n",
       "      <td>0.742243</td>\n",
       "      <td>0.819014</td>\n",
       "      <td>0.833665</td>\n",
       "      <td>0.772540</td>\n",
       "      <td>0.044347</td>\n",
       "      <td>16</td>\n",
       "    </tr>\n",
       "    <tr>\n",
       "      <th>26</th>\n",
       "      <td>0.728905</td>\n",
       "      <td>0.076283</td>\n",
       "      <td>0.041745</td>\n",
       "      <td>0.006348</td>\n",
       "      <td>entropy</td>\n",
       "      <td>3</td>\n",
       "      <td>10</td>\n",
       "      <td>{'criterion': 'entropy', 'max_depth': 3, 'min_...</td>\n",
       "      <td>0.730310</td>\n",
       "      <td>0.736675</td>\n",
       "      <td>0.743039</td>\n",
       "      <td>0.820207</td>\n",
       "      <td>0.834461</td>\n",
       "      <td>0.772938</td>\n",
       "      <td>0.044823</td>\n",
       "      <td>12</td>\n",
       "    </tr>\n",
       "    <tr>\n",
       "      <th>27</th>\n",
       "      <td>0.827694</td>\n",
       "      <td>0.105842</td>\n",
       "      <td>0.051117</td>\n",
       "      <td>0.011184</td>\n",
       "      <td>entropy</td>\n",
       "      <td>3</td>\n",
       "      <td>25</td>\n",
       "      <td>{'criterion': 'entropy', 'max_depth': 3, 'min_...</td>\n",
       "      <td>0.729912</td>\n",
       "      <td>0.734686</td>\n",
       "      <td>0.745028</td>\n",
       "      <td>0.820207</td>\n",
       "      <td>0.836053</td>\n",
       "      <td>0.773177</td>\n",
       "      <td>0.045411</td>\n",
       "      <td>11</td>\n",
       "    </tr>\n",
       "    <tr>\n",
       "      <th>28</th>\n",
       "      <td>1.016101</td>\n",
       "      <td>0.146328</td>\n",
       "      <td>0.048605</td>\n",
       "      <td>0.003493</td>\n",
       "      <td>entropy</td>\n",
       "      <td>5</td>\n",
       "      <td>1</td>\n",
       "      <td>{'criterion': 'entropy', 'max_depth': 5, 'min_...</td>\n",
       "      <td>0.759348</td>\n",
       "      <td>0.772474</td>\n",
       "      <td>0.766110</td>\n",
       "      <td>0.857200</td>\n",
       "      <td>0.870673</td>\n",
       "      <td>0.805161</td>\n",
       "      <td>0.048357</td>\n",
       "      <td>5</td>\n",
       "    </tr>\n",
       "    <tr>\n",
       "      <th>29</th>\n",
       "      <td>0.929456</td>\n",
       "      <td>0.057097</td>\n",
       "      <td>0.047351</td>\n",
       "      <td>0.005733</td>\n",
       "      <td>entropy</td>\n",
       "      <td>5</td>\n",
       "      <td>5</td>\n",
       "      <td>{'criterion': 'entropy', 'max_depth': 5, 'min_...</td>\n",
       "      <td>0.765314</td>\n",
       "      <td>0.768496</td>\n",
       "      <td>0.764916</td>\n",
       "      <td>0.859984</td>\n",
       "      <td>0.868683</td>\n",
       "      <td>0.805479</td>\n",
       "      <td>0.048149</td>\n",
       "      <td>2</td>\n",
       "    </tr>\n",
       "    <tr>\n",
       "      <th>30</th>\n",
       "      <td>0.980742</td>\n",
       "      <td>0.085524</td>\n",
       "      <td>0.058692</td>\n",
       "      <td>0.017391</td>\n",
       "      <td>entropy</td>\n",
       "      <td>5</td>\n",
       "      <td>10</td>\n",
       "      <td>{'criterion': 'entropy', 'max_depth': 5, 'min_...</td>\n",
       "      <td>0.761337</td>\n",
       "      <td>0.774065</td>\n",
       "      <td>0.762132</td>\n",
       "      <td>0.856006</td>\n",
       "      <td>0.863510</td>\n",
       "      <td>0.803410</td>\n",
       "      <td>0.046289</td>\n",
       "      <td>8</td>\n",
       "    </tr>\n",
       "    <tr>\n",
       "      <th>31</th>\n",
       "      <td>1.086203</td>\n",
       "      <td>0.048044</td>\n",
       "      <td>0.067901</td>\n",
       "      <td>0.015155</td>\n",
       "      <td>entropy</td>\n",
       "      <td>5</td>\n",
       "      <td>25</td>\n",
       "      <td>{'criterion': 'entropy', 'max_depth': 5, 'min_...</td>\n",
       "      <td>0.764916</td>\n",
       "      <td>0.772872</td>\n",
       "      <td>0.767303</td>\n",
       "      <td>0.854415</td>\n",
       "      <td>0.859928</td>\n",
       "      <td>0.803887</td>\n",
       "      <td>0.043618</td>\n",
       "      <td>6</td>\n",
       "    </tr>\n",
       "  </tbody>\n",
       "</table>\n",
       "</div>"
      ],
      "text/plain": [
       "    mean_fit_time  std_fit_time  mean_score_time  std_score_time  \\\n",
       "0        0.822372      0.272337         0.058493        0.035720   \n",
       "1        0.458452      0.012625         0.034367        0.000902   \n",
       "2        0.459573      0.016223         0.033650        0.001314   \n",
       "3        0.451393      0.010655         0.034020        0.001099   \n",
       "4        0.578793      0.040526         0.061877        0.039081   \n",
       "5        0.677562      0.071444         0.050620        0.013538   \n",
       "6        0.621791      0.091344         0.036627        0.001181   \n",
       "7        0.572211      0.042154         0.038809        0.005756   \n",
       "8        0.633427      0.017446         0.037881        0.000826   \n",
       "9        0.624907      0.012967         0.037537        0.000763   \n",
       "10       0.653007      0.027638         0.038652        0.002584   \n",
       "11       0.636539      0.019103         0.037330        0.000996   \n",
       "12       0.837900      0.029603         0.046506        0.004921   \n",
       "13       0.859316      0.051056         0.045167        0.002812   \n",
       "14       0.827917      0.025207         0.043041        0.000900   \n",
       "15       0.968559      0.070089         0.050890        0.006694   \n",
       "16       0.458877      0.017945         0.032043        0.001001   \n",
       "17       0.432523      0.008821         0.032562        0.001010   \n",
       "18       0.581812      0.166383         0.057815        0.028414   \n",
       "19       0.452694      0.033734         0.032797        0.001313   \n",
       "20       0.557480      0.034286         0.036223        0.002388   \n",
       "21       0.551733      0.028706         0.036275        0.002491   \n",
       "22       0.531306      0.010187         0.033696        0.000567   \n",
       "23       0.650853      0.157980         0.035103        0.000724   \n",
       "24       0.759579      0.053596         0.046314        0.010138   \n",
       "25       0.884585      0.142208         0.054858        0.010883   \n",
       "26       0.728905      0.076283         0.041745        0.006348   \n",
       "27       0.827694      0.105842         0.051117        0.011184   \n",
       "28       1.016101      0.146328         0.048605        0.003493   \n",
       "29       0.929456      0.057097         0.047351        0.005733   \n",
       "30       0.980742      0.085524         0.058692        0.017391   \n",
       "31       1.086203      0.048044         0.067901        0.015155   \n",
       "\n",
       "   param_criterion param_max_depth param_min_samples_leaf  \\\n",
       "0             gini               1                      1   \n",
       "1             gini               1                      5   \n",
       "2             gini               1                     10   \n",
       "3             gini               1                     25   \n",
       "4             gini               2                      1   \n",
       "5             gini               2                      5   \n",
       "6             gini               2                     10   \n",
       "7             gini               2                     25   \n",
       "8             gini               3                      1   \n",
       "9             gini               3                      5   \n",
       "10            gini               3                     10   \n",
       "11            gini               3                     25   \n",
       "12            gini               5                      1   \n",
       "13            gini               5                      5   \n",
       "14            gini               5                     10   \n",
       "15            gini               5                     25   \n",
       "16         entropy               1                      1   \n",
       "17         entropy               1                      5   \n",
       "18         entropy               1                     10   \n",
       "19         entropy               1                     25   \n",
       "20         entropy               2                      1   \n",
       "21         entropy               2                      5   \n",
       "22         entropy               2                     10   \n",
       "23         entropy               2                     25   \n",
       "24         entropy               3                      1   \n",
       "25         entropy               3                      5   \n",
       "26         entropy               3                     10   \n",
       "27         entropy               3                     25   \n",
       "28         entropy               5                      1   \n",
       "29         entropy               5                      5   \n",
       "30         entropy               5                     10   \n",
       "31         entropy               5                     25   \n",
       "\n",
       "                                               params  split0_test_score  \\\n",
       "0   {'criterion': 'gini', 'max_depth': 1, 'min_sam...           0.612570   \n",
       "1   {'criterion': 'gini', 'max_depth': 1, 'min_sam...           0.612570   \n",
       "2   {'criterion': 'gini', 'max_depth': 1, 'min_sam...           0.612570   \n",
       "3   {'criterion': 'gini', 'max_depth': 1, 'min_sam...           0.612570   \n",
       "4   {'criterion': 'gini', 'max_depth': 2, 'min_sam...           0.706046   \n",
       "5   {'criterion': 'gini', 'max_depth': 2, 'min_sam...           0.706046   \n",
       "6   {'criterion': 'gini', 'max_depth': 2, 'min_sam...           0.706046   \n",
       "7   {'criterion': 'gini', 'max_depth': 2, 'min_sam...           0.706046   \n",
       "8   {'criterion': 'gini', 'max_depth': 3, 'min_sam...           0.731901   \n",
       "9   {'criterion': 'gini', 'max_depth': 3, 'min_sam...           0.731901   \n",
       "10  {'criterion': 'gini', 'max_depth': 3, 'min_sam...           0.732299   \n",
       "11  {'criterion': 'gini', 'max_depth': 3, 'min_sam...           0.733492   \n",
       "12  {'criterion': 'gini', 'max_depth': 5, 'min_sam...           0.762132   \n",
       "13  {'criterion': 'gini', 'max_depth': 5, 'min_sam...           0.764916   \n",
       "14  {'criterion': 'gini', 'max_depth': 5, 'min_sam...           0.765314   \n",
       "15  {'criterion': 'gini', 'max_depth': 5, 'min_sam...           0.764121   \n",
       "16  {'criterion': 'entropy', 'max_depth': 1, 'min_...           0.612967   \n",
       "17  {'criterion': 'entropy', 'max_depth': 1, 'min_...           0.612967   \n",
       "18  {'criterion': 'entropy', 'max_depth': 1, 'min_...           0.612967   \n",
       "19  {'criterion': 'entropy', 'max_depth': 1, 'min_...           0.612967   \n",
       "20  {'criterion': 'entropy', 'max_depth': 2, 'min_...           0.704455   \n",
       "21  {'criterion': 'entropy', 'max_depth': 2, 'min_...           0.704455   \n",
       "22  {'criterion': 'entropy', 'max_depth': 2, 'min_...           0.704455   \n",
       "23  {'criterion': 'entropy', 'max_depth': 2, 'min_...           0.704455   \n",
       "24  {'criterion': 'entropy', 'max_depth': 3, 'min_...           0.730310   \n",
       "25  {'criterion': 'entropy', 'max_depth': 3, 'min_...           0.729912   \n",
       "26  {'criterion': 'entropy', 'max_depth': 3, 'min_...           0.730310   \n",
       "27  {'criterion': 'entropy', 'max_depth': 3, 'min_...           0.729912   \n",
       "28  {'criterion': 'entropy', 'max_depth': 5, 'min_...           0.759348   \n",
       "29  {'criterion': 'entropy', 'max_depth': 5, 'min_...           0.765314   \n",
       "30  {'criterion': 'entropy', 'max_depth': 5, 'min_...           0.761337   \n",
       "31  {'criterion': 'entropy', 'max_depth': 5, 'min_...           0.764916   \n",
       "\n",
       "    split1_test_score  split2_test_score  split3_test_score  \\\n",
       "0            0.612967           0.612172           0.619730   \n",
       "1            0.612967           0.612172           0.619730   \n",
       "2            0.612967           0.612172           0.619730   \n",
       "3            0.612967           0.612172           0.619730   \n",
       "4            0.708831           0.715195           0.785601   \n",
       "5            0.708831           0.715195           0.785601   \n",
       "6            0.708831           0.715195           0.785601   \n",
       "7            0.708831           0.715593           0.785998   \n",
       "8            0.741448           0.743039           0.818218   \n",
       "9            0.741050           0.743437           0.818218   \n",
       "10           0.739061           0.743835           0.821400   \n",
       "11           0.741448           0.743835           0.820207   \n",
       "12           0.771281           0.770485           0.854415   \n",
       "13           0.762132           0.770088           0.861575   \n",
       "14           0.767701           0.770088           0.857597   \n",
       "15           0.770883           0.769292           0.854813   \n",
       "16           0.612967           0.611376           0.619332   \n",
       "17           0.612967           0.611376           0.619332   \n",
       "18           0.612967           0.611376           0.619332   \n",
       "19           0.612967           0.611376           0.619332   \n",
       "20           0.708433           0.712013           0.785203   \n",
       "21           0.708433           0.712013           0.784805   \n",
       "22           0.708433           0.712013           0.784805   \n",
       "23           0.708433           0.712411           0.784407   \n",
       "24           0.737868           0.743039           0.819014   \n",
       "25           0.737868           0.742243           0.819014   \n",
       "26           0.736675           0.743039           0.820207   \n",
       "27           0.734686           0.745028           0.820207   \n",
       "28           0.772474           0.766110           0.857200   \n",
       "29           0.768496           0.764916           0.859984   \n",
       "30           0.774065           0.762132           0.856006   \n",
       "31           0.772872           0.767303           0.854415   \n",
       "\n",
       "    split4_test_score  mean_test_score  std_test_score  rank_test_score  \n",
       "0            0.627935         0.617075        0.006102               25  \n",
       "1            0.627935         0.617075        0.006102               25  \n",
       "2            0.627935         0.617075        0.006102               25  \n",
       "3            0.627935         0.617075        0.006102               25  \n",
       "4            0.799045         0.742943        0.040650               19  \n",
       "5            0.799045         0.742943        0.040650               19  \n",
       "6            0.799841         0.743103        0.040870               18  \n",
       "7            0.799443         0.743182        0.040789               17  \n",
       "8            0.829288         0.772779        0.041940               14  \n",
       "9            0.829288         0.772779        0.041944               14  \n",
       "10           0.829686         0.773256        0.042929                9  \n",
       "11           0.827298         0.773256        0.041433               10  \n",
       "12           0.868285         0.805320        0.046070                3  \n",
       "13           0.870275         0.805797        0.049237                1  \n",
       "14           0.865897         0.805319        0.046173                4  \n",
       "15           0.859133         0.803648        0.043618                7  \n",
       "16           0.627935         0.616916        0.006150               29  \n",
       "17           0.627935         0.616916        0.006150               29  \n",
       "18           0.627935         0.616916        0.006150               29  \n",
       "19           0.627935         0.616916        0.006150               29  \n",
       "20           0.801830         0.742387        0.042145               21  \n",
       "21           0.801830         0.742307        0.042064               22  \n",
       "22           0.801830         0.742307        0.042064               22  \n",
       "23           0.801035         0.742148        0.041702               24  \n",
       "24           0.833665         0.772779        0.044162               13  \n",
       "25           0.833665         0.772540        0.044347               16  \n",
       "26           0.834461         0.772938        0.044823               12  \n",
       "27           0.836053         0.773177        0.045411               11  \n",
       "28           0.870673         0.805161        0.048357                5  \n",
       "29           0.868683         0.805479        0.048149                2  \n",
       "30           0.863510         0.803410        0.046289                8  \n",
       "31           0.859928         0.803887        0.043618                6  "
      ]
     },
     "execution_count": 76,
     "metadata": {},
     "output_type": "execute_result"
    }
   ],
   "source": [
    "pd.DataFrame(rf_gs.cv_results_)"
   ]
  },
  {
   "cell_type": "code",
   "execution_count": 77,
   "metadata": {},
   "outputs": [
    {
     "data": {
      "text/plain": [
       "0.8057971578816406"
      ]
     },
     "execution_count": 77,
     "metadata": {},
     "output_type": "execute_result"
    }
   ],
   "source": [
    "rf_gs.best_score_"
   ]
  },
  {
   "cell_type": "code",
   "execution_count": 78,
   "metadata": {},
   "outputs": [
    {
     "data": {
      "text/plain": [
       "RandomForestClassifier(max_depth=5, min_samples_leaf=10, random_state=88)"
      ]
     },
     "execution_count": 78,
     "metadata": {},
     "output_type": "execute_result"
    }
   ],
   "source": [
    "rf_2 = RandomForestClassifier(criterion='gini', max_depth=5, min_samples_leaf=10, random_state=88)\n",
    "rf_2.fit(X_train_sm, y_train_sm)"
   ]
  },
  {
   "cell_type": "code",
   "execution_count": 79,
   "metadata": {},
   "outputs": [
    {
     "data": {
      "text/plain": [
       "array([0.7645187 , 0.76372315, 0.76372315, 0.77486078, 0.76292761,\n",
       "       0.76929196, 0.81543357, 0.88941925, 0.88305489, 0.87340764])"
      ]
     },
     "execution_count": 79,
     "metadata": {},
     "output_type": "execute_result"
    }
   ],
   "source": [
    "rf2_cv = cross_val_score(rf_2, X_train_sm, y_train_sm, cv=10)\n",
    "rf2_cv"
   ]
  },
  {
   "cell_type": "code",
   "execution_count": 80,
   "metadata": {},
   "outputs": [
    {
     "data": {
      "text/plain": [
       "0.8060360706160153"
      ]
     },
     "execution_count": 80,
     "metadata": {},
     "output_type": "execute_result"
    }
   ],
   "source": [
    "rf2_cv.mean()"
   ]
  },
  {
   "cell_type": "code",
   "execution_count": 81,
   "metadata": {},
   "outputs": [
    {
     "data": {
      "image/png": "[encoded data removed]",
      "text/plain": [
       "<Figure size 432x288 with 1 Axes>"
      ]
     },
     "metadata": {
      "needs_background": "light"
     },
     "output_type": "display_data"
    }
   ],
   "source": [
    "sns.violinplot(y=rf2_cv, bw=.4)\n",
    "sns.swarmplot(y=rf2_cv, color='orange', size=10, alpha=0.8);"
   ]
  },
  {
   "cell_type": "code",
   "execution_count": 82,
   "metadata": {},
   "outputs": [
    {
     "name": "stdout",
     "output_type": "stream",
     "text": [
      "Accuracy: 0.7949570518149072\n",
      "Precision: 0.7662538699690402\n",
      "Recall: 0.4566420664206642\n",
      "F1 Score: 0.5722543352601156\n"
     ]
    }
   ],
   "source": [
    "#Tuned params scoring -worse!\n",
    "rf_sm2_preds = rf_2.predict(X_test_clean)\n",
    "\n",
    "print('Accuracy:', accuracy_score(y_test, rf_sm2_preds))\n",
    "print('Precision:', precision_score(y_test, rf_sm2_preds))\n",
    "print('Recall:', recall_score(y_test, rf_sm2_preds))\n",
    "print('F1 Score:', f1_score(y_test, rf_sm2_preds))"
   ]
  },
  {
   "cell_type": "code",
   "execution_count": null,
   "metadata": {},
   "outputs": [],
   "source": []
  },
  {
   "cell_type": "code",
   "execution_count": null,
   "metadata": {},
   "outputs": [],
   "source": []
  },
  {
   "cell_type": "markdown",
   "metadata": {},
   "source": [
    "### AdaBoost and GradientBoost"
   ]
  },
  {
   "cell_type": "code",
   "execution_count": 100,
   "metadata": {},
   "outputs": [],
   "source": [
    "from sklearn.ensemble import AdaBoostClassifier, GradientBoostingClassifier"
   ]
  },
  {
   "cell_type": "code",
   "execution_count": 101,
   "metadata": {},
   "outputs": [
    {
     "data": {
      "text/plain": [
       "AdaBoostClassifier(random_state=88)"
      ]
     },
     "execution_count": 101,
     "metadata": {},
     "output_type": "execute_result"
    }
   ],
   "source": [
    "#AdaBoost base for comparison\n",
    "abc = AdaBoostClassifier(random_state=88)\n",
    "\n",
    "abc.fit(X_train_clean, y_train)"
   ]
  },
  {
   "cell_type": "code",
   "execution_count": 102,
   "metadata": {},
   "outputs": [
    {
     "data": {
      "text/plain": [
       "array([0.81154734, 0.81755196, 0.82817552, 0.82494226, 0.81377079])"
      ]
     },
     "execution_count": 102,
     "metadata": {},
     "output_type": "execute_result"
    }
   ],
   "source": [
    "abc_cv = cross_val_score(abc, X_train_clean, y_train, cv=5)\n",
    "abc_cv"
   ]
  },
  {
   "cell_type": "code",
   "execution_count": 103,
   "metadata": {},
   "outputs": [
    {
     "data": {
      "text/plain": [
       "0.8191975769787367"
      ]
     },
     "execution_count": 103,
     "metadata": {},
     "output_type": "execute_result"
    }
   ],
   "source": [
    "abc_cv.mean()"
   ]
  },
  {
   "cell_type": "code",
   "execution_count": 104,
   "metadata": {},
   "outputs": [],
   "source": [
    "#Trying with SMOTE evened out data for comparison to uneven class distribution\n",
    "abc_sm = abc.fit(X_train_sm, y_train_sm)"
   ]
  },
  {
   "cell_type": "code",
   "execution_count": 105,
   "metadata": {},
   "outputs": [
    {
     "data": {
      "text/plain": [
       "array([0.78281623, 0.79793158, 0.78918059, 0.86435959, 0.87544767])"
      ]
     },
     "execution_count": 105,
     "metadata": {},
     "output_type": "execute_result"
    }
   ],
   "source": [
    "#cross validate SMOTE train data\n",
    "abc_sm_cv = cross_val_score(abc_sm, X_train_sm, y_train_sm, cv=5)\n",
    "abc_sm_cv"
   ]
  },
  {
   "cell_type": "code",
   "execution_count": 106,
   "metadata": {},
   "outputs": [
    {
     "data": {
      "text/plain": [
       "0.8219471318752669"
      ]
     },
     "execution_count": 106,
     "metadata": {},
     "output_type": "execute_result"
    }
   ],
   "source": [
    "#average training score \n",
    "abc_sm_cv.mean()"
   ]
  },
  {
   "cell_type": "code",
   "execution_count": 108,
   "metadata": {},
   "outputs": [
    {
     "data": {
      "image/png": "[encoded data removed]",
      "text/plain": [
       "<Figure size 432x288 with 1 Axes>"
      ]
     },
     "metadata": {
      "needs_background": "light"
     },
     "output_type": "display_data"
    }
   ],
   "source": [
    "sns.violinplot(y=abc_sm_cv, bw=.4)\n",
    "sns.swarmplot(y=abc_sm_cv, color='orange', size=10, alpha=0.8);"
   ]
  },
  {
   "cell_type": "code",
   "execution_count": 109,
   "metadata": {},
   "outputs": [],
   "source": [
    "#GridSearch to try and optimize\n",
    "ada_grid = {\n",
    "    'learning_rate': [0.1, 0.5, 1.0],\n",
    "    'n_estimators': [25, 50, 100]\n",
    "}"
   ]
  },
  {
   "cell_type": "code",
   "execution_count": 110,
   "metadata": {},
   "outputs": [],
   "source": [
    "gs_ada = GridSearchCV(abc_sm, ada_grid, cv=5)"
   ]
  },
  {
   "cell_type": "code",
   "execution_count": 111,
   "metadata": {},
   "outputs": [
    {
     "data": {
      "text/plain": [
       "GridSearchCV(cv=5, estimator=AdaBoostClassifier(random_state=88),\n",
       "             param_grid={'learning_rate': [0.1, 0.5, 1.0],\n",
       "                         'n_estimators': [25, 50, 100]})"
      ]
     },
     "execution_count": 111,
     "metadata": {},
     "output_type": "execute_result"
    }
   ],
   "source": [
    "gs_ada.fit(X_train_sm, y_train_sm)"
   ]
  },
  {
   "cell_type": "code",
   "execution_count": 113,
   "metadata": {},
   "outputs": [
    {
     "data": {
      "text/plain": [
       "{'learning_rate': 1.0, 'n_estimators': 100}"
      ]
     },
     "execution_count": 113,
     "metadata": {},
     "output_type": "execute_result"
    }
   ],
   "source": [
    "gs_ada.best_params_"
   ]
  },
  {
   "cell_type": "code",
   "execution_count": 114,
   "metadata": {},
   "outputs": [
    {
     "data": {
      "text/plain": [
       "0.828551896091003"
      ]
     },
     "execution_count": 114,
     "metadata": {},
     "output_type": "execute_result"
    }
   ],
   "source": [
    "gs_ada.best_score_"
   ]
  },
  {
   "cell_type": "code",
   "execution_count": 115,
   "metadata": {},
   "outputs": [
    {
     "data": {
      "image/png": "[encoded data removed]",
      "text/plain": [
       "<Figure size 432x288 with 1 Axes>"
      ]
     },
     "metadata": {
      "needs_background": "light"
     },
     "output_type": "display_data"
    }
   ],
   "source": [
    "sns.violinplot(y=gs_ada.cv_results_['mean_test_score'], bw=.4)\n",
    "sns.swarmplot(y=gs_ada.cv_results_['mean_test_score'], color='orange', size=10, alpha=0.8);"
   ]
  },
  {
   "cell_type": "code",
   "execution_count": 120,
   "metadata": {},
   "outputs": [
    {
     "data": {
      "text/plain": [
       "<sklearn.metrics._plot.confusion_matrix.ConfusionMatrixDisplay at 0x7f7d6139c730>"
      ]
     },
     "execution_count": 120,
     "metadata": {},
     "output_type": "execute_result"
    },
    {
     "data": {
      "image/png": "[encoded data removed]",
      "text/plain": [
       "<Figure size 432x288 with 2 Axes>"
      ]
     },
     "metadata": {
      "needs_background": "light"
     },
     "output_type": "display_data"
    }
   ],
   "source": [
    "plot_confusion_matrix(gs_ada, X_test_clean, y_test)"
   ]
  },
  {
   "cell_type": "code",
   "execution_count": 121,
   "metadata": {},
   "outputs": [
    {
     "data": {
      "text/plain": [
       "<sklearn.metrics._plot.roc_curve.RocCurveDisplay at 0x7f7d61de61c0>"
      ]
     },
     "execution_count": 121,
     "metadata": {},
     "output_type": "execute_result"
    },
    {
     "data": {
      "image/png": "[encoded data removed]",
      "text/plain": [
       "<Figure size 432x288 with 1 Axes>"
      ]
     },
     "metadata": {
      "needs_background": "light"
     },
     "output_type": "display_data"
    }
   ],
   "source": [
    "plot_roc_curve(gs_ada, X_test_clean, y_test)"
   ]
  },
  {
   "cell_type": "code",
   "execution_count": 122,
   "metadata": {},
   "outputs": [
    {
     "data": {
      "text/plain": [
       "<sklearn.metrics._plot.precision_recall_curve.PrecisionRecallDisplay at 0x7f7d61de60d0>"
      ]
     },
     "execution_count": 122,
     "metadata": {},
     "output_type": "execute_result"
    },
    {
     "data": {
      "image/png": "[encoded data removed]",
      "text/plain": [
       "<Figure size 432x288 with 1 Axes>"
      ]
     },
     "metadata": {
      "needs_background": "light"
     },
     "output_type": "display_data"
    }
   ],
   "source": [
    "plot_precision_recall_curve(gs_ada, X_test_clean, y_test)"
   ]
  },
  {
   "cell_type": "code",
   "execution_count": 132,
   "metadata": {},
   "outputs": [
    {
     "name": "stdout",
     "output_type": "stream",
     "text": [
      "Accuracy: 0.81\n",
      "Precision: 0.72\n",
      "Recall: 0.59\n",
      "F1 Score: 0.64\n"
     ]
    }
   ],
   "source": [
    "print('Accuracy:', round(accuracy_score(y_test, gs_ada.predict(X_test_clean)), 2))\n",
    "print('Precision:', round(precision_score(y_test, gs_ada.predict(X_test_clean)), 2))\n",
    "print('Recall:', round(recall_score(y_test, gs_ada.predict(X_test_clean)), 2))\n",
    "print('F1 Score:', round(f1_score(y_test, gs_ada.predict(X_test_clean)), 2))"
   ]
  },
  {
   "cell_type": "markdown",
   "metadata": {},
   "source": [
    "### GradientBoost"
   ]
  },
  {
   "cell_type": "code",
   "execution_count": 162,
   "metadata": {},
   "outputs": [
    {
     "data": {
      "text/plain": [
       "GradientBoostingClassifier(random_state=88)"
      ]
     },
     "execution_count": 162,
     "metadata": {},
     "output_type": "execute_result"
    }
   ],
   "source": [
    "#GBoost base model to compare to Ada - unbalanced class distribution\n",
    "gbc = GradientBoostingClassifier(random_state=88)\n",
    "\n",
    "gbc.fit(X_train_clean, y_train)"
   ]
  },
  {
   "cell_type": "code",
   "execution_count": 163,
   "metadata": {},
   "outputs": [
    {
     "data": {
      "text/plain": [
       "array([0.82124711, 0.82540416, 0.82909931, 0.81847575, 0.81377079])"
      ]
     },
     "execution_count": 163,
     "metadata": {},
     "output_type": "execute_result"
    }
   ],
   "source": [
    "#cross validate\n",
    "gbc_cv = cross_val_score(gbc, X_train_clean, y_train, cv=5)\n",
    "gbc_cv"
   ]
  },
  {
   "cell_type": "code",
   "execution_count": 164,
   "metadata": {},
   "outputs": [
    {
     "data": {
      "text/plain": [
       "0.8215994245537944"
      ]
     },
     "execution_count": 164,
     "metadata": {},
     "output_type": "execute_result"
    }
   ],
   "source": [
    "#average training score\n",
    "gbc_cv.mean()"
   ]
  },
  {
   "cell_type": "code",
   "execution_count": 165,
   "metadata": {},
   "outputs": [],
   "source": [
    "#Trying with SMOTE data for comparison\n",
    "gbc_sm = gbc.fit(X_train_sm, y_train_sm)"
   ]
  },
  {
   "cell_type": "code",
   "execution_count": 167,
   "metadata": {},
   "outputs": [
    {
     "data": {
      "text/plain": [
       "array([0.78480509, 0.79872713, 0.79236277, 0.89459029, 0.90847593])"
      ]
     },
     "execution_count": 167,
     "metadata": {},
     "output_type": "execute_result"
    }
   ],
   "source": [
    "#cross validate on SMOTE training data\n",
    "gbc_sm_cv = cross_val_score(gbc_sm, X_train_sm, y_train_sm)\n",
    "gbc_sm_cv"
   ]
  },
  {
   "cell_type": "code",
   "execution_count": 168,
   "metadata": {},
   "outputs": [
    {
     "data": {
      "text/plain": [
       "0.8357922415214947"
      ]
     },
     "execution_count": 168,
     "metadata": {},
     "output_type": "execute_result"
    }
   ],
   "source": [
    "#average cross validated score - improved over imbalanced class data and over Adaboost\n",
    "gbc_sm_cv.mean()"
   ]
  },
  {
   "cell_type": "code",
   "execution_count": 196,
   "metadata": {},
   "outputs": [
    {
     "name": "stdout",
     "output_type": "stream",
     "text": [
      "Accuracy: 0.81\n",
      "Precision: 0.73\n",
      "Recall: 0.58\n",
      "F1 Score: 0.65\n"
     ]
    }
   ],
   "source": [
    "#Untuned SMOTE model scoring\n",
    "print('Accuracy:', round(accuracy_score(y_test, gbc_sm.predict(X_test_clean)), 2))\n",
    "print('Precision:', round(precision_score(y_test, gbc_sm.predict(X_test_clean)), 2))\n",
    "print('Recall:', round(recall_score(y_test, gbc_sm.predict(X_test_clean)), 2))\n",
    "print('F1 Score:', round(f1_score(y_test, gbc_sm.predict(X_test_clean)), 2))"
   ]
  },
  {
   "cell_type": "code",
   "execution_count": 169,
   "metadata": {},
   "outputs": [],
   "source": [
    "#additional validations = improved scores?\n",
    "gbc_sm_2 = gbc.fit(X_train_sm, y_train_sm)"
   ]
  },
  {
   "cell_type": "code",
   "execution_count": 170,
   "metadata": {},
   "outputs": [
    {
     "data": {
      "text/plain": [
       "array([0.78440732, 0.78838504, 0.79315831, 0.80827367, 0.79077168,\n",
       "       0.79952267, 0.85759745, 0.94669849, 0.92442323, 0.91640127])"
      ]
     },
     "execution_count": 170,
     "metadata": {},
     "output_type": "execute_result"
    }
   ],
   "source": [
    "#up CV to 10 for theory testing \n",
    "gbc_sm_cv_2 = cross_val_score(gbc_sm_2, X_train_sm, y_train_sm, cv=10)\n",
    "gbc_sm_cv_2"
   ]
  },
  {
   "cell_type": "code",
   "execution_count": 171,
   "metadata": {},
   "outputs": [
    {
     "data": {
      "text/plain": [
       "0.8409639141824888"
      ]
     },
     "execution_count": 171,
     "metadata": {},
     "output_type": "execute_result"
    }
   ],
   "source": [
    "#minor improvement - GridSearchCV next for optimal parameter search\n",
    "gbc_sm_cv_2.mean()"
   ]
  },
  {
   "cell_type": "code",
   "execution_count": 172,
   "metadata": {},
   "outputs": [],
   "source": [
    "gbc_grid = {\n",
    "    'learning_rate': [0.1, 0.5, 1],\n",
    "    'n_estimators': [50, 100, 200]\n",
    "}"
   ]
  },
  {
   "cell_type": "code",
   "execution_count": 173,
   "metadata": {},
   "outputs": [],
   "source": [
    "gbc_sm_gs = GridSearchCV(gbc, gbc_grid, cv=10)"
   ]
  },
  {
   "cell_type": "code",
   "execution_count": 174,
   "metadata": {},
   "outputs": [
    {
     "data": {
      "text/plain": [
       "GridSearchCV(cv=10, estimator=GradientBoostingClassifier(random_state=88),\n",
       "             param_grid={'learning_rate': [0.1, 0.5, 1],\n",
       "                         'n_estimators': [50, 100, 200]})"
      ]
     },
     "execution_count": 174,
     "metadata": {},
     "output_type": "execute_result"
    }
   ],
   "source": [
    "gbc_sm_gs.fit(X_train_sm, y_train_sm)"
   ]
  },
  {
   "cell_type": "code",
   "execution_count": 175,
   "metadata": {},
   "outputs": [
    {
     "name": "stdout",
     "output_type": "stream",
     "text": [
      "Accuracy: 0.8082571349404267\n",
      "Precision: 0.7273781902552204\n",
      "Recall: 0.5784132841328413\n",
      "F1 Score: 0.644398766700925\n"
     ]
    }
   ],
   "source": [
    "predictions = gbc_sm_gs.predict(X_test_clean)\n",
    "print('Accuracy:', accuracy_score(y_test, predictions))\n",
    "print('Precision:', precision_score(y_test, predictions))\n",
    "print('Recall:', recall_score(y_test, predictions))\n",
    "print('F1 Score:', f1_score(y_test, predictions))"
   ]
  },
  {
   "cell_type": "code",
   "execution_count": 176,
   "metadata": {},
   "outputs": [
    {
     "data": {
      "text/plain": [
       "{'learning_rate': 0.5, 'n_estimators': 50}"
      ]
     },
     "execution_count": 176,
     "metadata": {},
     "output_type": "execute_result"
    }
   ],
   "source": [
    "gbc_sm_gs.best_params_"
   ]
  },
  {
   "cell_type": "code",
   "execution_count": 177,
   "metadata": {},
   "outputs": [
    {
     "data": {
      "text/plain": [
       "0.8431122655802664"
      ]
     },
     "execution_count": 177,
     "metadata": {},
     "output_type": "execute_result"
    }
   ],
   "source": [
    "gbc_sm_gs.best_score_\n",
    "#ran secondary check for max depths below - max depth returns same score\n",
    "#Optimal params per this GSCV {'learning_rate': 0.5, 'max_depth': 3, 'n_estimators': 50}"
   ]
  },
  {
   "cell_type": "markdown",
   "metadata": {},
   "source": [
    "##### I've commented out the cells below due to runtime on the GridSearch for these code blocks. I wanted to show the iterations I performed but not unnecessarily run them in anyone else's notebook to yield the exact same score. The gbc_sm_gs GridSearch and gbc_sm_gs2 return the same performance in terms of best scores, which makes sense as the gbc_sm_gs2 identified max_depth optimal hyperparameter to be equal to 3, which is the default and was set in gbc_sm_gs. "
   ]
  },
  {
   "cell_type": "code",
   "execution_count": 178,
   "metadata": {},
   "outputs": [],
   "source": [
    "#checking alternate depths\n",
    "# gbc_grid2 = {\n",
    "#     'learning_rate': [0.5],\n",
    "#     'n_estimators': [50],\n",
    "#     'max_depth': [1,3,5]\n",
    "# }"
   ]
  },
  {
   "cell_type": "code",
   "execution_count": 179,
   "metadata": {},
   "outputs": [],
   "source": [
    "# gbc_sm_gs2 = GridSearchCV(gbc, gbc_grid2, cv=10)"
   ]
  },
  {
   "cell_type": "code",
   "execution_count": 180,
   "metadata": {},
   "outputs": [],
   "source": [
    "# gbc_sm_gs2.fit(X_train_sm, y_train_sm)"
   ]
  },
  {
   "cell_type": "code",
   "execution_count": 181,
   "metadata": {},
   "outputs": [],
   "source": [
    "#gbc_sm_gs2.best_params_"
   ]
  },
  {
   "cell_type": "code",
   "execution_count": 182,
   "metadata": {},
   "outputs": [],
   "source": [
    "#score is exactly the same - best params {'learning_rate': 0.5, 'max_depth': 3, 'n_estimators': 50}\n",
    "#gbc_sm_gs2.best_score_"
   ]
  },
  {
   "cell_type": "code",
   "execution_count": 183,
   "metadata": {},
   "outputs": [
    {
     "data": {
      "text/plain": [
       "GradientBoostingClassifier(learning_rate=0.5, n_estimators=50, random_state=88)"
      ]
     },
     "execution_count": 183,
     "metadata": {},
     "output_type": "execute_result"
    }
   ],
   "source": [
    "gb_final = GradientBoostingClassifier(learning_rate=0.5,max_depth=3,n_estimators=50, random_state=88)\n",
    "gb_final.fit(X_train_sm, y_train_sm)"
   ]
  },
  {
   "cell_type": "code",
   "execution_count": 184,
   "metadata": {},
   "outputs": [
    {
     "data": {
      "text/plain": [
       "array([0.78520286, 0.79315831, 0.79077168, 0.80429594, 0.78838504,\n",
       "       0.80190931, 0.85998409, 0.95147176, 0.93476531, 0.92117834])"
      ]
     },
     "execution_count": 184,
     "metadata": {},
     "output_type": "execute_result"
    }
   ],
   "source": [
    "gb_final_cv = cross_val_score(gb_final, X_train_sm, y_train_sm, cv=10)\n",
    "gb_final_cv"
   ]
  },
  {
   "cell_type": "code",
   "execution_count": 185,
   "metadata": {},
   "outputs": [
    {
     "data": {
      "text/plain": [
       "0.8431122655802664"
      ]
     },
     "execution_count": 185,
     "metadata": {},
     "output_type": "execute_result"
    }
   ],
   "source": [
    "gb_final_cv.mean()"
   ]
  },
  {
   "cell_type": "code",
   "execution_count": 186,
   "metadata": {},
   "outputs": [
    {
     "data": {
      "image/png": "[encoded data removed]",
      "text/plain": [
       "<Figure size 432x288 with 1 Axes>"
      ]
     },
     "metadata": {
      "needs_background": "light"
     },
     "output_type": "display_data"
    }
   ],
   "source": [
    "sns.violinplot(y=gb_final_cv, bw=.4)\n",
    "sns.swarmplot(y=gb_final_cv, color='orange', size=10, alpha=0.8);"
   ]
  },
  {
   "cell_type": "code",
   "execution_count": 187,
   "metadata": {
    "scrolled": true
   },
   "outputs": [
    {
     "data": {
      "text/plain": [
       "<sklearn.metrics._plot.confusion_matrix.ConfusionMatrixDisplay at 0x7f7d620a6880>"
      ]
     },
     "execution_count": 187,
     "metadata": {},
     "output_type": "execute_result"
    },
    {
     "data": {
      "image/png": "[encoded data removed]",
      "text/plain": [
       "<Figure size 432x288 with 2 Axes>"
      ]
     },
     "metadata": {
      "needs_background": "light"
     },
     "output_type": "display_data"
    }
   ],
   "source": [
    "plot_confusion_matrix(gb_final, X_test_clean, y_test)"
   ]
  },
  {
   "cell_type": "code",
   "execution_count": 188,
   "metadata": {},
   "outputs": [
    {
     "data": {
      "text/plain": [
       "<sklearn.metrics._plot.roc_curve.RocCurveDisplay at 0x7f7d62691cd0>"
      ]
     },
     "execution_count": 188,
     "metadata": {},
     "output_type": "execute_result"
    },
    {
     "data": {
      "image/png": "[encoded data removed]",
      "text/plain": [
       "<Figure size 432x288 with 1 Axes>"
      ]
     },
     "metadata": {
      "needs_background": "light"
     },
     "output_type": "display_data"
    }
   ],
   "source": [
    "plot_roc_curve(gb_final, X_test_clean, y_test)"
   ]
  },
  {
   "cell_type": "code",
   "execution_count": 189,
   "metadata": {},
   "outputs": [
    {
     "data": {
      "text/plain": [
       "<sklearn.metrics._plot.precision_recall_curve.PrecisionRecallDisplay at 0x7f7d62760b50>"
      ]
     },
     "execution_count": 189,
     "metadata": {},
     "output_type": "execute_result"
    },
    {
     "data": {
      "image/png": "[encoded data removed]",
      "text/plain": [
       "<Figure size 432x288 with 1 Axes>"
      ]
     },
     "metadata": {
      "needs_background": "light"
     },
     "output_type": "display_data"
    }
   ],
   "source": [
    "plot_precision_recall_curve(gb_final, X_test_clean, y_test)"
   ]
  },
  {
   "cell_type": "code",
   "execution_count": 200,
   "metadata": {},
   "outputs": [
    {
     "name": "stdout",
     "output_type": "stream",
     "text": [
      "Accuracy: 0.81\n",
      "Precision: 0.73\n",
      "Recall: 0.58\n",
      "F1 Score: 0.64\n"
     ]
    }
   ],
   "source": [
    "gb_preds = gb_final.predict(X_test_clean)\n",
    "print('Accuracy:', round(accuracy_score(y_test, gb_preds), 2))\n",
    "print('Precision:', round(precision_score(y_test, gb_preds), 2))\n",
    "print('Recall:', round(recall_score(y_test, gb_preds), 2))\n",
    "print('F1 Score:', round(f1_score(y_test, gb_preds), 2))"
   ]
  },
  {
   "cell_type": "code",
   "execution_count": null,
   "metadata": {},
   "outputs": [],
   "source": []
  },
  {
   "cell_type": "code",
   "execution_count": null,
   "metadata": {},
   "outputs": [],
   "source": []
  },
  {
   "cell_type": "code",
   "execution_count": null,
   "metadata": {},
   "outputs": [],
   "source": []
  },
  {
   "cell_type": "code",
   "execution_count": null,
   "metadata": {},
   "outputs": [],
   "source": []
  },
  {
   "cell_type": "code",
   "execution_count": null,
   "metadata": {},
   "outputs": [],
   "source": []
  },
  {
   "cell_type": "code",
   "execution_count": null,
   "metadata": {},
   "outputs": [],
   "source": []
  },
  {
   "cell_type": "code",
   "execution_count": null,
   "metadata": {},
   "outputs": [],
   "source": []
  }
 ],
 "metadata": {
  "kernelspec": {
   "display_name": "Python (learn-env)",
   "language": "python",
   "name": "learn-env"
  },
  "language_info": {
   "codemirror_mode": {
    "name": "ipython",
    "version": 3
   },
   "file_extension": ".py",
   "mimetype": "text/x-python",
   "name": "python",
   "nbconvert_exporter": "python",
   "pygments_lexer": "ipython3",
   "version": "3.8.5"
  }
 },
 "nbformat": 4,
 "nbformat_minor": 4
}
